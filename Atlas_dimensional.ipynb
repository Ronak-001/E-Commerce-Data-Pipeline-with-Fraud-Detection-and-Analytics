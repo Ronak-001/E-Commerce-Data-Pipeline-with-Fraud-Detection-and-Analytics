{
 "cells": [
  {
   "cell_type": "code",
   "execution_count": 0,
   "metadata": {
    "application/vnd.databricks.v1+cell": {
     "cellMetadata": {
      "byteLimit": 2048000,
      "rowLimit": 10000
     },
     "inputWidgets": {},
     "nuid": "8b06b859-3871-4cb8-b093-479be263f01e",
     "showTitle": false,
     "tableResultSettingsMap": {},
     "title": ""
    }
   },
   "outputs": [
    {
     "output_type": "stream",
     "name": "stdout",
     "output_type": "stream",
     "text": [
      "Collecting pymongo\n  Downloading pymongo-4.15.3-cp312-cp312-manylinux2014_aarch64.manylinux_2_17_aarch64.manylinux_2_28_aarch64.whl.metadata (22 kB)\nCollecting dnspython<3.0.0,>=1.16.0 (from pymongo)\n  Downloading dnspython-2.8.0-py3-none-any.whl.metadata (5.7 kB)\nDownloading pymongo-4.15.3-cp312-cp312-manylinux2014_aarch64.manylinux_2_17_aarch64.manylinux_2_28_aarch64.whl (1.7 MB)\n\u001B[?25l   \u001B[90m━━━━━━━━━━━━━━━━━━━━━━━━━━━━━━━━━━━━━━━━\u001B[0m \u001B[32m0.0/1.7 MB\u001B[0m \u001B[31m?\u001B[0m eta \u001B[36m-:--:--\u001B[0m\r\u001B[2K   \u001B[90m━━━━━━━━━━━━━━━━━━━━━━━━━━━━━━━━━━━━━━━━\u001B[0m \u001B[32m1.7/1.7 MB\u001B[0m \u001B[31m36.1 MB/s\u001B[0m eta \u001B[36m0:00:00\u001B[0m\n\u001B[?25hDownloading dnspython-2.8.0-py3-none-any.whl (331 kB)\nInstalling collected packages: dnspython, pymongo\nSuccessfully installed dnspython-2.8.0 pymongo-4.15.3\n\u001B[43mNote: you may need to restart the kernel using %restart_python or dbutils.library.restartPython() to use updated packages.\u001B[0m\n"
     ]
    }
   ],
   "source": [
    "%pip install pymongo"
   ]
  },
  {
   "cell_type": "code",
   "execution_count": 0,
   "metadata": {
    "application/vnd.databricks.v1+cell": {
     "cellMetadata": {
      "byteLimit": 2048000,
      "rowLimit": 10000
     },
     "inputWidgets": {},
     "nuid": "da528dd9-abde-4fbc-b38f-e379a32ab01c",
     "showTitle": false,
     "tableResultSettingsMap": {},
     "title": ""
    }
   },
   "outputs": [],
   "source": [
    "dbutils.library.restartPython()"
   ]
  },
  {
   "cell_type": "code",
   "execution_count": 0,
   "metadata": {
    "application/vnd.databricks.v1+cell": {
     "cellMetadata": {
      "byteLimit": 2048000,
      "rowLimit": 10000
     },
     "inputWidgets": {},
     "nuid": "5ebd1de4-c984-4662-b0dc-c301ca32e51f",
     "showTitle": false,
     "tableResultSettingsMap": {},
     "title": ""
    }
   },
   "outputs": [
    {
     "output_type": "display_data",
     "data": {
      "text/plain": [
       "\u001B[43mWarning you are using the ipython `%run` line magic. To use the databricks `%run` cell magic make sure that the magic is at the very start of the cell.\u001B[0m"
      ]
     },
     "metadata": {},
     "output_type": "display_data"
    }
   ],
   "source": [
    "# importing the transformations class\n",
    "%run \"./utilities.py\"\n",
    "\n",
    "transformer = transformations()"
   ]
  },
  {
   "cell_type": "code",
   "execution_count": 0,
   "metadata": {
    "application/vnd.databricks.v1+cell": {
     "cellMetadata": {
      "byteLimit": 2048000,
      "rowLimit": 10000
     },
     "inputWidgets": {},
     "nuid": "922119c0-35e8-4e76-8a8c-5263fba9b59a",
     "showTitle": false,
     "tableResultSettingsMap": {},
     "title": ""
    }
   },
   "outputs": [
    {
     "output_type": "stream",
     "name": "stdout",
     "output_type": "stream",
     "text": [
      "✅ Upserted into 'dim_customers' — Matched: 0, Modified: 0, Upserted: 10\n✅ Upserted into 'dim_products' — Matched: 0, Modified: 0, Upserted: 16\n✅ All active customer and product records successfully upserted to MongoDB Atlas!\n"
     ]
    }
   ],
   "source": [
    "from pyspark.sql import SparkSession\n",
    "from pymongo import MongoClient\n",
    "import datetime\n",
    "\n",
    "# -------------------------------\n",
    "# \uD83D\uDD39 MongoDB Connection Setup\n",
    "# -------------------------------\n",
    "mongo_uri = dbutils.secrets.get(\"mongodb\", \"atlas-uri\")  # ✅ or use env var if local\n",
    "client = MongoClient(mongo_uri)\n",
    "db = client[\"ecommerce_project\"]\n",
    "\n",
    "\n",
    "# -------------------------------\n",
    "# \uD83D\uDD39 Read Gold Tables\n",
    "# -------------------------------\n",
    "customer_df = spark.read.table(\"`e-commerce-project`.gold.dim_customers\")\n",
    "product_df = spark.read.table(\"`e-commerce-project`.gold.dim_products\")\n",
    "\n",
    "\n",
    "# -------------------------------\n",
    "# \uD83D\uDD39 Upsert to MongoDB Atlas\n",
    "# -------------------------------\n",
    "\n",
    "transformer.upsert_to_atlas(customer_df, \"dim_customers\", \"customer_id\",mongo_uri,db,client)\n",
    "transformer.upsert_to_atlas(product_df, \"dim_products\", \"product_id\",mongo_uri,db,client)\n",
    "\n",
    "print(\"All active customer and product records successfully upserted to MongoDB Atlas!\")\n"
   ]
  },
  {
   "cell_type": "code",
   "execution_count": 0,
   "metadata": {
    "application/vnd.databricks.v1+cell": {
     "cellMetadata": {},
     "inputWidgets": {},
     "nuid": "e4292978-c6ee-4b4f-b877-374537c9f183",
     "showTitle": false,
     "tableResultSettingsMap": {},
     "title": ""
    }
   },
   "outputs": [],
   "source": []
  }
 ],
 "metadata": {
  "application/vnd.databricks.v1+notebook": {
   "computePreferences": {
    "hardware": {
     "accelerator": null,
     "gpuPoolId": null,
     "memory": null
    }
   },
   "dashboards": [],
   "environmentMetadata": {
    "base_environment": "",
    "environment_version": "3"
   },
   "inputWidgetPreferences": null,
   "language": "python",
   "notebookMetadata": {
    "pythonIndentUnit": 4
   },
   "notebookName": "Atlas_dimensional",
   "widgets": {}
  },
  "language_info": {
   "name": "python"
  }
 },
 "nbformat": 4,
 "nbformat_minor": 0
}