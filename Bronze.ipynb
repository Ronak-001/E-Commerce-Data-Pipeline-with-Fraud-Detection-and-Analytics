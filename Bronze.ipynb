{
 "cells": [
  {
   "cell_type": "code",
   "execution_count": 0,
   "metadata": {
    "application/vnd.databricks.v1+cell": {
     "cellMetadata": {
      "byteLimit": 2048000,
      "rowLimit": 10000
     },
     "inputWidgets": {},
     "nuid": "9eb96256-215c-4585-b0b0-6f02953b40bc",
     "showTitle": false,
     "tableResultSettingsMap": {},
     "title": ""
    }
   },
   "outputs": [],
   "source": [
    "from pyspark.sql.functions import col, from_json, to_date\n",
    "from pyspark.sql.types import StructType, StructField, StringType, DoubleType, ArrayType, IntegerType\n",
    "\n",
    "# ---- Define schemas ----\n",
    "\n",
    "# ✅ Orders schema now supports nested 'items' array\n",
    "orders_schema = StructType([\n",
    "    StructField(\"order_id\", StringType()),\n",
    "    StructField(\"customer_id\", StringType()),\n",
    "    StructField(\"payment_method\", StringType()),\n",
    "    StructField(\"order_status\", StringType()),\n",
    "    StructField(\"event_time\", StringType()),\n",
    "    StructField(\"shipping_city\", StringType()),\n",
    "    StructField(\"shipping_pincode\", StringType()),\n",
    "    StructField(\"ip_address\", StringType()),\n",
    "    StructField(\"items\", ArrayType(\n",
    "        StructType([\n",
    "            StructField(\"product_id\", StringType()),\n",
    "            StructField(\"quantity\", IntegerType()),\n",
    "            StructField(\"unit_price\", DoubleType()),\n",
    "            StructField(\"amount\", DoubleType())\n",
    "        ])\n",
    "    ))\n",
    "])\n",
    "\n",
    "\n",
    "# ✅ Payments schema (unchanged)\n",
    "payments_schema = StructType([\n",
    "    StructField(\"payment_id\", StringType()),\n",
    "    StructField(\"order_id\", StringType()),\n",
    "    StructField(\"customer_id\", StringType()),\n",
    "    StructField(\"payment_timestamp\", StringType()),\n",
    "    StructField(\"amount\", DoubleType()),\n",
    "    StructField(\"payment_status\", StringType()),\n",
    "    StructField(\"method\", StringType())\n",
    "])\n",
    "\n",
    "# ✅ Shipments schema (unchanged)\n",
    "\n",
    "shipments_schema = StructType([\n",
    "    StructField(\"shipment_id\", StringType(), nullable=False),\n",
    "    StructField(\"order_id\", StringType(), nullable=False),\n",
    "    StructField(\"courier\", StringType(), nullable=True),\n",
    "    StructField(\"dispatched_at\", StringType(), nullable=True),\n",
    "    StructField(\"delivered_at\", StringType(), nullable=True),  # Allow null values\n",
    "    StructField(\"status\", StringType(), nullable=True),\n",
    "    StructField(\"tracking_url\", StringType(), nullable=True)\n",
    "])\n",
    "\n",
    "schemas = {\n",
    "    \"orders\": orders_schema,\n",
    "    \"payments\": payments_schema,\n",
    "    \"shipments\": shipments_schema\n",
    "}\n",
    "\n",
    "# ---- Dynamic ingestion function ----\n",
    "def process_topic(topic, schema):\n",
    "    raw_df = (\n",
    "        spark.readStream\n",
    "        .format(\"kafka\")\n",
    "        .option(\"kafka.bootstrap.servers\", \"\") #your kafka ip address\n",
    "        .option(\"subscribe\", topic)\n",
    "        .option(\"startingOffsets\", \"earliest\")\n",
    "        .option(\"failOnDataLoss\", \"false\")\n",
    "        .load()\n",
    "    )\n",
    "\n",
    "    parsed_df = (\n",
    "        raw_df\n",
    "        .selectExpr(\"CAST(value AS STRING)\")\n",
    "        .select(from_json(col(\"value\"), schema).alias(\"data\"))\n",
    "        .select(\"data.*\")\n",
    "    )\n",
    "\n",
    "    # Add event_date for partitioning (based on whichever time column exists)\n",
    "    for ts_col in [\"event_time\", \"payment_timestamp\", \"dispatched_at\"]:\n",
    "        if ts_col in parsed_df.columns:\n",
    "            parsed_df = parsed_df.withColumn(\"event_date\", to_date(col(ts_col)))\n",
    "\n",
    "    # ✅ Write to Bronze tables\n",
    "    (\n",
    "        parsed_df.writeStream\n",
    "        .format(\"delta\")\n",
    "        .option(\"checkpointLocation\", f\"/Volumes/e-commerce-project/bronze/checkpoint/{topic}\")\n",
    "        .option(\"mergeSchema\", \"true\")\n",
    "        .outputMode(\"append\")\n",
    "        .partitionBy(\"event_date\")\n",
    "        .trigger(once=True)\n",
    "        .toTable(f\"`e-commerce-project`.bronze.{topic}\")\n",
    "    )\n",
    "\n",
    "\n",
    "# ---- Loop over topics ----\n",
    "for topic, schema in schemas.items():\n",
    "    process_topic(topic, schema)\n"
   ]
  },
  {
   "cell_type": "code",
   "execution_count": 0,
   "metadata": {
    "application/vnd.databricks.v1+cell": {
     "cellMetadata": {
      "byteLimit": 2048000,
      "implicitDf": true,
      "rowLimit": 10000
     },
     "inputWidgets": {},
     "nuid": "80602b42-4260-4a71-adef-71a9eff72f3d",
     "showTitle": false,
     "tableResultSettingsMap": {},
     "title": ""
    }
   },
   "outputs": [
    {
     "output_type": "display_data",
     "data": {
      "text/html": [
       "<style scoped>\n",
       "  .table-result-container {\n",
       "    max-height: 300px;\n",
       "    overflow: auto;\n",
       "  }\n",
       "  table, th, td {\n",
       "    border: 1px solid black;\n",
       "    border-collapse: collapse;\n",
       "  }\n",
       "  th, td {\n",
       "    padding: 5px;\n",
       "  }\n",
       "  th {\n",
       "    text-align: left;\n",
       "  }\n",
       "</style><div class='table-result-container'><table class='table-result'><thead style='background-color: white'><tr><th>shipment_id</th><th>order_id</th><th>courier</th><th>dispatched_at</th><th>delivered_at</th><th>status</th><th>tracking_url</th><th>event_date</th></tr></thead><tbody><tr><td>SHIP_ORD008_3</td><td>ORD008</td><td>EcomExpress</td><td>2025-10-16T07:30:00Z</td><td>2025-10-20T10:20:00Z</td><td>DELIVERED</td><td>https://track.ecom/ORD008</td><td>2025-10-16</td></tr><tr><td>SHIP_ORD008_2</td><td>ORD008</td><td>EcomExpress</td><td>2025-10-16T07:30:00Z</td><td>null</td><td>DISPATCHED</td><td>https://track.ecom/ORD008</td><td>2025-10-16</td></tr><tr><td>SHIP_ORD006_3</td><td>ORD006</td><td>Delhivery</td><td>2025-10-16T18:00:00Z</td><td>2025-10-18T11:30:00Z</td><td>DELIVERED</td><td>https://track.delhivery/ORD006</td><td>2025-10-16</td></tr><tr><td>SHIP_ORD005_3</td><td>ORD005</td><td>BlueDart</td><td>2025-10-13T09:00:00Z</td><td>2025-10-14T17:45:00Z</td><td>DELIVERED</td><td>https://track.bluedart/ORD005</td><td>2025-10-13</td></tr><tr><td>SHIP_ORD005_2</td><td>ORD005</td><td>BlueDart</td><td>2025-10-13T09:00:00Z</td><td>null</td><td>DISPATCHED</td><td>https://track.bluedart/ORD005</td><td>2025-10-13</td></tr><tr><td>SHIP_ORD004_3</td><td>ORD004</td><td>EcomExpress</td><td>2025-10-13T10:15:00Z</td><td>2025-10-14T13:20:00Z</td><td>DELIVERED</td><td>https://track.ecom/ORD004</td><td>2025-10-13</td></tr><tr><td>SHIP_ORD005_3</td><td>ORD005</td><td>BlueDart</td><td>2025-10-13T09:00:00Z</td><td>2025-10-14T17:45:00Z</td><td>DELIVERED</td><td>https://track.bluedart/ORD005</td><td>2025-10-13</td></tr><tr><td>SHIP_ORD005_2</td><td>ORD005</td><td>BlueDart</td><td>2025-10-13T09:00:00Z</td><td>null</td><td>DISPATCHED</td><td>https://track.bluedart/ORD005</td><td>2025-10-13</td></tr><tr><td>SHIP_ORD004_3</td><td>ORD004</td><td>EcomExpress</td><td>2025-10-13T10:15:00Z</td><td>2025-10-14T13:20:00Z</td><td>DELIVERED</td><td>https://track.ecom/ORD004</td><td>2025-10-13</td></tr><tr><td>SHIP_ORD009_3</td><td>ORD009</td><td>BlueDart</td><td>2025-10-17T09:30:00Z</td><td>2025-10-19T12:00:00Z</td><td>DELIVERED</td><td>https://track.bluedart/ORD009</td><td>2025-10-17</td></tr><tr><td>SHIP_ORD009_2</td><td>ORD009</td><td>BlueDart</td><td>2025-10-17T09:30:00Z</td><td>null</td><td>DISPATCHED</td><td>https://track.bluedart/ORD009</td><td>2025-10-17</td></tr><tr><td>SHIP_ORD007_3</td><td>ORD007</td><td>DTDC</td><td>2025-10-17T16:00:00Z</td><td>2025-10-18T09:00:00Z</td><td>DELIVERED</td><td>https://track.dtdc/ORD007</td><td>2025-10-17</td></tr><tr><td>SHIP_ORD022_1</td><td>ORD022</td><td>XpressBees</td><td>2025-10-14T12:10:00Z</td><td>null</td><td>DISPATCHED</td><td>https://track.xpressbees/ORD022</td><td>2025-10-14</td></tr><tr><td>SHIP_ORD021_1</td><td>ORD021</td><td>XpressBees</td><td>2025-10-14T12:00:00Z</td><td>null</td><td>DISPATCHED</td><td>https://track.xpressbees/ORD021</td><td>2025-10-14</td></tr><tr><td>SHIP_ORD020_1</td><td>ORD020</td><td>EcomExpress</td><td>2025-10-14T09:00:00Z</td><td>2025-10-18T09:00:00Z</td><td>DELIVERED</td><td>https://track.ecomexpress/ORD020</td><td>2025-10-14</td></tr><tr><td>SHIP_ORD002_3</td><td>ORD002</td><td>Delhivery</td><td>2025-10-10T09:00:00Z</td><td>2025-10-11T15:20:00Z</td><td>DELIVERED</td><td>https://track.delhivery/ORD002</td><td>2025-10-10</td></tr><tr><td>SHIP_ORD002_2</td><td>ORD002</td><td>Delhivery</td><td>2025-10-10T09:00:00Z</td><td>null</td><td>DISPATCHED</td><td>https://track.delhivery/ORD002</td><td>2025-10-10</td></tr><tr><td>SHIP_ORD010_3</td><td>ORD010</td><td>Delhivery</td><td>2025-10-18T08:45:00Z</td><td>2025-10-20T18:10:00Z</td><td>DELIVERED</td><td>https://track.delhivery/ORD010</td><td>2025-10-18</td></tr><tr><td>SHIP_ORD010_2</td><td>ORD010</td><td>Delhivery</td><td>2025-10-18T08:45:00Z</td><td>null</td><td>DISPATCHED</td><td>https://track.delhivery/ORD010</td><td>2025-10-18</td></tr><tr><td>SHIP_ORD002_3</td><td>ORD002</td><td>Delhivery</td><td>2025-10-10T09:00:00Z</td><td>2025-10-11T15:20:00Z</td><td>DELIVERED</td><td>https://track.delhivery/ORD002</td><td>2025-10-10</td></tr><tr><td>SHIP_ORD002_2</td><td>ORD002</td><td>Delhivery</td><td>2025-10-10T09:00:00Z</td><td>null</td><td>DISPATCHED</td><td>https://track.delhivery/ORD002</td><td>2025-10-10</td></tr><tr><td>SHIP_ORD001_3</td><td>ORD001</td><td>BlueDart</td><td>2025-10-09T08:00:00Z</td><td>2025-10-10T12:30:00Z</td><td>DELIVERED</td><td>https://track.bluedart/ORD001</td><td>2025-10-09</td></tr><tr><td>SHIP_ORD001_2</td><td>ORD001</td><td>BlueDart</td><td>2025-10-09T08:00:00Z</td><td>null</td><td>DISPATCHED</td><td>https://track.bluedart/ORD001</td><td>2025-10-09</td></tr><tr><td>SHIP_ORD012_3</td><td>ORD012</td><td>BlueDart</td><td>2025-10-20T09:00:00Z</td><td>2025-10-21T10:30:00Z</td><td>DELIVERED</td><td>https://track.bluedart/ORD012</td><td>2025-10-20</td></tr><tr><td>SHIP_ORD012_2</td><td>ORD012</td><td>BlueDart</td><td>2025-10-20T09:00:00Z</td><td>null</td><td>DISPATCHED</td><td>https://track.bluedart/ORD012</td><td>2025-10-20</td></tr><tr><td>SHIP_ORD001_3</td><td>ORD001</td><td>BlueDart</td><td>2025-10-09T08:00:00Z</td><td>2025-10-10T12:30:00Z</td><td>DELIVERED</td><td>https://track.bluedart/ORD001</td><td>2025-10-09</td></tr><tr><td>SHIP_ORD001_2</td><td>ORD001</td><td>BlueDart</td><td>2025-10-09T08:00:00Z</td><td>null</td><td>DISPATCHED</td><td>https://track.bluedart/ORD001</td><td>2025-10-09</td></tr><tr><td>SHIP_ORD015_1</td><td>ORD015</td><td>DTDC</td><td>null</td><td>null</td><td>CREATED</td><td>https://track.dtdc/ORD015</td><td>null</td></tr><tr><td>SHIP_ORD014_1</td><td>ORD014</td><td>Delhivery</td><td>null</td><td>null</td><td>CREATED</td><td>https://track.delhivery/ORD014</td><td>null</td></tr><tr><td>SHIP_ORD013_1</td><td>ORD013</td><td>EcomExpress</td><td>null</td><td>null</td><td>CREATED</td><td>https://track.ecom/ORD013</td><td>null</td></tr><tr><td>SHIP_ORD012_1</td><td>ORD012</td><td>BlueDart</td><td>null</td><td>null</td><td>CREATED</td><td>https://track.bluedart/ORD012</td><td>null</td></tr><tr><td>SHIP_ORD011_1</td><td>ORD011</td><td>DTDC</td><td>null</td><td>null</td><td>CREATED</td><td>https://track.dtdc/ORD011</td><td>null</td></tr><tr><td>SHIP_ORD010_1</td><td>ORD010</td><td>Delhivery</td><td>null</td><td>null</td><td>CREATED</td><td>https://track.delhivery/ORD010</td><td>null</td></tr><tr><td>SHIP_ORD009_1</td><td>ORD009</td><td>BlueDart</td><td>null</td><td>null</td><td>CREATED</td><td>https://track.bluedart/ORD009</td><td>null</td></tr><tr><td>SHIP_ORD008_1</td><td>ORD008</td><td>EcomExpress</td><td>null</td><td>null</td><td>CREATED</td><td>https://track.ecom/ORD008</td><td>null</td></tr><tr><td>SHIP_ORD007_1</td><td>ORD007</td><td>DTDC</td><td>null</td><td>null</td><td>CREATED</td><td>https://track.dtdc/ORD007</td><td>null</td></tr><tr><td>SHIP_ORD006_1</td><td>ORD006</td><td>Delhivery</td><td>null</td><td>null</td><td>CREATED</td><td>https://track.delhivery/ORD006</td><td>null</td></tr><tr><td>SHIP_ORD005_1</td><td>ORD005</td><td>BlueDart</td><td>null</td><td>null</td><td>CREATED</td><td>https://track.bluedart/ORD005</td><td>null</td></tr><tr><td>SHIP_ORD004_1</td><td>ORD004</td><td>EcomExpress</td><td>null</td><td>null</td><td>CREATED</td><td>https://track.ecom/ORD004</td><td>null</td></tr><tr><td>SHIP_ORD003_1</td><td>ORD003</td><td>DTDC</td><td>null</td><td>null</td><td>CREATED</td><td>https://track.dtdc/ORD003</td><td>null</td></tr><tr><td>SHIP_ORD002_1</td><td>ORD002</td><td>Delhivery</td><td>null</td><td>null</td><td>CREATED</td><td>https://track.delhivery/ORD002</td><td>null</td></tr><tr><td>SHIP_ORD001_1</td><td>ORD001</td><td>BlueDart</td><td>null</td><td>null</td><td>CREATED</td><td>https://track.bluedart/ORD001</td><td>null</td></tr><tr><td>SHIP_ORD011_3</td><td>ORD011</td><td>DTDC</td><td>2025-10-19T07:10:00Z</td><td>2025-10-19T11:00:00Z</td><td>DELIVERED</td><td>https://track.dtdc/ORD011</td><td>2025-10-19</td></tr><tr><td>SHIP_ORD011_2</td><td>ORD011</td><td>DTDC</td><td>2025-10-19T07:10:00Z</td><td>null</td><td>DISPATCHED</td><td>https://track.dtdc/ORD011</td><td>2025-10-19</td></tr><tr><td>SHIP_ORD003_3</td><td>ORD003</td><td>DTDC</td><td>2025-10-11T07:30:00Z</td><td>2025-10-12T18:00:00Z</td><td>DELIVERED</td><td>https://track.dtdc/ORD003</td><td>2025-10-11</td></tr><tr><td>SHIP_ORD003_2</td><td>ORD003</td><td>DTDC</td><td>2025-10-11T07:30:00Z</td><td>null</td><td>DISPATCHED</td><td>https://track.dtdc/ORD003</td><td>2025-10-11</td></tr><tr><td>SHIP_ORD003_3</td><td>ORD003</td><td>DTDC</td><td>2025-10-11T07:30:00Z</td><td>2025-10-12T18:00:00Z</td><td>DELIVERED</td><td>https://track.dtdc/ORD003</td><td>2025-10-11</td></tr><tr><td>SHIP_ORD003_2</td><td>ORD003</td><td>DTDC</td><td>2025-10-11T07:30:00Z</td><td>null</td><td>DISPATCHED</td><td>https://track.dtdc/ORD003</td><td>2025-10-11</td></tr><tr><td>SHIP_ORD018_1</td><td>ORD018</td><td>Delhivery</td><td>2025-10-13T09:00:00Z</td><td>2025-10-13T12:00:00Z</td><td>DELIVERED</td><td>https://track.delhivery/ORD018</td><td>2025-10-13</td></tr><tr><td>SHIP_ORD016_1</td><td>ORD016</td><td>BlueDart</td><td>2025-10-13T12:00:00Z</td><td>null</td><td>DISPATCHED</td><td>https://track.bluedart/ORD016</td><td>2025-10-13</td></tr><tr><td>SHIP_ORD014_3</td><td>ORD014</td><td>Delhivery</td><td>2025-10-26T08:00:00Z</td><td>null</td><td>CANCELED</td><td>https://track.delhivery/ORD014</td><td>2025-10-26</td></tr><tr><td>SHIP_ORD014_2</td><td>ORD014</td><td>Delhivery</td><td>2025-10-26T08:00:00Z</td><td>null</td><td>DISPATCHED</td><td>https://track.delhivery/ORD014</td><td>2025-10-26</td></tr><tr><td>SHIP_ORD014_3</td><td>ORD014</td><td>Delhivery</td><td>2025-10-26T08:00:00Z</td><td>null</td><td>CANCELED</td><td>https://track.delhivery/ORD014</td><td>2025-10-26</td></tr><tr><td>SHIP_ORD014_2</td><td>ORD014</td><td>Delhivery</td><td>2025-10-26T08:00:00Z</td><td>null</td><td>DISPATCHED</td><td>https://track.delhivery/ORD014</td><td>2025-10-26</td></tr><tr><td>SHIP_ORD006_3</td><td>ORD006</td><td>Delhivery</td><td>2025-10-16T18:00:00Z</td><td>2025-10-18T11:30:00Z</td><td>DELIVERED</td><td>https://track.delhivery/ORD006</td><td>2025-10-16</td></tr><tr><td>SHIP_ORD017_1</td><td>ORD017</td><td>BlueDart</td><td>2025-10-12T10:10:00Z</td><td>2025-10-13T18:00:00Z</td><td>DELIVERED</td><td>https://track.bluedart/ORD017</td><td>2025-10-12</td></tr><tr><td>SHIP_ORD013_3</td><td>ORD013</td><td>EcomExpress</td><td>2025-10-24T15:00:00Z</td><td>2025-10-25T09:30:00Z</td><td>DELIVERED</td><td>https://track.ecom/ORD013</td><td>2025-10-24</td></tr><tr><td>SHIP_ORD015_3</td><td>ORD015</td><td>DTDC</td><td>2025-10-31T09:00:00Z</td><td>null</td><td>CANCELED</td><td>https://track.dtdc/ORD015</td><td>2025-10-31</td></tr><tr><td>SHIP_ORD015_2</td><td>ORD015</td><td>DTDC</td><td>2025-10-31T09:00:00Z</td><td>null</td><td>DISPATCHED</td><td>https://track.dtdc/ORD015</td><td>2025-10-31</td></tr><tr><td>SHIP_ORD015_3</td><td>ORD015</td><td>DTDC</td><td>2025-10-31T09:00:00Z</td><td>null</td><td>CANCELED</td><td>https://track.dtdc/ORD015</td><td>2025-10-31</td></tr><tr><td>SHIP_ORD015_2</td><td>ORD015</td><td>DTDC</td><td>2025-10-31T09:00:00Z</td><td>null</td><td>DISPATCHED</td><td>https://track.dtdc/ORD015</td><td>2025-10-31</td></tr><tr><td>SHIP_ORD007_1</td><td>ORD007</td><td>DTDC</td><td>null</td><td>null</td><td>CREATED</td><td>https://track.dtdc/ORD007</td><td>null</td></tr><tr><td>SHIP_ORD006_1</td><td>ORD006</td><td>Delhivery</td><td>null</td><td>null</td><td>CREATED</td><td>https://track.delhivery/ORD006</td><td>null</td></tr><tr><td>SHIP_ORD005_1</td><td>ORD005</td><td>BlueDart</td><td>null</td><td>null</td><td>CREATED</td><td>https://track.bluedart/ORD005</td><td>null</td></tr><tr><td>SHIP_ORD004_1</td><td>ORD004</td><td>EcomExpress</td><td>null</td><td>null</td><td>CREATED</td><td>https://track.ecom/ORD004</td><td>null</td></tr><tr><td>SHIP_ORD003_1</td><td>ORD003</td><td>DTDC</td><td>null</td><td>null</td><td>CREATED</td><td>https://track.dtdc/ORD003</td><td>null</td></tr><tr><td>SHIP_ORD002_1</td><td>ORD002</td><td>Delhivery</td><td>null</td><td>null</td><td>CREATED</td><td>https://track.delhivery/ORD002</td><td>null</td></tr><tr><td>SHIP_ORD001_1</td><td>ORD001</td><td>BlueDart</td><td>null</td><td>null</td><td>CREATED</td><td>https://track.bluedart/ORD001</td><td>null</td></tr><tr><td>SHIP_ORD006_2</td><td>ORD006</td><td>Delhivery</td><td>2025-10-14T10:15:00Z</td><td>null</td><td>DISPATCHED</td><td>https://track.delhivery/ORD006</td><td>2025-10-14</td></tr><tr><td>SHIP_ORD006_2</td><td>ORD006</td><td>Delhivery</td><td>2025-10-14T10:15:00Z</td><td>null</td><td>DISPATCHED</td><td>https://track.delhivery/ORD006</td><td>2025-10-14</td></tr><tr><td>SHIP_ORD001_2</td><td>ORD001</td><td>BlueDart</td><td>2025-10-09T08:00:00Z</td><td>null</td><td>DISPATCHED</td><td>https://track.bluedart/ORD001</td><td>2025-10-09</td></tr><tr><td>SHIP_ORD004_2</td><td>ORD004</td><td>EcomExpress</td><td>2025-10-12T06:50:00Z</td><td>null</td><td>DISPATCHED</td><td>https://track.ecom/ORD004</td><td>2025-10-12</td></tr><tr><td>SHIP_ORD013_2</td><td>ORD013</td><td>EcomExpress</td><td>2025-10-22T10:30:00Z</td><td>null</td><td>DISPATCHED</td><td>https://track.ecom/ORD013</td><td>2025-10-22</td></tr><tr><td>SHIP_ORD004_2</td><td>ORD004</td><td>EcomExpress</td><td>2025-10-12T06:50:00Z</td><td>null</td><td>DISPATCHED</td><td>https://track.ecom/ORD004</td><td>2025-10-12</td></tr><tr><td>SHIP_ORD007_2</td><td>ORD007</td><td>DTDC</td><td>2025-10-15T11:20:00Z</td><td>null</td><td>DISPATCHED</td><td>https://track.dtdc/ORD007</td><td>2025-10-15</td></tr><tr><td>SHIP_ORD019_1</td><td>ORD019</td><td>Delhivery</td><td>null</td><td>null</td><td>CREATED</td><td>https://track.delhivery/ORD019</td><td>null</td></tr><tr><td>SHIP_ORD015_1</td><td>ORD015</td><td>DTDC</td><td>null</td><td>null</td><td>CREATED</td><td>https://track.dtdc/ORD015</td><td>null</td></tr></tbody></table></div>"
      ]
     },
     "metadata": {
      "application/vnd.databricks.v1+output": {
       "addedWidgets": {},
       "aggData": [],
       "aggError": "",
       "aggOverflow": false,
       "aggSchema": [],
       "aggSeriesLimitReached": false,
       "aggType": "",
       "arguments": {},
       "columnCustomDisplayInfos": {},
       "data": [
        [
         "SHIP_ORD008_3",
         "ORD008",
         "EcomExpress",
         "2025-10-16T07:30:00Z",
         "2025-10-20T10:20:00Z",
         "DELIVERED",
         "https://track.ecom/ORD008",
         "2025-10-16"
        ],
        [
         "SHIP_ORD008_2",
         "ORD008",
         "EcomExpress",
         "2025-10-16T07:30:00Z",
         null,
         "DISPATCHED",
         "https://track.ecom/ORD008",
         "2025-10-16"
        ],
        [
         "SHIP_ORD006_3",
         "ORD006",
         "Delhivery",
         "2025-10-16T18:00:00Z",
         "2025-10-18T11:30:00Z",
         "DELIVERED",
         "https://track.delhivery/ORD006",
         "2025-10-16"
        ],
        [
         "SHIP_ORD005_3",
         "ORD005",
         "BlueDart",
         "2025-10-13T09:00:00Z",
         "2025-10-14T17:45:00Z",
         "DELIVERED",
         "https://track.bluedart/ORD005",
         "2025-10-13"
        ],
        [
         "SHIP_ORD005_2",
         "ORD005",
         "BlueDart",
         "2025-10-13T09:00:00Z",
         null,
         "DISPATCHED",
         "https://track.bluedart/ORD005",
         "2025-10-13"
        ],
        [
         "SHIP_ORD004_3",
         "ORD004",
         "EcomExpress",
         "2025-10-13T10:15:00Z",
         "2025-10-14T13:20:00Z",
         "DELIVERED",
         "https://track.ecom/ORD004",
         "2025-10-13"
        ],
        [
         "SHIP_ORD005_3",
         "ORD005",
         "BlueDart",
         "2025-10-13T09:00:00Z",
         "2025-10-14T17:45:00Z",
         "DELIVERED",
         "https://track.bluedart/ORD005",
         "2025-10-13"
        ],
        [
         "SHIP_ORD005_2",
         "ORD005",
         "BlueDart",
         "2025-10-13T09:00:00Z",
         null,
         "DISPATCHED",
         "https://track.bluedart/ORD005",
         "2025-10-13"
        ],
        [
         "SHIP_ORD004_3",
         "ORD004",
         "EcomExpress",
         "2025-10-13T10:15:00Z",
         "2025-10-14T13:20:00Z",
         "DELIVERED",
         "https://track.ecom/ORD004",
         "2025-10-13"
        ],
        [
         "SHIP_ORD009_3",
         "ORD009",
         "BlueDart",
         "2025-10-17T09:30:00Z",
         "2025-10-19T12:00:00Z",
         "DELIVERED",
         "https://track.bluedart/ORD009",
         "2025-10-17"
        ],
        [
         "SHIP_ORD009_2",
         "ORD009",
         "BlueDart",
         "2025-10-17T09:30:00Z",
         null,
         "DISPATCHED",
         "https://track.bluedart/ORD009",
         "2025-10-17"
        ],
        [
         "SHIP_ORD007_3",
         "ORD007",
         "DTDC",
         "2025-10-17T16:00:00Z",
         "2025-10-18T09:00:00Z",
         "DELIVERED",
         "https://track.dtdc/ORD007",
         "2025-10-17"
        ],
        [
         "SHIP_ORD022_1",
         "ORD022",
         "XpressBees",
         "2025-10-14T12:10:00Z",
         null,
         "DISPATCHED",
         "https://track.xpressbees/ORD022",
         "2025-10-14"
        ],
        [
         "SHIP_ORD021_1",
         "ORD021",
         "XpressBees",
         "2025-10-14T12:00:00Z",
         null,
         "DISPATCHED",
         "https://track.xpressbees/ORD021",
         "2025-10-14"
        ],
        [
         "SHIP_ORD020_1",
         "ORD020",
         "EcomExpress",
         "2025-10-14T09:00:00Z",
         "2025-10-18T09:00:00Z",
         "DELIVERED",
         "https://track.ecomexpress/ORD020",
         "2025-10-14"
        ],
        [
         "SHIP_ORD002_3",
         "ORD002",
         "Delhivery",
         "2025-10-10T09:00:00Z",
         "2025-10-11T15:20:00Z",
         "DELIVERED",
         "https://track.delhivery/ORD002",
         "2025-10-10"
        ],
        [
         "SHIP_ORD002_2",
         "ORD002",
         "Delhivery",
         "2025-10-10T09:00:00Z",
         null,
         "DISPATCHED",
         "https://track.delhivery/ORD002",
         "2025-10-10"
        ],
        [
         "SHIP_ORD010_3",
         "ORD010",
         "Delhivery",
         "2025-10-18T08:45:00Z",
         "2025-10-20T18:10:00Z",
         "DELIVERED",
         "https://track.delhivery/ORD010",
         "2025-10-18"
        ],
        [
         "SHIP_ORD010_2",
         "ORD010",
         "Delhivery",
         "2025-10-18T08:45:00Z",
         null,
         "DISPATCHED",
         "https://track.delhivery/ORD010",
         "2025-10-18"
        ],
        [
         "SHIP_ORD002_3",
         "ORD002",
         "Delhivery",
         "2025-10-10T09:00:00Z",
         "2025-10-11T15:20:00Z",
         "DELIVERED",
         "https://track.delhivery/ORD002",
         "2025-10-10"
        ],
        [
         "SHIP_ORD002_2",
         "ORD002",
         "Delhivery",
         "2025-10-10T09:00:00Z",
         null,
         "DISPATCHED",
         "https://track.delhivery/ORD002",
         "2025-10-10"
        ],
        [
         "SHIP_ORD001_3",
         "ORD001",
         "BlueDart",
         "2025-10-09T08:00:00Z",
         "2025-10-10T12:30:00Z",
         "DELIVERED",
         "https://track.bluedart/ORD001",
         "2025-10-09"
        ],
        [
         "SHIP_ORD001_2",
         "ORD001",
         "BlueDart",
         "2025-10-09T08:00:00Z",
         null,
         "DISPATCHED",
         "https://track.bluedart/ORD001",
         "2025-10-09"
        ],
        [
         "SHIP_ORD012_3",
         "ORD012",
         "BlueDart",
         "2025-10-20T09:00:00Z",
         "2025-10-21T10:30:00Z",
         "DELIVERED",
         "https://track.bluedart/ORD012",
         "2025-10-20"
        ],
        [
         "SHIP_ORD012_2",
         "ORD012",
         "BlueDart",
         "2025-10-20T09:00:00Z",
         null,
         "DISPATCHED",
         "https://track.bluedart/ORD012",
         "2025-10-20"
        ],
        [
         "SHIP_ORD001_3",
         "ORD001",
         "BlueDart",
         "2025-10-09T08:00:00Z",
         "2025-10-10T12:30:00Z",
         "DELIVERED",
         "https://track.bluedart/ORD001",
         "2025-10-09"
        ],
        [
         "SHIP_ORD001_2",
         "ORD001",
         "BlueDart",
         "2025-10-09T08:00:00Z",
         null,
         "DISPATCHED",
         "https://track.bluedart/ORD001",
         "2025-10-09"
        ],
        [
         "SHIP_ORD015_1",
         "ORD015",
         "DTDC",
         null,
         null,
         "CREATED",
         "https://track.dtdc/ORD015",
         null
        ],
        [
         "SHIP_ORD014_1",
         "ORD014",
         "Delhivery",
         null,
         null,
         "CREATED",
         "https://track.delhivery/ORD014",
         null
        ],
        [
         "SHIP_ORD013_1",
         "ORD013",
         "EcomExpress",
         null,
         null,
         "CREATED",
         "https://track.ecom/ORD013",
         null
        ],
        [
         "SHIP_ORD012_1",
         "ORD012",
         "BlueDart",
         null,
         null,
         "CREATED",
         "https://track.bluedart/ORD012",
         null
        ],
        [
         "SHIP_ORD011_1",
         "ORD011",
         "DTDC",
         null,
         null,
         "CREATED",
         "https://track.dtdc/ORD011",
         null
        ],
        [
         "SHIP_ORD010_1",
         "ORD010",
         "Delhivery",
         null,
         null,
         "CREATED",
         "https://track.delhivery/ORD010",
         null
        ],
        [
         "SHIP_ORD009_1",
         "ORD009",
         "BlueDart",
         null,
         null,
         "CREATED",
         "https://track.bluedart/ORD009",
         null
        ],
        [
         "SHIP_ORD008_1",
         "ORD008",
         "EcomExpress",
         null,
         null,
         "CREATED",
         "https://track.ecom/ORD008",
         null
        ],
        [
         "SHIP_ORD007_1",
         "ORD007",
         "DTDC",
         null,
         null,
         "CREATED",
         "https://track.dtdc/ORD007",
         null
        ],
        [
         "SHIP_ORD006_1",
         "ORD006",
         "Delhivery",
         null,
         null,
         "CREATED",
         "https://track.delhivery/ORD006",
         null
        ],
        [
         "SHIP_ORD005_1",
         "ORD005",
         "BlueDart",
         null,
         null,
         "CREATED",
         "https://track.bluedart/ORD005",
         null
        ],
        [
         "SHIP_ORD004_1",
         "ORD004",
         "EcomExpress",
         null,
         null,
         "CREATED",
         "https://track.ecom/ORD004",
         null
        ],
        [
         "SHIP_ORD003_1",
         "ORD003",
         "DTDC",
         null,
         null,
         "CREATED",
         "https://track.dtdc/ORD003",
         null
        ],
        [
         "SHIP_ORD002_1",
         "ORD002",
         "Delhivery",
         null,
         null,
         "CREATED",
         "https://track.delhivery/ORD002",
         null
        ],
        [
         "SHIP_ORD001_1",
         "ORD001",
         "BlueDart",
         null,
         null,
         "CREATED",
         "https://track.bluedart/ORD001",
         null
        ],
        [
         "SHIP_ORD011_3",
         "ORD011",
         "DTDC",
         "2025-10-19T07:10:00Z",
         "2025-10-19T11:00:00Z",
         "DELIVERED",
         "https://track.dtdc/ORD011",
         "2025-10-19"
        ],
        [
         "SHIP_ORD011_2",
         "ORD011",
         "DTDC",
         "2025-10-19T07:10:00Z",
         null,
         "DISPATCHED",
         "https://track.dtdc/ORD011",
         "2025-10-19"
        ],
        [
         "SHIP_ORD003_3",
         "ORD003",
         "DTDC",
         "2025-10-11T07:30:00Z",
         "2025-10-12T18:00:00Z",
         "DELIVERED",
         "https://track.dtdc/ORD003",
         "2025-10-11"
        ],
        [
         "SHIP_ORD003_2",
         "ORD003",
         "DTDC",
         "2025-10-11T07:30:00Z",
         null,
         "DISPATCHED",
         "https://track.dtdc/ORD003",
         "2025-10-11"
        ],
        [
         "SHIP_ORD003_3",
         "ORD003",
         "DTDC",
         "2025-10-11T07:30:00Z",
         "2025-10-12T18:00:00Z",
         "DELIVERED",
         "https://track.dtdc/ORD003",
         "2025-10-11"
        ],
        [
         "SHIP_ORD003_2",
         "ORD003",
         "DTDC",
         "2025-10-11T07:30:00Z",
         null,
         "DISPATCHED",
         "https://track.dtdc/ORD003",
         "2025-10-11"
        ],
        [
         "SHIP_ORD018_1",
         "ORD018",
         "Delhivery",
         "2025-10-13T09:00:00Z",
         "2025-10-13T12:00:00Z",
         "DELIVERED",
         "https://track.delhivery/ORD018",
         "2025-10-13"
        ],
        [
         "SHIP_ORD016_1",
         "ORD016",
         "BlueDart",
         "2025-10-13T12:00:00Z",
         null,
         "DISPATCHED",
         "https://track.bluedart/ORD016",
         "2025-10-13"
        ],
        [
         "SHIP_ORD014_3",
         "ORD014",
         "Delhivery",
         "2025-10-26T08:00:00Z",
         null,
         "CANCELED",
         "https://track.delhivery/ORD014",
         "2025-10-26"
        ],
        [
         "SHIP_ORD014_2",
         "ORD014",
         "Delhivery",
         "2025-10-26T08:00:00Z",
         null,
         "DISPATCHED",
         "https://track.delhivery/ORD014",
         "2025-10-26"
        ],
        [
         "SHIP_ORD014_3",
         "ORD014",
         "Delhivery",
         "2025-10-26T08:00:00Z",
         null,
         "CANCELED",
         "https://track.delhivery/ORD014",
         "2025-10-26"
        ],
        [
         "SHIP_ORD014_2",
         "ORD014",
         "Delhivery",
         "2025-10-26T08:00:00Z",
         null,
         "DISPATCHED",
         "https://track.delhivery/ORD014",
         "2025-10-26"
        ],
        [
         "SHIP_ORD006_3",
         "ORD006",
         "Delhivery",
         "2025-10-16T18:00:00Z",
         "2025-10-18T11:30:00Z",
         "DELIVERED",
         "https://track.delhivery/ORD006",
         "2025-10-16"
        ],
        [
         "SHIP_ORD017_1",
         "ORD017",
         "BlueDart",
         "2025-10-12T10:10:00Z",
         "2025-10-13T18:00:00Z",
         "DELIVERED",
         "https://track.bluedart/ORD017",
         "2025-10-12"
        ],
        [
         "SHIP_ORD013_3",
         "ORD013",
         "EcomExpress",
         "2025-10-24T15:00:00Z",
         "2025-10-25T09:30:00Z",
         "DELIVERED",
         "https://track.ecom/ORD013",
         "2025-10-24"
        ],
        [
         "SHIP_ORD015_3",
         "ORD015",
         "DTDC",
         "2025-10-31T09:00:00Z",
         null,
         "CANCELED",
         "https://track.dtdc/ORD015",
         "2025-10-31"
        ],
        [
         "SHIP_ORD015_2",
         "ORD015",
         "DTDC",
         "2025-10-31T09:00:00Z",
         null,
         "DISPATCHED",
         "https://track.dtdc/ORD015",
         "2025-10-31"
        ],
        [
         "SHIP_ORD015_3",
         "ORD015",
         "DTDC",
         "2025-10-31T09:00:00Z",
         null,
         "CANCELED",
         "https://track.dtdc/ORD015",
         "2025-10-31"
        ],
        [
         "SHIP_ORD015_2",
         "ORD015",
         "DTDC",
         "2025-10-31T09:00:00Z",
         null,
         "DISPATCHED",
         "https://track.dtdc/ORD015",
         "2025-10-31"
        ],
        [
         "SHIP_ORD007_1",
         "ORD007",
         "DTDC",
         null,
         null,
         "CREATED",
         "https://track.dtdc/ORD007",
         null
        ],
        [
         "SHIP_ORD006_1",
         "ORD006",
         "Delhivery",
         null,
         null,
         "CREATED",
         "https://track.delhivery/ORD006",
         null
        ],
        [
         "SHIP_ORD005_1",
         "ORD005",
         "BlueDart",
         null,
         null,
         "CREATED",
         "https://track.bluedart/ORD005",
         null
        ],
        [
         "SHIP_ORD004_1",
         "ORD004",
         "EcomExpress",
         null,
         null,
         "CREATED",
         "https://track.ecom/ORD004",
         null
        ],
        [
         "SHIP_ORD003_1",
         "ORD003",
         "DTDC",
         null,
         null,
         "CREATED",
         "https://track.dtdc/ORD003",
         null
        ],
        [
         "SHIP_ORD002_1",
         "ORD002",
         "Delhivery",
         null,
         null,
         "CREATED",
         "https://track.delhivery/ORD002",
         null
        ],
        [
         "SHIP_ORD001_1",
         "ORD001",
         "BlueDart",
         null,
         null,
         "CREATED",
         "https://track.bluedart/ORD001",
         null
        ],
        [
         "SHIP_ORD006_2",
         "ORD006",
         "Delhivery",
         "2025-10-14T10:15:00Z",
         null,
         "DISPATCHED",
         "https://track.delhivery/ORD006",
         "2025-10-14"
        ],
        [
         "SHIP_ORD006_2",
         "ORD006",
         "Delhivery",
         "2025-10-14T10:15:00Z",
         null,
         "DISPATCHED",
         "https://track.delhivery/ORD006",
         "2025-10-14"
        ],
        [
         "SHIP_ORD001_2",
         "ORD001",
         "BlueDart",
         "2025-10-09T08:00:00Z",
         null,
         "DISPATCHED",
         "https://track.bluedart/ORD001",
         "2025-10-09"
        ],
        [
         "SHIP_ORD004_2",
         "ORD004",
         "EcomExpress",
         "2025-10-12T06:50:00Z",
         null,
         "DISPATCHED",
         "https://track.ecom/ORD004",
         "2025-10-12"
        ],
        [
         "SHIP_ORD013_2",
         "ORD013",
         "EcomExpress",
         "2025-10-22T10:30:00Z",
         null,
         "DISPATCHED",
         "https://track.ecom/ORD013",
         "2025-10-22"
        ],
        [
         "SHIP_ORD004_2",
         "ORD004",
         "EcomExpress",
         "2025-10-12T06:50:00Z",
         null,
         "DISPATCHED",
         "https://track.ecom/ORD004",
         "2025-10-12"
        ],
        [
         "SHIP_ORD007_2",
         "ORD007",
         "DTDC",
         "2025-10-15T11:20:00Z",
         null,
         "DISPATCHED",
         "https://track.dtdc/ORD007",
         "2025-10-15"
        ],
        [
         "SHIP_ORD019_1",
         "ORD019",
         "Delhivery",
         null,
         null,
         "CREATED",
         "https://track.delhivery/ORD019",
         null
        ],
        [
         "SHIP_ORD015_1",
         "ORD015",
         "DTDC",
         null,
         null,
         "CREATED",
         "https://track.dtdc/ORD015",
         null
        ]
       ],
       "datasetInfos": [
        {
         "name": "_sqldf",
         "schema": {
          "fields": [
           {
            "metadata": {},
            "name": "shipment_id",
            "nullable": true,
            "type": "string"
           },
           {
            "metadata": {},
            "name": "order_id",
            "nullable": true,
            "type": "string"
           },
           {
            "metadata": {},
            "name": "courier",
            "nullable": true,
            "type": "string"
           },
           {
            "metadata": {},
            "name": "dispatched_at",
            "nullable": true,
            "type": "string"
           },
           {
            "metadata": {},
            "name": "delivered_at",
            "nullable": true,
            "type": "string"
           },
           {
            "metadata": {},
            "name": "status",
            "nullable": true,
            "type": "string"
           },
           {
            "metadata": {},
            "name": "tracking_url",
            "nullable": true,
            "type": "string"
           },
           {
            "metadata": {},
            "name": "event_date",
            "nullable": true,
            "type": "date"
           }
          ],
          "type": "struct"
         },
         "tableIdentifier": null,
         "typeStr": "pyspark.sql.connect.dataframe.DataFrame"
        }
       ],
       "dbfsResultPath": null,
       "isJsonSchema": true,
       "metadata": {
        "createTempViewForImplicitDf": true,
        "dataframeName": "_sqldf",
        "executionCount": 6
       },
       "overflow": false,
       "plotOptions": {
        "customPlotOptions": {},
        "displayType": "table",
        "pivotAggregation": null,
        "pivotColumns": null,
        "xColumns": null,
        "yColumns": null
       },
       "removedWidgets": [],
       "schema": [
        {
         "metadata": "{}",
         "name": "shipment_id",
         "type": "\"string\""
        },
        {
         "metadata": "{}",
         "name": "order_id",
         "type": "\"string\""
        },
        {
         "metadata": "{}",
         "name": "courier",
         "type": "\"string\""
        },
        {
         "metadata": "{}",
         "name": "dispatched_at",
         "type": "\"string\""
        },
        {
         "metadata": "{}",
         "name": "delivered_at",
         "type": "\"string\""
        },
        {
         "metadata": "{}",
         "name": "status",
         "type": "\"string\""
        },
        {
         "metadata": "{}",
         "name": "tracking_url",
         "type": "\"string\""
        },
        {
         "metadata": "{}",
         "name": "event_date",
         "type": "\"date\""
        }
       ],
       "type": "table"
      }
     },
     "output_type": "display_data"
    }
   ],
   "source": [
    "%sql\n",
    "select *from`e-commerce-project`.bronze.shipments"
   ]
  }
 ],
 "metadata": {
  "application/vnd.databricks.v1+notebook": {
   "computePreferences": {
    "hardware": {
     "accelerator": null,
     "gpuPoolId": null,
     "memory": null
    }
   },
   "dashboards": [],
   "environmentMetadata": {
    "base_environment": "",
    "environment_version": "3"
   },
   "inputWidgetPreferences": null,
   "language": "python",
   "notebookMetadata": {
    "mostRecentlyExecutedCommandWithImplicitDF": {
     "commandId": 5724900964131399,
     "dataframes": [
      "_sqldf"
     ]
    },
    "pythonIndentUnit": 4
   },
   "notebookName": "Bronze",
   "widgets": {}
  },
  "language_info": {
   "name": "python"
  }
 },
 "nbformat": 4,
 "nbformat_minor": 0
}