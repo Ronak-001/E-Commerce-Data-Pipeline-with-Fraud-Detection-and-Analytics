{
 "cells": [
  {
   "cell_type": "markdown",
   "metadata": {
    "application/vnd.databricks.v1+cell": {
     "cellMetadata": {
      "byteLimit": 2048000,
      "rowLimit": 10000
     },
     "inputWidgets": {},
     "nuid": "1c2ad254-18c4-4448-93ee-398504b91212",
     "showTitle": false,
     "tableResultSettingsMap": {},
     "title": ""
    }
   },
   "source": [
    "### 1. Total Sales by Day and Product Category"
   ]
  },
  {
   "cell_type": "code",
   "execution_count": 0,
   "metadata": {
    "application/vnd.databricks.v1+cell": {
     "cellMetadata": {
      "byteLimit": 2048000,
      "implicitDf": true,
      "rowLimit": 10000
     },
     "inputWidgets": {},
     "nuid": "6bf32e5b-0469-4dcc-a292-dd913767b302",
     "showTitle": false,
     "tableResultSettingsMap": {},
     "title": ""
    }
   },
   "outputs": [
    {
     "output_type": "display_data",
     "data": {
      "text/html": [
       "<style scoped>\n",
       "  .table-result-container {\n",
       "    max-height: 300px;\n",
       "    overflow: auto;\n",
       "  }\n",
       "  table, th, td {\n",
       "    border: 1px solid black;\n",
       "    border-collapse: collapse;\n",
       "  }\n",
       "  th, td {\n",
       "    padding: 5px;\n",
       "  }\n",
       "  th {\n",
       "    text-align: left;\n",
       "  }\n",
       "</style><div class='table-result-container'><table class='table-result'><thead style='background-color: white'><tr><th>order_date</th><th>product_category</th><th>total_sales</th><th>orders_count</th></tr></thead><tbody><tr><td>2025-10-08</td><td>Electronics</td><td>51900.0</td><td>1</td></tr><tr><td>2025-10-09</td><td>Fashion</td><td>8500.0</td><td>1</td></tr><tr><td>2025-10-10</td><td>Electronics</td><td>55000.0</td><td>1</td></tr><tr><td>2025-10-11</td><td>Home</td><td>6300.0</td><td>1</td></tr><tr><td>2025-10-11</td><td>Fashion</td><td>6300.0</td><td>1</td></tr><tr><td>2025-10-12</td><td>Home</td><td>30000.0</td><td>2</td></tr><tr><td>2025-10-12</td><td>Electronics</td><td>5600.0</td><td>1</td></tr><tr><td>2025-10-12</td><td>Fashion</td><td>5600.0</td><td>1</td></tr><tr><td>2025-10-13</td><td>Home</td><td>29600.0</td><td>3</td></tr><tr><td>2025-10-13</td><td>Electronics</td><td>20000.0</td><td>1</td></tr><tr><td>2025-10-14</td><td>Fashion</td><td>6200.0</td><td>2</td></tr><tr><td>2025-10-14</td><td>Home</td><td>4700.0</td><td>2</td></tr><tr><td>2025-10-15</td><td>Fashion</td><td>120000.0</td><td>2</td></tr><tr><td>2025-10-15</td><td>Sports</td><td>19150.0</td><td>2</td></tr><tr><td>2025-10-15</td><td>Electronics</td><td>4150.0</td><td>1</td></tr><tr><td>2025-10-16</td><td>Electronics</td><td>198000.0</td><td>3</td></tr><tr><td>2025-10-17</td><td>Fashion</td><td>57400.0</td><td>1</td></tr><tr><td>2025-10-17</td><td>Electronics</td><td>57400.0</td><td>1</td></tr><tr><td>2025-10-17</td><td>Unknown</td><td>4000.0</td><td>1</td></tr><tr><td>2025-10-18</td><td>Unknown</td><td>1500.0</td><td>1</td></tr><tr><td>2025-10-18</td><td>Fashion</td><td>1500.0</td><td>1</td></tr><tr><td>2025-10-19</td><td>Electronics</td><td>3650.0</td><td>1</td></tr><tr><td>2025-10-19</td><td>Fashion</td><td>3650.0</td><td>1</td></tr><tr><td>2025-10-21</td><td>Electronics</td><td>6250.0</td><td>1</td></tr><tr><td>2025-10-21</td><td>Home</td><td>6250.0</td><td>1</td></tr><tr><td>2025-10-21</td><td>Fashion</td><td>6250.0</td><td>1</td></tr><tr><td>2025-10-25</td><td>Home</td><td>10200.0</td><td>1</td></tr><tr><td>2025-10-27</td><td>Home</td><td>1800.0</td><td>1</td></tr><tr><td>2025-10-30</td><td>Electronics</td><td>25000.0</td><td>1</td></tr></tbody></table></div>"
      ]
     },
     "metadata": {
      "application/vnd.databricks.v1+output": {
       "addedWidgets": {},
       "aggData": [],
       "aggError": "",
       "aggOverflow": false,
       "aggSchema": [],
       "aggSeriesLimitReached": false,
       "aggType": "",
       "arguments": {},
       "columnCustomDisplayInfos": {},
       "data": [
        [
         "2025-10-08",
         "Electronics",
         51900.0,
         1
        ],
        [
         "2025-10-09",
         "Fashion",
         8500.0,
         1
        ],
        [
         "2025-10-10",
         "Electronics",
         55000.0,
         1
        ],
        [
         "2025-10-11",
         "Home",
         6300.0,
         1
        ],
        [
         "2025-10-11",
         "Fashion",
         6300.0,
         1
        ],
        [
         "2025-10-12",
         "Home",
         30000.0,
         2
        ],
        [
         "2025-10-12",
         "Electronics",
         5600.0,
         1
        ],
        [
         "2025-10-12",
         "Fashion",
         5600.0,
         1
        ],
        [
         "2025-10-13",
         "Home",
         29600.0,
         3
        ],
        [
         "2025-10-13",
         "Electronics",
         20000.0,
         1
        ],
        [
         "2025-10-14",
         "Fashion",
         6200.0,
         2
        ],
        [
         "2025-10-14",
         "Home",
         4700.0,
         2
        ],
        [
         "2025-10-15",
         "Fashion",
         120000.0,
         2
        ],
        [
         "2025-10-15",
         "Sports",
         19150.0,
         2
        ],
        [
         "2025-10-15",
         "Electronics",
         4150.0,
         1
        ],
        [
         "2025-10-16",
         "Electronics",
         198000.0,
         3
        ],
        [
         "2025-10-17",
         "Fashion",
         57400.0,
         1
        ],
        [
         "2025-10-17",
         "Electronics",
         57400.0,
         1
        ],
        [
         "2025-10-17",
         "Unknown",
         4000.0,
         1
        ],
        [
         "2025-10-18",
         "Unknown",
         1500.0,
         1
        ],
        [
         "2025-10-18",
         "Fashion",
         1500.0,
         1
        ],
        [
         "2025-10-19",
         "Electronics",
         3650.0,
         1
        ],
        [
         "2025-10-19",
         "Fashion",
         3650.0,
         1
        ],
        [
         "2025-10-21",
         "Electronics",
         6250.0,
         1
        ],
        [
         "2025-10-21",
         "Home",
         6250.0,
         1
        ],
        [
         "2025-10-21",
         "Fashion",
         6250.0,
         1
        ],
        [
         "2025-10-25",
         "Home",
         10200.0,
         1
        ],
        [
         "2025-10-27",
         "Home",
         1800.0,
         1
        ],
        [
         "2025-10-30",
         "Electronics",
         25000.0,
         1
        ]
       ],
       "datasetInfos": [
        {
         "name": "_sqldf",
         "schema": {
          "fields": [
           {
            "metadata": {},
            "name": "order_date",
            "nullable": true,
            "type": "date"
           },
           {
            "metadata": {},
            "name": "product_category",
            "nullable": true,
            "type": "string"
           },
           {
            "metadata": {},
            "name": "total_sales",
            "nullable": true,
            "type": "double"
           },
           {
            "metadata": {},
            "name": "orders_count",
            "nullable": false,
            "type": "long"
           }
          ],
          "type": "struct"
         },
         "tableIdentifier": null,
         "typeStr": "pyspark.sql.connect.dataframe.DataFrame"
        }
       ],
       "dbfsResultPath": null,
       "isJsonSchema": true,
       "metadata": {
        "createTempViewForImplicitDf": true,
        "dataframeName": "_sqldf",
        "executionCount": 2
       },
       "overflow": false,
       "plotOptions": {
        "customPlotOptions": {},
        "displayType": "table",
        "pivotAggregation": null,
        "pivotColumns": null,
        "xColumns": null,
        "yColumns": null
       },
       "removedWidgets": [],
       "schema": [
        {
         "metadata": "{}",
         "name": "order_date",
         "type": "\"date\""
        },
        {
         "metadata": "{}",
         "name": "product_category",
         "type": "\"string\""
        },
        {
         "metadata": "{}",
         "name": "total_sales",
         "type": "\"double\""
        },
        {
         "metadata": "{}",
         "name": "orders_count",
         "type": "\"long\""
        }
       ],
       "type": "table"
      }
     },
     "output_type": "display_data"
    }
   ],
   "source": [
    "%sql\n",
    "\n",
    "SELECT\n",
    "  f.order_date,\n",
    "  p.product_category,\n",
    "  SUM(f.order_amount) AS total_sales,\n",
    "  COUNT(DISTINCT f.order_id) AS orders_count\n",
    "FROM `e-commerce-project`.gold.fact_orders f\n",
    "JOIN `e-commerce-project`.gold.dim_products p\n",
    "  ON f.product_id = p.product_id\n",
    "GROUP BY f.order_date, p.product_category\n",
    "ORDER BY f.order_date, total_sales DESC;\n"
   ]
  },
  {
   "cell_type": "markdown",
   "metadata": {
    "application/vnd.databricks.v1+cell": {
     "cellMetadata": {
      "byteLimit": 2048000,
      "rowLimit": 10000
     },
     "inputWidgets": {},
     "nuid": "2b2cb73c-3ced-4ce2-9ebd-1257883669bd",
     "showTitle": false,
     "tableResultSettingsMap": {},
     "title": ""
    }
   },
   "source": [
    "### 2. Customer Lifetime Value (LTV)"
   ]
  },
  {
   "cell_type": "code",
   "execution_count": 0,
   "metadata": {
    "application/vnd.databricks.v1+cell": {
     "cellMetadata": {
      "byteLimit": 2048000,
      "implicitDf": true,
      "rowLimit": 10000
     },
     "inputWidgets": {},
     "nuid": "c11636a7-c789-4990-84ca-e60f89af8875",
     "showTitle": false,
     "tableResultSettingsMap": {},
     "title": ""
    }
   },
   "outputs": [
    {
     "output_type": "display_data",
     "data": {
      "text/html": [
       "<style scoped>\n",
       "  .table-result-container {\n",
       "    max-height: 300px;\n",
       "    overflow: auto;\n",
       "  }\n",
       "  table, th, td {\n",
       "    border: 1px solid black;\n",
       "    border-collapse: collapse;\n",
       "  }\n",
       "  th, td {\n",
       "    padding: 5px;\n",
       "  }\n",
       "  th {\n",
       "    text-align: left;\n",
       "  }\n",
       "</style><div class='table-result-container'><table class='table-result'><thead style='background-color: white'><tr><th>customer_id</th><th>customer_name</th><th>segment</th><th>total_spent</th><th>order_count</th><th>avg_order_value</th></tr></thead><tbody><tr><td>C009</td><td>Arjun Reddy</td><td>Premium</td><td>134800.0</td><td>2</td><td>44933.333333333336</td></tr><tr><td>C008</td><td>Neha Nair</td><td>Retail</td><td>73000.0</td><td>3</td><td>18250.0</td></tr><tr><td>C003</td><td>Deepak Singh</td><td>Retail</td><td>65200.0</td><td>2</td><td>21733.333333333332</td></tr><tr><td>C001</td><td>Rahul Sharma</td><td>Retail</td><td>64500.0</td><td>2</td><td>16125.0</td></tr><tr><td>C005</td><td>Rohit Mehta</td><td>Premium</td><td>39600.0</td><td>2</td><td>13200.0</td></tr><tr><td>C004</td><td>Pooja Kapoor</td><td>Corporate</td><td>31750.0</td><td>3</td><td>5291.666666666667</td></tr><tr><td>C006</td><td>Sneha Joshi</td><td>Retail</td><td>23400.0</td><td>2</td><td>7800.0</td></tr><tr><td>C007</td><td>Varun Iyer</td><td>Corporate</td><td>23300.0</td><td>2</td><td>7766.666666666667</td></tr><tr><td>C002</td><td>Anjali Verma</td><td>Premium</td><td>15800.0</td><td>2</td><td>3950.0</td></tr><tr><td>C010</td><td>Divya Patil</td><td>Corporate</td><td>5500.0</td><td>3</td><td>1375.0</td></tr></tbody></table></div>"
      ]
     },
     "metadata": {
      "application/vnd.databricks.v1+output": {
       "addedWidgets": {},
       "aggData": [],
       "aggError": "",
       "aggOverflow": false,
       "aggSchema": [],
       "aggSeriesLimitReached": false,
       "aggType": "",
       "arguments": {},
       "columnCustomDisplayInfos": {},
       "data": [
        [
         "C009",
         "Arjun Reddy",
         "Premium",
         134800.0,
         2,
         44933.333333333336
        ],
        [
         "C008",
         "Neha Nair",
         "Retail",
         73000.0,
         3,
         18250.0
        ],
        [
         "C003",
         "Deepak Singh",
         "Retail",
         65200.0,
         2,
         21733.333333333332
        ],
        [
         "C001",
         "Rahul Sharma",
         "Retail",
         64500.0,
         2,
         16125.0
        ],
        [
         "C005",
         "Rohit Mehta",
         "Premium",
         39600.0,
         2,
         13200.0
        ],
        [
         "C004",
         "Pooja Kapoor",
         "Corporate",
         31750.0,
         3,
         5291.666666666667
        ],
        [
         "C006",
         "Sneha Joshi",
         "Retail",
         23400.0,
         2,
         7800.0
        ],
        [
         "C007",
         "Varun Iyer",
         "Corporate",
         23300.0,
         2,
         7766.666666666667
        ],
        [
         "C002",
         "Anjali Verma",
         "Premium",
         15800.0,
         2,
         3950.0
        ],
        [
         "C010",
         "Divya Patil",
         "Corporate",
         5500.0,
         3,
         1375.0
        ]
       ],
       "datasetInfos": [
        {
         "name": "_sqldf",
         "schema": {
          "fields": [
           {
            "metadata": {},
            "name": "customer_id",
            "nullable": true,
            "type": "string"
           },
           {
            "metadata": {},
            "name": "customer_name",
            "nullable": true,
            "type": "string"
           },
           {
            "metadata": {},
            "name": "segment",
            "nullable": true,
            "type": "string"
           },
           {
            "metadata": {},
            "name": "total_spent",
            "nullable": true,
            "type": "double"
           },
           {
            "metadata": {},
            "name": "order_count",
            "nullable": false,
            "type": "long"
           },
           {
            "metadata": {},
            "name": "avg_order_value",
            "nullable": true,
            "type": "double"
           }
          ],
          "type": "struct"
         },
         "tableIdentifier": null,
         "typeStr": "pyspark.sql.connect.dataframe.DataFrame"
        }
       ],
       "dbfsResultPath": null,
       "isJsonSchema": true,
       "metadata": {
        "createTempViewForImplicitDf": true,
        "dataframeName": "_sqldf",
        "executionCount": 3
       },
       "overflow": false,
       "plotOptions": {
        "customPlotOptions": {},
        "displayType": "table",
        "pivotAggregation": null,
        "pivotColumns": null,
        "xColumns": null,
        "yColumns": null
       },
       "removedWidgets": [],
       "schema": [
        {
         "metadata": "{}",
         "name": "customer_id",
         "type": "\"string\""
        },
        {
         "metadata": "{}",
         "name": "customer_name",
         "type": "\"string\""
        },
        {
         "metadata": "{}",
         "name": "segment",
         "type": "\"string\""
        },
        {
         "metadata": "{}",
         "name": "total_spent",
         "type": "\"double\""
        },
        {
         "metadata": "{}",
         "name": "order_count",
         "type": "\"long\""
        },
        {
         "metadata": "{}",
         "name": "avg_order_value",
         "type": "\"double\""
        }
       ],
       "type": "table"
      }
     },
     "output_type": "display_data"
    }
   ],
   "source": [
    "%sql\n",
    "SELECT\n",
    "  c.customer_id,\n",
    "  c.customer_name,\n",
    "  c.segment,\n",
    "  SUM(f.order_amount) AS total_spent,\n",
    "  COUNT(DISTINCT f.order_id) AS order_count,\n",
    "  AVG(f.order_amount) AS avg_order_value\n",
    "FROM `e-commerce-project`.gold.fact_orders f\n",
    "JOIN `e-commerce-project`.gold.dim_customers c\n",
    "  ON f.customer_id = c.customer_id\n",
    "GROUP BY c.customer_id, c.customer_name, c.segment\n",
    "ORDER BY total_spent DESC\n",
    "LIMIT 100;\n"
   ]
  },
  {
   "cell_type": "markdown",
   "metadata": {
    "application/vnd.databricks.v1+cell": {
     "cellMetadata": {
      "byteLimit": 2048000,
      "rowLimit": 10000
     },
     "inputWidgets": {},
     "nuid": "b037e714-3ed9-44dd-81c7-e2f006dff292",
     "showTitle": false,
     "tableResultSettingsMap": {},
     "title": ""
    }
   },
   "source": [
    "### 3.Payment Method Split & Success Rate"
   ]
  },
  {
   "cell_type": "code",
   "execution_count": 0,
   "metadata": {
    "application/vnd.databricks.v1+cell": {
     "cellMetadata": {
      "byteLimit": 2048000,
      "implicitDf": true,
      "rowLimit": 10000
     },
     "inputWidgets": {},
     "nuid": "f12314a8-89bd-4ed2-a475-fa8a7a2b58b7",
     "showTitle": false,
     "tableResultSettingsMap": {},
     "title": ""
    }
   },
   "outputs": [
    {
     "output_type": "display_data",
     "data": {
      "text/html": [
       "<style scoped>\n",
       "  .table-result-container {\n",
       "    max-height: 300px;\n",
       "    overflow: auto;\n",
       "  }\n",
       "  table, th, td {\n",
       "    border: 1px solid black;\n",
       "    border-collapse: collapse;\n",
       "  }\n",
       "  th, td {\n",
       "    padding: 5px;\n",
       "  }\n",
       "  th {\n",
       "    text-align: left;\n",
       "  }\n",
       "</style><div class='table-result-container'><table class='table-result'><thead style='background-color: white'><tr><th>payment_method</th><th>orders</th><th>total_amount</th><th>pct_of_revenue</th></tr></thead><tbody><tr><td>CARD</td><td>12</td><td>463050.0</td><td>55.13</td></tr><tr><td>UPI</td><td>7</td><td>218000.0</td><td>25.96</td></tr><tr><td>COD</td><td>11</td><td>144200.0</td><td>17.17</td></tr><tr><td>WALLET</td><td>1</td><td>14600.0</td><td>1.74</td></tr></tbody></table></div>"
      ]
     },
     "metadata": {
      "application/vnd.databricks.v1+output": {
       "addedWidgets": {},
       "aggData": [],
       "aggError": "",
       "aggOverflow": false,
       "aggSchema": [],
       "aggSeriesLimitReached": false,
       "aggType": "",
       "arguments": {},
       "columnCustomDisplayInfos": {},
       "data": [
        [
         "CARD",
         12,
         463050.0,
         55.13
        ],
        [
         "UPI",
         7,
         218000.0,
         25.96
        ],
        [
         "COD",
         11,
         144200.0,
         17.17
        ],
        [
         "WALLET",
         1,
         14600.0,
         1.74
        ]
       ],
       "datasetInfos": [
        {
         "name": "_sqldf",
         "schema": {
          "fields": [
           {
            "metadata": {},
            "name": "payment_method",
            "nullable": true,
            "type": "string"
           },
           {
            "metadata": {},
            "name": "orders",
            "nullable": false,
            "type": "long"
           },
           {
            "metadata": {},
            "name": "total_amount",
            "nullable": true,
            "type": "double"
           },
           {
            "metadata": {},
            "name": "pct_of_revenue",
            "nullable": true,
            "type": "double"
           }
          ],
          "type": "struct"
         },
         "tableIdentifier": null,
         "typeStr": "pyspark.sql.connect.dataframe.DataFrame"
        }
       ],
       "dbfsResultPath": null,
       "isJsonSchema": true,
       "metadata": {
        "createTempViewForImplicitDf": true,
        "dataframeName": "_sqldf",
        "executionCount": 4
       },
       "overflow": false,
       "plotOptions": {
        "customPlotOptions": {},
        "displayType": "table",
        "pivotAggregation": null,
        "pivotColumns": null,
        "xColumns": null,
        "yColumns": null
       },
       "removedWidgets": [],
       "schema": [
        {
         "metadata": "{}",
         "name": "payment_method",
         "type": "\"string\""
        },
        {
         "metadata": "{}",
         "name": "orders",
         "type": "\"long\""
        },
        {
         "metadata": "{}",
         "name": "total_amount",
         "type": "\"double\""
        },
        {
         "metadata": "{}",
         "name": "pct_of_revenue",
         "type": "\"double\""
        }
       ],
       "type": "table"
      }
     },
     "output_type": "display_data"
    }
   ],
   "source": [
    "%sql\n",
    "SELECT\n",
    "  payment_method,\n",
    "  COUNT(DISTINCT order_id) AS orders,\n",
    "  SUM(order_amount) AS total_amount,\n",
    "  ROUND(100.0 * SUM(order_amount) / SUM(SUM(order_amount)) OVER (), 2) AS pct_of_revenue\n",
    "FROM `e-commerce-project`.gold.fact_orders\n",
    "GROUP BY payment_method\n",
    "ORDER BY total_amount DESC;\n"
   ]
  },
  {
   "cell_type": "markdown",
   "metadata": {
    "application/vnd.databricks.v1+cell": {
     "cellMetadata": {
      "byteLimit": 2048000,
      "rowLimit": 10000
     },
     "inputWidgets": {},
     "nuid": "de2f5c41-d4cd-428b-b562-42875befa562",
     "showTitle": false,
     "tableResultSettingsMap": {},
     "title": ""
    }
   },
   "source": [
    "### 4. Courier Performance (Average Delivery Delay)"
   ]
  },
  {
   "cell_type": "code",
   "execution_count": 0,
   "metadata": {
    "application/vnd.databricks.v1+cell": {
     "cellMetadata": {
      "byteLimit": 2048000,
      "implicitDf": true,
      "rowLimit": 10000
     },
     "inputWidgets": {},
     "nuid": "0c0b9bba-9d03-498c-b7e7-f2d8a28d95aa",
     "showTitle": false,
     "tableResultSettingsMap": {},
     "title": ""
    }
   },
   "outputs": [
    {
     "output_type": "display_data",
     "data": {
      "text/html": [
       "<style scoped>\n",
       "  .table-result-container {\n",
       "    max-height: 300px;\n",
       "    overflow: auto;\n",
       "  }\n",
       "  table, th, td {\n",
       "    border: 1px solid black;\n",
       "    border-collapse: collapse;\n",
       "  }\n",
       "  th, td {\n",
       "    padding: 5px;\n",
       "  }\n",
       "  th {\n",
       "    text-align: left;\n",
       "  }\n",
       "</style><div class='table-result-container'><table class='table-result'><thead style='background-color: white'><tr><th>courier</th><th>delivered_orders</th><th>avg_delay_hours</th><th>breaches_over_48h</th></tr></thead><tbody><tr><td>EcomExpress</td><td>8</td><td>50.415</td><td>3</td></tr><tr><td>Delhivery</td><td>7</td><td>37.357142857142854</td><td>2</td></tr><tr><td>BlueDart</td><td>9</td><td>34.03666666666666</td><td>2</td></tr><tr><td>DTDC</td><td>5</td><td>15.232</td><td>0</td></tr></tbody></table></div>"
      ]
     },
     "metadata": {
      "application/vnd.databricks.v1+output": {
       "addedWidgets": {},
       "aggData": [],
       "aggError": "",
       "aggOverflow": false,
       "aggSchema": [],
       "aggSeriesLimitReached": false,
       "aggType": "",
       "arguments": {},
       "columnCustomDisplayInfos": {},
       "data": [
        [
         "EcomExpress",
         8,
         50.415,
         3
        ],
        [
         "Delhivery",
         7,
         37.357142857142854,
         2
        ],
        [
         "BlueDart",
         9,
         34.03666666666666,
         2
        ],
        [
         "DTDC",
         5,
         15.232,
         0
        ]
       ],
       "datasetInfos": [
        {
         "name": "_sqldf",
         "schema": {
          "fields": [
           {
            "metadata": {},
            "name": "courier",
            "nullable": true,
            "type": "string"
           },
           {
            "metadata": {},
            "name": "delivered_orders",
            "nullable": false,
            "type": "long"
           },
           {
            "metadata": {},
            "name": "avg_delay_hours",
            "nullable": true,
            "type": "double"
           },
           {
            "metadata": {},
            "name": "breaches_over_48h",
            "nullable": true,
            "type": "long"
           }
          ],
          "type": "struct"
         },
         "tableIdentifier": null,
         "typeStr": "pyspark.sql.connect.dataframe.DataFrame"
        }
       ],
       "dbfsResultPath": null,
       "isJsonSchema": true,
       "metadata": {
        "createTempViewForImplicitDf": true,
        "dataframeName": "_sqldf",
        "executionCount": 15
       },
       "overflow": false,
       "plotOptions": {
        "customPlotOptions": {},
        "displayType": "table",
        "pivotAggregation": null,
        "pivotColumns": null,
        "xColumns": null,
        "yColumns": null
       },
       "removedWidgets": [],
       "schema": [
        {
         "metadata": "{}",
         "name": "courier",
         "type": "\"string\""
        },
        {
         "metadata": "{}",
         "name": "delivered_orders",
         "type": "\"long\""
        },
        {
         "metadata": "{}",
         "name": "avg_delay_hours",
         "type": "\"double\""
        },
        {
         "metadata": "{}",
         "name": "breaches_over_48h",
         "type": "\"long\""
        }
       ],
       "type": "table"
      }
     },
     "output_type": "display_data"
    }
   ],
   "source": [
    "%sql\n",
    "-- Average delay and count of delivered orders per courier\n",
    "SELECT\n",
    "  f.courier,\n",
    "  COUNT(*) AS delivered_orders,\n",
    "  AVG(f.delivery_delay_hours) AS avg_delay_hours,\n",
    "  SUM(CASE WHEN f.delivery_delay_hours > 48 THEN 1 ELSE 0 END) AS breaches_over_48h\n",
    "FROM `e-commerce-project`.gold.fact_orders f\n",
    "LEFT JOIN `e-commerce-project`.gold.dim_courier_partners d\n",
    "  ON f.courier = d.courier_name\n",
    "WHERE f.shipment_status = 'DELIVERED' AND f.delivery_delay_hours IS NOT NULL\n",
    "GROUP BY f.courier, d.courier_name\n",
    "ORDER BY avg_delay_hours DESC;\n"
   ]
  },
  {
   "cell_type": "markdown",
   "metadata": {
    "application/vnd.databricks.v1+cell": {
     "cellMetadata": {
      "byteLimit": 2048000,
      "rowLimit": 10000
     },
     "inputWidgets": {},
     "nuid": "4321b52a-287c-4de3-899e-ba6cd5fb1a37",
     "showTitle": false,
     "tableResultSettingsMap": {},
     "title": ""
    }
   },
   "source": [
    "### 5. Order Cancellation Rate"
   ]
  },
  {
   "cell_type": "code",
   "execution_count": 0,
   "metadata": {
    "application/vnd.databricks.v1+cell": {
     "cellMetadata": {
      "byteLimit": 2048000,
      "implicitDf": true,
      "rowLimit": 10000
     },
     "inputWidgets": {},
     "nuid": "23e72793-27be-45dc-be5a-2efd316a0d2b",
     "showTitle": false,
     "tableResultSettingsMap": {},
     "title": ""
    }
   },
   "outputs": [
    {
     "output_type": "display_data",
     "data": {
      "text/html": [
       "<style scoped>\n",
       "  .table-result-container {\n",
       "    max-height: 300px;\n",
       "    overflow: auto;\n",
       "  }\n",
       "  table, th, td {\n",
       "    border: 1px solid black;\n",
       "    border-collapse: collapse;\n",
       "  }\n",
       "  th, td {\n",
       "    padding: 5px;\n",
       "  }\n",
       "  th {\n",
       "    text-align: left;\n",
       "  }\n",
       "</style><div class='table-result-container'><table class='table-result'><thead style='background-color: white'><tr><th>total_orders</th><th>canceled_orders</th><th>cancel_pct</th></tr></thead><tbody><tr><td>45</td><td>3</td><td>6.67</td></tr></tbody></table></div>"
      ]
     },
     "metadata": {
      "application/vnd.databricks.v1+output": {
       "addedWidgets": {},
       "aggData": [],
       "aggError": "",
       "aggOverflow": false,
       "aggSchema": [],
       "aggSeriesLimitReached": false,
       "aggType": "",
       "arguments": {},
       "columnCustomDisplayInfos": {},
       "data": [
        [
         45,
         3,
         "6.67"
        ]
       ],
       "datasetInfos": [
        {
         "name": "_sqldf",
         "schema": {
          "fields": [
           {
            "metadata": {},
            "name": "total_orders",
            "nullable": false,
            "type": "long"
           },
           {
            "metadata": {},
            "name": "canceled_orders",
            "nullable": true,
            "type": "long"
           },
           {
            "metadata": {},
            "name": "cancel_pct",
            "nullable": true,
            "type": "decimal(27,2)"
           }
          ],
          "type": "struct"
         },
         "tableIdentifier": null,
         "typeStr": "pyspark.sql.connect.dataframe.DataFrame"
        }
       ],
       "dbfsResultPath": null,
       "isJsonSchema": true,
       "metadata": {
        "createTempViewForImplicitDf": true,
        "dataframeName": "_sqldf",
        "executionCount": 6
       },
       "overflow": false,
       "plotOptions": {
        "customPlotOptions": {},
        "displayType": "table",
        "pivotAggregation": null,
        "pivotColumns": null,
        "xColumns": null,
        "yColumns": null
       },
       "removedWidgets": [],
       "schema": [
        {
         "metadata": "{}",
         "name": "total_orders",
         "type": "\"long\""
        },
        {
         "metadata": "{}",
         "name": "canceled_orders",
         "type": "\"long\""
        },
        {
         "metadata": "{}",
         "name": "cancel_pct",
         "type": "\"decimal(27,2)\""
        }
       ],
       "type": "table"
      }
     },
     "output_type": "display_data"
    }
   ],
   "source": [
    "%sql\n",
    "SELECT\n",
    "  COUNT(*) AS total_orders,\n",
    "  SUM(CASE WHEN shipment_status = 'CANCELED' THEN 1 ELSE 0 END) AS canceled_orders,\n",
    "  ROUND(100.0 * SUM(CASE WHEN shipment_status = 'CANCELED' THEN 1 ELSE 0 END) / COUNT(*),2) AS cancel_pct\n",
    "FROM `e-commerce-project`.gold.fact_orders;\n"
   ]
  },
  {
   "cell_type": "markdown",
   "metadata": {
    "application/vnd.databricks.v1+cell": {
     "cellMetadata": {
      "byteLimit": 2048000,
      "rowLimit": 10000
     },
     "inputWidgets": {},
     "nuid": "a4629fa3-4f9f-42b2-b8ca-e13f0973521b",
     "showTitle": false,
     "tableResultSettingsMap": {},
     "title": ""
    }
   },
   "source": [
    "### 6. High-Value Order Trend Over Time"
   ]
  },
  {
   "cell_type": "code",
   "execution_count": 0,
   "metadata": {
    "application/vnd.databricks.v1+cell": {
     "cellMetadata": {
      "byteLimit": 2048000,
      "implicitDf": true,
      "rowLimit": 10000
     },
     "inputWidgets": {},
     "nuid": "b3c56551-b65b-4922-91e9-eeb16c81057a",
     "showTitle": false,
     "tableResultSettingsMap": {},
     "title": ""
    }
   },
   "outputs": [
    {
     "output_type": "display_data",
     "data": {
      "text/html": [
       "<style scoped>\n",
       "  .table-result-container {\n",
       "    max-height: 300px;\n",
       "    overflow: auto;\n",
       "  }\n",
       "  table, th, td {\n",
       "    border: 1px solid black;\n",
       "    border-collapse: collapse;\n",
       "  }\n",
       "  th, td {\n",
       "    padding: 5px;\n",
       "  }\n",
       "  th {\n",
       "    text-align: left;\n",
       "  }\n",
       "</style><div class='table-result-container'><table class='table-result'><thead style='background-color: white'><tr><th>order_date</th><th>high_value_orders</th><th>total_value</th></tr></thead><tbody><tr><td>2025-10-08</td><td>1</td><td>51900.0</td></tr><tr><td>2025-10-10</td><td>1</td><td>55000.0</td></tr><tr><td>2025-10-12</td><td>2</td><td>30000.0</td></tr><tr><td>2025-10-13</td><td>1</td><td>20000.0</td></tr><tr><td>2025-10-15</td><td>3</td><td>135000.0</td></tr><tr><td>2025-10-16</td><td>3</td><td>198000.0</td></tr><tr><td>2025-10-17</td><td>1</td><td>114800.0</td></tr><tr><td>2025-10-18</td><td>1</td><td>80000.0</td></tr><tr><td>2025-10-30</td><td>1</td><td>25000.0</td></tr></tbody></table></div>"
      ]
     },
     "metadata": {
      "application/vnd.databricks.v1+output": {
       "addedWidgets": {},
       "aggData": [],
       "aggError": "",
       "aggOverflow": false,
       "aggSchema": [],
       "aggSeriesLimitReached": false,
       "aggType": "",
       "arguments": {},
       "columnCustomDisplayInfos": {},
       "data": [
        [
         "2025-10-08",
         1,
         51900.0
        ],
        [
         "2025-10-10",
         1,
         55000.0
        ],
        [
         "2025-10-12",
         2,
         30000.0
        ],
        [
         "2025-10-13",
         1,
         20000.0
        ],
        [
         "2025-10-15",
         3,
         135000.0
        ],
        [
         "2025-10-16",
         3,
         198000.0
        ],
        [
         "2025-10-17",
         1,
         114800.0
        ],
        [
         "2025-10-18",
         1,
         80000.0
        ],
        [
         "2025-10-30",
         1,
         25000.0
        ]
       ],
       "datasetInfos": [
        {
         "name": "_sqldf",
         "schema": {
          "fields": [
           {
            "metadata": {},
            "name": "order_date",
            "nullable": true,
            "type": "date"
           },
           {
            "metadata": {},
            "name": "high_value_orders",
            "nullable": false,
            "type": "long"
           },
           {
            "metadata": {},
            "name": "total_value",
            "nullable": true,
            "type": "double"
           }
          ],
          "type": "struct"
         },
         "tableIdentifier": null,
         "typeStr": "pyspark.sql.connect.dataframe.DataFrame"
        }
       ],
       "dbfsResultPath": null,
       "isJsonSchema": true,
       "metadata": {
        "createTempViewForImplicitDf": true,
        "dataframeName": "_sqldf",
        "executionCount": 7
       },
       "overflow": false,
       "plotOptions": {
        "customPlotOptions": {},
        "displayType": "table",
        "pivotAggregation": null,
        "pivotColumns": null,
        "xColumns": null,
        "yColumns": null
       },
       "removedWidgets": [],
       "schema": [
        {
         "metadata": "{}",
         "name": "order_date",
         "type": "\"date\""
        },
        {
         "metadata": "{}",
         "name": "high_value_orders",
         "type": "\"long\""
        },
        {
         "metadata": "{}",
         "name": "total_value",
         "type": "\"double\""
        }
       ],
       "type": "table"
      }
     },
     "output_type": "display_data"
    }
   ],
   "source": [
    "%sql\n",
    "SELECT\n",
    "  order_date,\n",
    "  COUNT(DISTINCT order_id) AS high_value_orders,\n",
    "  SUM(order_amount) AS total_value\n",
    "FROM `e-commerce-project`.gold.fact_orders\n",
    "WHERE is_high_value = true\n",
    "GROUP BY order_date\n",
    "ORDER BY order_date;\n"
   ]
  },
  {
   "cell_type": "markdown",
   "metadata": {
    "application/vnd.databricks.v1+cell": {
     "cellMetadata": {
      "byteLimit": 2048000,
      "rowLimit": 10000
     },
     "inputWidgets": {},
     "nuid": "c4ae484f-f109-4fda-8755-b73349c71fe3",
     "showTitle": false,
     "tableResultSettingsMap": {},
     "title": ""
    }
   },
   "source": [
    "### 7. Fraud Risk Distribution by Customer Segment"
   ]
  },
  {
   "cell_type": "code",
   "execution_count": 0,
   "metadata": {
    "application/vnd.databricks.v1+cell": {
     "cellMetadata": {
      "byteLimit": 2048000,
      "implicitDf": true,
      "rowLimit": 10000
     },
     "inputWidgets": {},
     "nuid": "26479ae3-ca32-43a2-a62a-7f4236b0dbbc",
     "showTitle": false,
     "tableResultSettingsMap": {},
     "title": ""
    }
   },
   "outputs": [
    {
     "output_type": "display_data",
     "data": {
      "text/html": [
       "<style scoped>\n",
       "  .table-result-container {\n",
       "    max-height: 300px;\n",
       "    overflow: auto;\n",
       "  }\n",
       "  table, th, td {\n",
       "    border: 1px solid black;\n",
       "    border-collapse: collapse;\n",
       "  }\n",
       "  th, td {\n",
       "    padding: 5px;\n",
       "  }\n",
       "  th {\n",
       "    text-align: left;\n",
       "  }\n",
       "</style><div class='table-result-container'><table class='table-result'><thead style='background-color: white'><tr><th>order_date</th><th>cod_orders</th><th>pending_count</th><th>canceled_count</th><th>cod_cancel_pct</th></tr></thead><tbody><tr><td>2025-10-30</td><td>1</td><td>1</td><td>1</td><td>100.00</td></tr><tr><td>2025-10-14</td><td>2</td><td>0</td><td>0</td><td>0.00</td></tr><tr><td>2025-10-08</td><td>2</td><td>0</td><td>0</td><td>0.00</td></tr><tr><td>2025-10-15</td><td>3</td><td>0</td><td>0</td><td>0.00</td></tr><tr><td>2025-10-12</td><td>3</td><td>0</td><td>0</td><td>0.00</td></tr><tr><td>2025-10-19</td><td>2</td><td>0</td><td>0</td><td>0.00</td></tr><tr><td>2025-10-17</td><td>2</td><td>0</td><td>0</td><td>0.00</td></tr></tbody></table></div>"
      ]
     },
     "metadata": {
      "application/vnd.databricks.v1+output": {
       "addedWidgets": {},
       "aggData": [],
       "aggError": "",
       "aggOverflow": false,
       "aggSchema": [],
       "aggSeriesLimitReached": false,
       "aggType": "",
       "arguments": {},
       "columnCustomDisplayInfos": {},
       "data": [
        [
         "2025-10-30",
         1,
         1,
         1,
         "100.00"
        ],
        [
         "2025-10-14",
         2,
         0,
         0,
         "0.00"
        ],
        [
         "2025-10-08",
         2,
         0,
         0,
         "0.00"
        ],
        [
         "2025-10-15",
         3,
         0,
         0,
         "0.00"
        ],
        [
         "2025-10-12",
         3,
         0,
         0,
         "0.00"
        ],
        [
         "2025-10-19",
         2,
         0,
         0,
         "0.00"
        ],
        [
         "2025-10-17",
         2,
         0,
         0,
         "0.00"
        ]
       ],
       "datasetInfos": [
        {
         "name": "_sqldf",
         "schema": {
          "fields": [
           {
            "metadata": {},
            "name": "order_date",
            "nullable": true,
            "type": "date"
           },
           {
            "metadata": {},
            "name": "cod_orders",
            "nullable": false,
            "type": "long"
           },
           {
            "metadata": {},
            "name": "pending_count",
            "nullable": true,
            "type": "long"
           },
           {
            "metadata": {},
            "name": "canceled_count",
            "nullable": true,
            "type": "long"
           },
           {
            "metadata": {},
            "name": "cod_cancel_pct",
            "nullable": true,
            "type": "decimal(27,2)"
           }
          ],
          "type": "struct"
         },
         "tableIdentifier": null,
         "typeStr": "pyspark.sql.connect.dataframe.DataFrame"
        }
       ],
       "dbfsResultPath": null,
       "isJsonSchema": true,
       "metadata": {
        "createTempViewForImplicitDf": true,
        "dataframeName": "_sqldf",
        "executionCount": 8
       },
       "overflow": false,
       "plotOptions": {
        "customPlotOptions": {},
        "displayType": "table",
        "pivotAggregation": null,
        "pivotColumns": null,
        "xColumns": null,
        "yColumns": null
       },
       "removedWidgets": [],
       "schema": [
        {
         "metadata": "{}",
         "name": "order_date",
         "type": "\"date\""
        },
        {
         "metadata": "{}",
         "name": "cod_orders",
         "type": "\"long\""
        },
        {
         "metadata": "{}",
         "name": "pending_count",
         "type": "\"long\""
        },
        {
         "metadata": "{}",
         "name": "canceled_count",
         "type": "\"long\""
        },
        {
         "metadata": "{}",
         "name": "cod_cancel_pct",
         "type": "\"decimal(27,2)\""
        }
       ],
       "type": "table"
      }
     },
     "output_type": "display_data"
    }
   ],
   "source": [
    "%sql\n",
    "SELECT\n",
    "  order_date,\n",
    "  COUNT(*) AS cod_orders,\n",
    "  SUM(CASE WHEN payment_status = 'PENDING' THEN 1 ELSE 0 END) AS pending_count,\n",
    "  SUM(CASE WHEN shipment_status = 'CANCELED' THEN 1 ELSE 0 END) AS canceled_count,\n",
    "  ROUND(100.0 * SUM(CASE WHEN shipment_status = 'CANCELED' THEN 1 ELSE 0 END) / COUNT(*), 2) AS cod_cancel_pct\n",
    "FROM `e-commerce-project`.gold.fact_orders\n",
    "WHERE payment_method = 'COD'\n",
    "GROUP BY order_date\n",
    "ORDER BY cod_cancel_pct DESC;\n"
   ]
  },
  {
   "cell_type": "markdown",
   "metadata": {
    "application/vnd.databricks.v1+cell": {
     "cellMetadata": {
      "byteLimit": 2048000,
      "rowLimit": 10000
     },
     "inputWidgets": {},
     "nuid": "4cb6d2f6-ce65-489b-b4ba-b7745caf3f03",
     "showTitle": false,
     "tableResultSettingsMap": {},
     "title": ""
    }
   },
   "source": [
    "### 8) City / Region Sales Distribution"
   ]
  },
  {
   "cell_type": "code",
   "execution_count": 0,
   "metadata": {
    "application/vnd.databricks.v1+cell": {
     "cellMetadata": {
      "byteLimit": 2048000,
      "implicitDf": true,
      "rowLimit": 10000
     },
     "inputWidgets": {},
     "nuid": "84846300-f4ab-45d1-9a35-aa2efaf42462",
     "showTitle": false,
     "tableResultSettingsMap": {},
     "title": ""
    }
   },
   "outputs": [
    {
     "output_type": "display_data",
     "data": {
      "text/html": [
       "<style scoped>\n",
       "  .table-result-container {\n",
       "    max-height: 300px;\n",
       "    overflow: auto;\n",
       "  }\n",
       "  table, th, td {\n",
       "    border: 1px solid black;\n",
       "    border-collapse: collapse;\n",
       "  }\n",
       "  th, td {\n",
       "    padding: 5px;\n",
       "  }\n",
       "  th {\n",
       "    text-align: left;\n",
       "  }\n",
       "</style><div class='table-result-container'><table class='table-result'><thead style='background-color: white'><tr><th>shipping_city</th><th>orders</th><th>revenue</th><th>avg_order</th></tr></thead><tbody><tr><td>Delhi</td><td>6</td><td>236500.0</td><td>29562.5</td></tr><tr><td>Hyderabad</td><td>4</td><td>153350.0</td><td>21907.14</td></tr><tr><td>Pune</td><td>5</td><td>137200.0</td><td>19600.0</td></tr><tr><td>Mumbai</td><td>6</td><td>100400.0</td><td>11155.56</td></tr><tr><td>Chennai</td><td>3</td><td>98500.0</td><td>19700.0</td></tr><tr><td>Bengaluru</td><td>2</td><td>58000.0</td><td>19333.33</td></tr><tr><td>Kolkata</td><td>3</td><td>53400.0</td><td>13350.0</td></tr><tr><td>Jaipur</td><td>2</td><td>2500.0</td><td>1250.0</td></tr></tbody></table></div>"
      ]
     },
     "metadata": {
      "application/vnd.databricks.v1+output": {
       "addedWidgets": {},
       "aggData": [],
       "aggError": "",
       "aggOverflow": false,
       "aggSchema": [],
       "aggSeriesLimitReached": false,
       "aggType": "",
       "arguments": {},
       "columnCustomDisplayInfos": {},
       "data": [
        [
         "Delhi",
         6,
         236500.0,
         29562.5
        ],
        [
         "Hyderabad",
         4,
         153350.0,
         21907.14
        ],
        [
         "Pune",
         5,
         137200.0,
         19600.0
        ],
        [
         "Mumbai",
         6,
         100400.0,
         11155.56
        ],
        [
         "Chennai",
         3,
         98500.0,
         19700.0
        ],
        [
         "Bengaluru",
         2,
         58000.0,
         19333.33
        ],
        [
         "Kolkata",
         3,
         53400.0,
         13350.0
        ],
        [
         "Jaipur",
         2,
         2500.0,
         1250.0
        ]
       ],
       "datasetInfos": [
        {
         "name": "_sqldf",
         "schema": {
          "fields": [
           {
            "metadata": {},
            "name": "shipping_city",
            "nullable": true,
            "type": "string"
           },
           {
            "metadata": {},
            "name": "orders",
            "nullable": false,
            "type": "long"
           },
           {
            "metadata": {},
            "name": "revenue",
            "nullable": true,
            "type": "double"
           },
           {
            "metadata": {},
            "name": "avg_order",
            "nullable": true,
            "type": "double"
           }
          ],
          "type": "struct"
         },
         "tableIdentifier": null,
         "typeStr": "pyspark.sql.connect.dataframe.DataFrame"
        }
       ],
       "dbfsResultPath": null,
       "isJsonSchema": true,
       "metadata": {
        "createTempViewForImplicitDf": true,
        "dataframeName": "_sqldf",
        "executionCount": 9
       },
       "overflow": false,
       "plotOptions": {
        "customPlotOptions": {},
        "displayType": "table",
        "pivotAggregation": null,
        "pivotColumns": null,
        "xColumns": null,
        "yColumns": null
       },
       "removedWidgets": [],
       "schema": [
        {
         "metadata": "{}",
         "name": "shipping_city",
         "type": "\"string\""
        },
        {
         "metadata": "{}",
         "name": "orders",
         "type": "\"long\""
        },
        {
         "metadata": "{}",
         "name": "revenue",
         "type": "\"double\""
        },
        {
         "metadata": "{}",
         "name": "avg_order",
         "type": "\"double\""
        }
       ],
       "type": "table"
      }
     },
     "output_type": "display_data"
    }
   ],
   "source": [
    "%sql\n",
    "SELECT\n",
    "  shipping_city,\n",
    "  COUNT(DISTINCT order_id) AS orders,\n",
    "  SUM(order_amount) AS revenue,\n",
    "  ROUND(AVG(order_amount),2) AS avg_order\n",
    "FROM `e-commerce-project`.gold.fact_orders\n",
    "GROUP BY shipping_city\n",
    "ORDER BY revenue DESC;\n"
   ]
  },
  {
   "cell_type": "markdown",
   "metadata": {
    "application/vnd.databricks.v1+cell": {
     "cellMetadata": {
      "byteLimit": 2048000,
      "rowLimit": 10000
     },
     "inputWidgets": {},
     "nuid": "38131eba-7c70-4c5c-a577-d899fe9f2747",
     "showTitle": false,
     "tableResultSettingsMap": {},
     "title": ""
    }
   },
   "source": [
    "###10) Suspicious IPs and multi-customer IPs"
   ]
  },
  {
   "cell_type": "code",
   "execution_count": 0,
   "metadata": {
    "application/vnd.databricks.v1+cell": {
     "cellMetadata": {
      "byteLimit": 2048000,
      "implicitDf": true,
      "rowLimit": 10000
     },
     "inputWidgets": {},
     "nuid": "ee2a98a3-dc15-4768-9312-f92a3f2bf2d6",
     "showTitle": false,
     "tableResultSettingsMap": {},
     "title": ""
    }
   },
   "outputs": [
    {
     "output_type": "display_data",
     "data": {
      "text/html": [
       "<style scoped>\n",
       "  .table-result-container {\n",
       "    max-height: 300px;\n",
       "    overflow: auto;\n",
       "  }\n",
       "  table, th, td {\n",
       "    border: 1px solid black;\n",
       "    border-collapse: collapse;\n",
       "  }\n",
       "  th, td {\n",
       "    padding: 5px;\n",
       "  }\n",
       "  th {\n",
       "    text-align: left;\n",
       "  }\n",
       "</style><div class='table-result-container'><table class='table-result'><thead style='background-color: white'><tr><th>ip_address</th><th>distinct_customers</th><th>orders</th><th>high_risk_orders</th></tr></thead><tbody><tr><td>203.0.113.16</td><td>2</td><td>3</td><td>1</td></tr><tr><td>203.0.113.21</td><td>2</td><td>2</td><td>0</td></tr><tr><td>203.0.113.23</td><td>2</td><td>2</td><td>0</td></tr></tbody></table></div>"
      ]
     },
     "metadata": {
      "application/vnd.databricks.v1+output": {
       "addedWidgets": {},
       "aggData": [],
       "aggError": "",
       "aggOverflow": false,
       "aggSchema": [],
       "aggSeriesLimitReached": false,
       "aggType": "",
       "arguments": {},
       "columnCustomDisplayInfos": {},
       "data": [
        [
         "203.0.113.16",
         2,
         3,
         1
        ],
        [
         "203.0.113.21",
         2,
         2,
         0
        ],
        [
         "203.0.113.23",
         2,
         2,
         0
        ]
       ],
       "datasetInfos": [
        {
         "name": "_sqldf",
         "schema": {
          "fields": [
           {
            "metadata": {},
            "name": "ip_address",
            "nullable": true,
            "type": "string"
           },
           {
            "metadata": {},
            "name": "distinct_customers",
            "nullable": false,
            "type": "long"
           },
           {
            "metadata": {},
            "name": "orders",
            "nullable": false,
            "type": "long"
           },
           {
            "metadata": {},
            "name": "high_risk_orders",
            "nullable": true,
            "type": "long"
           }
          ],
          "type": "struct"
         },
         "tableIdentifier": null,
         "typeStr": "pyspark.sql.connect.dataframe.DataFrame"
        }
       ],
       "dbfsResultPath": null,
       "isJsonSchema": true,
       "metadata": {
        "createTempViewForImplicitDf": true,
        "dataframeName": "_sqldf",
        "executionCount": 10
       },
       "overflow": false,
       "plotOptions": {
        "customPlotOptions": {},
        "displayType": "table",
        "pivotAggregation": null,
        "pivotColumns": null,
        "xColumns": null,
        "yColumns": null
       },
       "removedWidgets": [],
       "schema": [
        {
         "metadata": "{}",
         "name": "ip_address",
         "type": "\"string\""
        },
        {
         "metadata": "{}",
         "name": "distinct_customers",
         "type": "\"long\""
        },
        {
         "metadata": "{}",
         "name": "orders",
         "type": "\"long\""
        },
        {
         "metadata": "{}",
         "name": "high_risk_orders",
         "type": "\"long\""
        }
       ],
       "type": "table"
      }
     },
     "output_type": "display_data"
    }
   ],
   "source": [
    "%sql\n",
    "SELECT\n",
    "  ip_address,\n",
    "  COUNT(DISTINCT customer_id) AS distinct_customers,\n",
    "  COUNT(DISTINCT order_id) AS orders,\n",
    "  SUM(CASE WHEN fraud_score > 20 THEN 1 ELSE 0 END) AS high_risk_orders\n",
    "FROM `e-commerce-project`.gold.fact_orders\n",
    "GROUP BY ip_address\n",
    "HAVING COUNT(DISTINCT customer_id) > 1\n",
    "ORDER BY distinct_customers DESC, high_risk_orders DESC;\n"
   ]
  },
  {
   "cell_type": "code",
   "execution_count": 0,
   "metadata": {
    "application/vnd.databricks.v1+cell": {
     "cellMetadata": {
      "byteLimit": 2048000,
      "implicitDf": true,
      "rowLimit": 10000
     },
     "inputWidgets": {},
     "nuid": "0bf5fcec-77e8-43d8-8767-e04a4d0dd743",
     "showTitle": false,
     "tableResultSettingsMap": {},
     "title": ""
    }
   },
   "outputs": [
    {
     "output_type": "display_data",
     "data": {
      "text/html": [
       "<style scoped>\n",
       "  .table-result-container {\n",
       "    max-height: 300px;\n",
       "    overflow: auto;\n",
       "  }\n",
       "  table, th, td {\n",
       "    border: 1px solid black;\n",
       "    border-collapse: collapse;\n",
       "  }\n",
       "  th, td {\n",
       "    padding: 5px;\n",
       "  }\n",
       "  th {\n",
       "    text-align: left;\n",
       "  }\n",
       "</style><div class='table-result-container'><table class='table-result'><thead style='background-color: white'><tr><th>event_date</th><th>rolling_7d_high_fraud_count</th></tr></thead><tbody><tr><td>2025-10-08</td><td>1</td></tr><tr><td>2025-10-09</td><td>1</td></tr><tr><td>2025-10-10</td><td>1</td></tr><tr><td>2025-10-11</td><td>1</td></tr><tr><td>2025-10-12</td><td>1</td></tr><tr><td>2025-10-12</td><td>2</td></tr><tr><td>2025-10-12</td><td>2</td></tr><tr><td>2025-10-13</td><td>1</td></tr><tr><td>2025-10-14</td><td>1</td></tr><tr><td>2025-10-15</td><td>2</td></tr><tr><td>2025-10-15</td><td>1</td></tr><tr><td>2025-10-15</td><td>1</td></tr><tr><td>2025-10-16</td><td>1</td></tr><tr><td>2025-10-16</td><td>1</td></tr><tr><td>2025-10-17</td><td>1</td></tr><tr><td>2025-10-17</td><td>1</td></tr><tr><td>2025-10-18</td><td>1</td></tr><tr><td>2025-10-18</td><td>1</td></tr><tr><td>2025-10-19</td><td>0</td></tr><tr><td>2025-10-21</td><td>0</td></tr><tr><td>2025-10-25</td><td>0</td></tr><tr><td>2025-10-27</td><td>0</td></tr><tr><td>2025-10-30</td><td>1</td></tr></tbody></table></div>"
      ]
     },
     "metadata": {
      "application/vnd.databricks.v1+output": {
       "addedWidgets": {},
       "aggData": [],
       "aggError": "",
       "aggOverflow": false,
       "aggSchema": [],
       "aggSeriesLimitReached": false,
       "aggType": "",
       "arguments": {},
       "columnCustomDisplayInfos": {},
       "data": [
        [
         "2025-10-08",
         1
        ],
        [
         "2025-10-09",
         1
        ],
        [
         "2025-10-10",
         1
        ],
        [
         "2025-10-11",
         1
        ],
        [
         "2025-10-12",
         1
        ],
        [
         "2025-10-12",
         2
        ],
        [
         "2025-10-12",
         2
        ],
        [
         "2025-10-13",
         1
        ],
        [
         "2025-10-14",
         1
        ],
        [
         "2025-10-15",
         2
        ],
        [
         "2025-10-15",
         1
        ],
        [
         "2025-10-15",
         1
        ],
        [
         "2025-10-16",
         1
        ],
        [
         "2025-10-16",
         1
        ],
        [
         "2025-10-17",
         1
        ],
        [
         "2025-10-17",
         1
        ],
        [
         "2025-10-18",
         1
        ],
        [
         "2025-10-18",
         1
        ],
        [
         "2025-10-19",
         0
        ],
        [
         "2025-10-21",
         0
        ],
        [
         "2025-10-25",
         0
        ],
        [
         "2025-10-27",
         0
        ],
        [
         "2025-10-30",
         1
        ]
       ],
       "datasetInfos": [
        {
         "name": "_sqldf",
         "schema": {
          "fields": [
           {
            "metadata": {},
            "name": "event_date",
            "nullable": true,
            "type": "date"
           },
           {
            "metadata": {},
            "name": "rolling_7d_high_fraud_count",
            "nullable": true,
            "type": "long"
           }
          ],
          "type": "struct"
         },
         "tableIdentifier": null,
         "typeStr": "pyspark.sql.connect.dataframe.DataFrame"
        }
       ],
       "dbfsResultPath": null,
       "isJsonSchema": true,
       "metadata": {
        "createTempViewForImplicitDf": true,
        "dataframeName": "_sqldf",
        "executionCount": 11
       },
       "overflow": false,
       "plotOptions": {
        "customPlotOptions": {},
        "displayType": "table",
        "pivotAggregation": null,
        "pivotColumns": null,
        "xColumns": null,
        "yColumns": null
       },
       "removedWidgets": [],
       "schema": [
        {
         "metadata": "{}",
         "name": "event_date",
         "type": "\"date\""
        },
        {
         "metadata": "{}",
         "name": "rolling_7d_high_fraud_count",
         "type": "\"long\""
        }
       ],
       "type": "table"
      }
     },
     "output_type": "display_data"
    }
   ],
   "source": [
    "%sql\n",
    "SELECT\n",
    "  event_date,\n",
    "  SUM(CASE WHEN fraud_score > 20 THEN 1 ELSE 0 END) OVER (ORDER BY event_date ROWS BETWEEN 6 PRECEDING AND CURRENT ROW) AS rolling_7d_high_fraud_count\n",
    "FROM (\n",
    "  SELECT event_date, fraud_score\n",
    "  FROM `e-commerce-project`.gold.fact_orders\n",
    ") t\n",
    "GROUP BY event_date, fraud_score\n",
    "ORDER BY event_date;\n"
   ]
  }
 ],
 "metadata": {
  "application/vnd.databricks.v1+notebook": {
   "computePreferences": null,
   "dashboards": [],
   "environmentMetadata": {
    "base_environment": "",
    "environment_version": "3"
   },
   "inputWidgetPreferences": null,
   "language": "python",
   "notebookMetadata": {
    "mostRecentlyExecutedCommandWithImplicitDF": {
     "commandId": 2262791547624288,
     "dataframes": [
      "_sqldf"
     ]
    },
    "pythonIndentUnit": 4
   },
   "notebookName": "gold_insights",
   "widgets": {}
  },
  "language_info": {
   "name": "python"
  }
 },
 "nbformat": 4,
 "nbformat_minor": 0
}