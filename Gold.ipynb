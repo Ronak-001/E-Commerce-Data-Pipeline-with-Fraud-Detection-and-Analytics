{
 "cells": [
  {
   "cell_type": "code",
   "execution_count": 0,
   "metadata": {
    "application/vnd.databricks.v1+cell": {
     "cellMetadata": {
      "byteLimit": 2048000,
      "rowLimit": 10000
     },
     "inputWidgets": {},
     "nuid": "0e18da91-2b5d-4980-aa15-0e36ead5154c",
     "showTitle": false,
     "tableResultSettingsMap": {},
     "title": ""
    }
   },
   "outputs": [
    {
     "output_type": "display_data",
     "data": {
      "text/plain": [
       "\u001B[43mWarning you are using the ipython `%run` line magic. To use the databricks `%run` cell magic make sure that the magic is at the very start of the cell.\u001B[0m"
      ]
     },
     "metadata": {},
     "output_type": "display_data"
    }
   ],
   "source": [
    "# If utilities.py is a notebook in your workspace, use:\n",
    "%run \"./utilities.py\"\n",
    "\n",
    "transformer = transformations()"
   ]
  },
  {
   "cell_type": "code",
   "execution_count": 0,
   "metadata": {
    "application/vnd.databricks.v1+cell": {
     "cellMetadata": {
      "byteLimit": 2048000,
      "rowLimit": 10000
     },
     "inputWidgets": {},
     "nuid": "0088e191-b648-4382-adbf-3ff2b9f1f5ed",
     "showTitle": false,
     "tableResultSettingsMap": {},
     "title": ""
    }
   },
   "outputs": [],
   "source": [
    "orders_df = spark.read.table(\"`e-commerce-project`.silver.orders\")\n",
    "payments_df = spark.read.table(\"`e-commerce-project`.silver.payment\")\n",
    "shipments_df = spark.read.table(\"`e-commerce-project`.silver.shipments\")"
   ]
  },
  {
   "cell_type": "code",
   "execution_count": 0,
   "metadata": {
    "application/vnd.databricks.v1+cell": {
     "cellMetadata": {
      "byteLimit": 2048000,
      "implicitDf": true,
      "rowLimit": 10000
     },
     "inputWidgets": {},
     "nuid": "1a0d50e4-2237-49df-b00b-7734a376b17f",
     "showTitle": false,
     "tableResultSettingsMap": {
      "0": {
       "dataGridStateBlob": "{\"version\":1,\"tableState\":{\"columnPinning\":{\"left\":[\"#row_number#\"],\"right\":[]},\"columnSizing\":{\"event_time\":209},\"columnVisibility\":{}},\"settings\":{\"columns\":{}},\"syncTimestamp\":1760720432872}",
       "filterBlob": null,
       "queryPlanFiltersBlob": null,
       "tableResultIndex": 0
      }
     },
     "title": ""
    }
   },
   "outputs": [
    {
     "output_type": "display_data",
     "data": {
      "text/html": [
       "<style scoped>\n",
       "  .table-result-container {\n",
       "    max-height: 300px;\n",
       "    overflow: auto;\n",
       "  }\n",
       "  table, th, td {\n",
       "    border: 1px solid black;\n",
       "    border-collapse: collapse;\n",
       "  }\n",
       "  th, td {\n",
       "    padding: 5px;\n",
       "  }\n",
       "  th {\n",
       "    text-align: left;\n",
       "  }\n",
       "</style><div class='table-result-container'><table class='table-result'><thead style='background-color: white'><tr><th>order_id</th><th>customer_id</th><th>payment_method</th><th>order_status</th><th>event_time</th><th>shipping_city</th><th>shipping_pincode</th><th>ip_address</th><th>order_date</th><th>product_id</th><th>quantity</th><th>price</th><th>item_value_in_order</th><th>order_total_value</th><th>is_high_value</th><th>fraud_score</th><th>event_date</th></tr></thead><tbody><tr><td>ORD001</td><td>C001</td><td>COD</td><td>PLACED</td><td>2025-10-08T09:10:00Z</td><td>Mumbai</td><td>400001</td><td>203.0.113.11</td><td>2025-10-08</td><td>P001</td><td>1</td><td>25000.0</td><td>25000.0</td><td>25950.0</td><td>true</td><td>30</td><td>2025-10-08</td></tr><tr><td>ORD001</td><td>C001</td><td>COD</td><td>PLACED</td><td>2025-10-08T09:10:00Z</td><td>Mumbai</td><td>400001</td><td>203.0.113.11</td><td>2025-10-08</td><td>P008</td><td>1</td><td>950.0</td><td>950.0</td><td>25950.0</td><td>true</td><td>30</td><td>2025-10-08</td></tr><tr><td>ORD002</td><td>C002</td><td>CARD</td><td>PLACED</td><td>2025-10-09T10:20:00Z</td><td>Delhi</td><td>110001</td><td>203.0.113.12</td><td>2025-10-09</td><td>P004</td><td>1</td><td>2500.0</td><td>2500.0</td><td>4250.0</td><td>false</td><td>5</td><td>2025-10-09</td></tr><tr><td>ORD002</td><td>C002</td><td>CARD</td><td>PLACED</td><td>2025-10-09T10:20:00Z</td><td>Delhi</td><td>110001</td><td>203.0.113.12</td><td>2025-10-09</td><td>P011</td><td>1</td><td>1750.0</td><td>1750.0</td><td>4250.0</td><td>false</td><td>5</td><td>2025-10-09</td></tr><tr><td>ORD003</td><td>C003</td><td>UPI</td><td>PLACED</td><td>2025-10-10T11:30:00Z</td><td>Bengaluru</td><td>560001</td><td>203.0.113.13</td><td>2025-10-10</td><td>P002</td><td>1</td><td>55000.0</td><td>55000.0</td><td>55000.0</td><td>true</td><td>5</td><td>2025-10-10</td></tr><tr><td>ORD004</td><td>C001</td><td>CARD</td><td>PLACED</td><td>2025-10-11T12:00:00Z</td><td>Pune</td><td>411001</td><td>203.0.113.11</td><td>2025-10-11</td><td>P003</td><td>2</td><td>1500.0</td><td>3000.0</td><td>6300.0</td><td>false</td><td>5</td><td>2025-10-11</td></tr><tr><td>ORD004</td><td>C001</td><td>CARD</td><td>PLACED</td><td>2025-10-11T12:00:00Z</td><td>Pune</td><td>411001</td><td>203.0.113.11</td><td>2025-10-11</td><td>P009</td><td>1</td><td>3300.0</td><td>3300.0</td><td>6300.0</td><td>false</td><td>5</td><td>2025-10-11</td></tr><tr><td>ORD005</td><td>C004</td><td>COD</td><td>PLACED</td><td>2025-10-12T08:45:00Z</td><td>Chennai</td><td>600001</td><td>203.0.113.14</td><td>2025-10-12</td><td>P007</td><td>2</td><td>800.0</td><td>1600.0</td><td>5600.0</td><td>false</td><td>5</td><td>2025-10-12</td></tr><tr><td>ORD005</td><td>C004</td><td>COD</td><td>PLACED</td><td>2025-10-12T08:45:00Z</td><td>Chennai</td><td>600001</td><td>203.0.113.14</td><td>2025-10-12</td><td>P010</td><td>1</td><td>4000.0</td><td>4000.0</td><td>5600.0</td><td>false</td><td>5</td><td>2025-10-12</td></tr><tr><td>ORD006</td><td>C005</td><td>WALLET</td><td>PLACED</td><td>2025-10-13T09:15:00Z</td><td>Hyderabad</td><td>500001</td><td>203.0.113.15</td><td>2025-10-13</td><td>P006</td><td>1</td><td>5000.0</td><td>5000.0</td><td>7300.0</td><td>false</td><td>5</td><td>2025-10-13</td></tr><tr><td>ORD006</td><td>C005</td><td>WALLET</td><td>PLACED</td><td>2025-10-13T09:15:00Z</td><td>Hyderabad</td><td>500001</td><td>203.0.113.15</td><td>2025-10-13</td><td>P012</td><td>1</td><td>2300.0</td><td>2300.0</td><td>7300.0</td><td>false</td><td>5</td><td>2025-10-13</td></tr><tr><td>ORD007</td><td>C006</td><td>CARD</td><td>PLACED</td><td>2025-10-14T14:40:00Z</td><td>Kolkata</td><td>700001</td><td>203.0.113.16</td><td>2025-10-14</td><td>P005</td><td>1</td><td>1800.0</td><td>1800.0</td><td>4200.0</td><td>false</td><td>5</td><td>2025-10-14</td></tr><tr><td>ORD007</td><td>C006</td><td>CARD</td><td>PLACED</td><td>2025-10-14T14:40:00Z</td><td>Kolkata</td><td>700001</td><td>203.0.113.16</td><td>2025-10-14</td><td>P013</td><td>2</td><td>1200.0</td><td>2400.0</td><td>4200.0</td><td>false</td><td>5</td><td>2025-10-14</td></tr><tr><td>ORD008</td><td>C007</td><td>COD</td><td>PLACED</td><td>2025-10-15T16:00:00Z</td><td>Mumbai</td><td>400002</td><td>203.0.113.17</td><td>2025-10-15</td><td>P014</td><td>3</td><td>900.0</td><td>2700.0</td><td>4150.0</td><td>false</td><td>5</td><td>2025-10-15</td></tr><tr><td>ORD008</td><td>C007</td><td>COD</td><td>PLACED</td><td>2025-10-15T16:00:00Z</td><td>Mumbai</td><td>400002</td><td>203.0.113.17</td><td>2025-10-15</td><td>P015</td><td>1</td><td>1450.0</td><td>1450.0</td><td>4150.0</td><td>false</td><td>5</td><td>2025-10-15</td></tr><tr><td>ORD009</td><td>C008</td><td>UPI</td><td>PLACED</td><td>2025-10-16T09:30:00Z</td><td>Delhi</td><td>110002</td><td>203.0.113.18</td><td>2025-10-16</td><td>P001</td><td>1</td><td>25000.0</td><td>25000.0</td><td>29000.0</td><td>true</td><td>5</td><td>2025-10-16</td></tr><tr><td>ORD009</td><td>C008</td><td>UPI</td><td>PLACED</td><td>2025-10-16T09:30:00Z</td><td>Delhi</td><td>110002</td><td>203.0.113.18</td><td>2025-10-16</td><td>P010</td><td>1</td><td>4000.0</td><td>4000.0</td><td>29000.0</td><td>true</td><td>5</td><td>2025-10-16</td></tr><tr><td>ORD010</td><td>C009</td><td>CARD</td><td>PLACED</td><td>2025-10-17T10:30:00Z</td><td>Pune</td><td>411018</td><td>203.0.113.19</td><td>2025-10-17</td><td>P002</td><td>1</td><td>55000.0</td><td>55000.0</td><td>57400.0</td><td>true</td><td>10</td><td>2025-10-17</td></tr><tr><td>ORD010</td><td>C009</td><td>CARD</td><td>PLACED</td><td>2025-10-17T10:30:00Z</td><td>Pune</td><td>411018</td><td>203.0.113.19</td><td>2025-10-17</td><td>P007</td><td>3</td><td>800.0</td><td>2400.0</td><td>57400.0</td><td>true</td><td>10</td><td>2025-10-17</td></tr><tr><td>ORD011</td><td>C010</td><td>UPI</td><td>PLACED</td><td>2025-10-18T11:00:00Z</td><td>Bengaluru</td><td>560002</td><td>203.0.113.20</td><td>2025-10-18</td><td>P003</td><td>1</td><td>1500.0</td><td>1500.0</td><td>1500.0</td><td>false</td><td>5</td><td>2025-10-18</td></tr><tr><td>ORD011</td><td>C010</td><td>UPI</td><td>PLACED</td><td>2025-10-18T11:00:00Z</td><td>Bengaluru</td><td>560002</td><td>203.0.113.20</td><td>2025-10-18</td><td>P016</td><td>1</td><td>0.0</td><td>0.0</td><td>1500.0</td><td>false</td><td>5</td><td>2025-10-18</td></tr><tr><td>ORD012</td><td>C002</td><td>COD</td><td>PLACED</td><td>2025-10-19T12:20:00Z</td><td>Chennai</td><td>600002</td><td>203.0.113.12</td><td>2025-10-19</td><td>P008</td><td>2</td><td>950.0</td><td>1900.0</td><td>3650.0</td><td>false</td><td>5</td><td>2025-10-19</td></tr><tr><td>ORD012</td><td>C002</td><td>COD</td><td>PLACED</td><td>2025-10-19T12:20:00Z</td><td>Chennai</td><td>600002</td><td>203.0.113.12</td><td>2025-10-19</td><td>P011</td><td>1</td><td>1750.0</td><td>1750.0</td><td>3650.0</td><td>false</td><td>5</td><td>2025-10-19</td></tr><tr><td>ORD013</td><td>C004</td><td>CARD</td><td>PLACED</td><td>2025-10-21T09:05:00Z</td><td>Hyderabad</td><td>500002</td><td>203.0.113.14</td><td>2025-10-21</td><td>P004</td><td>1</td><td>2500.0</td><td>2500.0</td><td>6250.0</td><td>false</td><td>5</td><td>2025-10-21</td></tr><tr><td>ORD013</td><td>C004</td><td>CARD</td><td>PLACED</td><td>2025-10-21T09:05:00Z</td><td>Hyderabad</td><td>500002</td><td>203.0.113.14</td><td>2025-10-21</td><td>P012</td><td>1</td><td>2300.0</td><td>2300.0</td><td>6250.0</td><td>false</td><td>5</td><td>2025-10-21</td></tr><tr><td>ORD013</td><td>C004</td><td>CARD</td><td>PLACED</td><td>2025-10-21T09:05:00Z</td><td>Hyderabad</td><td>500002</td><td>203.0.113.14</td><td>2025-10-21</td><td>P015</td><td>1</td><td>1450.0</td><td>1450.0</td><td>6250.0</td><td>false</td><td>5</td><td>2025-10-21</td></tr><tr><td>ORD014</td><td>C003</td><td>UPI</td><td>PLACED</td><td>2025-10-25T08:00:00Z</td><td>Mumbai</td><td>400003</td><td>203.0.113.13</td><td>2025-10-25</td><td>P005</td><td>1</td><td>1800.0</td><td>1800.0</td><td>5100.0</td><td>false</td><td>5</td><td>2025-10-25</td></tr><tr><td>ORD014</td><td>C003</td><td>UPI</td><td>PLACED</td><td>2025-10-25T08:00:00Z</td><td>Mumbai</td><td>400003</td><td>203.0.113.13</td><td>2025-10-25</td><td>P009</td><td>1</td><td>3300.0</td><td>3300.0</td><td>5100.0</td><td>false</td><td>5</td><td>2025-10-25</td></tr><tr><td>ORD015</td><td>C005</td><td>COD</td><td>PLACED</td><td>2025-10-30T17:45:00Z</td><td>Kolkata</td><td>700002</td><td>203.0.113.15</td><td>2025-10-30</td><td>P001</td><td>1</td><td>25000.0</td><td>25000.0</td><td>25000.0</td><td>true</td><td>30</td><td>2025-10-30</td></tr><tr><td>ORD016</td><td>C006</td><td>COD</td><td>PLACED</td><td>2025-10-12T10:00:00Z</td><td>Delhi</td><td>110001</td><td>203.0.113.16</td><td>2025-10-12</td><td>P005</td><td>1</td><td>15000.0</td><td>15000.0</td><td>15000.0</td><td>true</td><td>30</td><td>2025-10-12</td></tr><tr><td>ORD017</td><td>C007</td><td>CARD</td><td>PLACED</td><td>2025-10-12T10:05:00Z</td><td>Delhi</td><td>110001</td><td>203.0.113.16</td><td>2025-10-12</td><td>P005</td><td>1</td><td>15000.0</td><td>15000.0</td><td>15000.0</td><td>true</td><td>10</td><td>2025-10-12</td></tr><tr><td>ORD018</td><td>C008</td><td>CARD</td><td>PLACED</td><td>2025-10-13T08:10:00Z</td><td>Mumbai</td><td>400002</td><td>203.0.113.18</td><td>2025-10-13</td><td>P009</td><td>2</td><td>5000.0</td><td>10000.0</td><td>10000.0</td><td>false</td><td>5</td><td>2025-10-13</td></tr><tr><td>ORD019</td><td>C008</td><td>CARD</td><td>PLACED</td><td>2025-10-13T08:12:00Z</td><td>Mumbai</td><td>400002</td><td>203.0.113.18</td><td>2025-10-13</td><td>P009</td><td>1</td><td>5000.0</td><td>5000.0</td><td>5000.0</td><td>false</td><td>5</td><td>2025-10-13</td></tr><tr><td>ORD020</td><td>C009</td><td>UPI</td><td>PLACED</td><td>2025-10-13T09:00:00Z</td><td>Kolkata</td><td>700003</td><td>203.0.113.19</td><td>2025-10-13</td><td>P010</td><td>1</td><td>20000.0</td><td>20000.0</td><td>20000.0</td><td>true</td><td>5</td><td>2025-10-13</td></tr></tbody></table></div>"
      ]
     },
     "metadata": {
      "application/vnd.databricks.v1+output": {
       "addedWidgets": {},
       "aggData": [],
       "aggError": "",
       "aggOverflow": false,
       "aggSchema": [],
       "aggSeriesLimitReached": false,
       "aggType": "",
       "arguments": {},
       "columnCustomDisplayInfos": {},
       "data": [
        [
         "ORD001",
         "C001",
         "COD",
         "PLACED",
         "2025-10-08T09:10:00Z",
         "Mumbai",
         "400001",
         "203.0.113.11",
         "2025-10-08",
         "P001",
         1,
         25000.0,
         25000.0,
         25950.0,
         true,
         30,
         "2025-10-08"
        ],
        [
         "ORD001",
         "C001",
         "COD",
         "PLACED",
         "2025-10-08T09:10:00Z",
         "Mumbai",
         "400001",
         "203.0.113.11",
         "2025-10-08",
         "P008",
         1,
         950.0,
         950.0,
         25950.0,
         true,
         30,
         "2025-10-08"
        ],
        [
         "ORD002",
         "C002",
         "CARD",
         "PLACED",
         "2025-10-09T10:20:00Z",
         "Delhi",
         "110001",
         "203.0.113.12",
         "2025-10-09",
         "P004",
         1,
         2500.0,
         2500.0,
         4250.0,
         false,
         5,
         "2025-10-09"
        ],
        [
         "ORD002",
         "C002",
         "CARD",
         "PLACED",
         "2025-10-09T10:20:00Z",
         "Delhi",
         "110001",
         "203.0.113.12",
         "2025-10-09",
         "P011",
         1,
         1750.0,
         1750.0,
         4250.0,
         false,
         5,
         "2025-10-09"
        ],
        [
         "ORD003",
         "C003",
         "UPI",
         "PLACED",
         "2025-10-10T11:30:00Z",
         "Bengaluru",
         "560001",
         "203.0.113.13",
         "2025-10-10",
         "P002",
         1,
         55000.0,
         55000.0,
         55000.0,
         true,
         5,
         "2025-10-10"
        ],
        [
         "ORD004",
         "C001",
         "CARD",
         "PLACED",
         "2025-10-11T12:00:00Z",
         "Pune",
         "411001",
         "203.0.113.11",
         "2025-10-11",
         "P003",
         2,
         1500.0,
         3000.0,
         6300.0,
         false,
         5,
         "2025-10-11"
        ],
        [
         "ORD004",
         "C001",
         "CARD",
         "PLACED",
         "2025-10-11T12:00:00Z",
         "Pune",
         "411001",
         "203.0.113.11",
         "2025-10-11",
         "P009",
         1,
         3300.0,
         3300.0,
         6300.0,
         false,
         5,
         "2025-10-11"
        ],
        [
         "ORD005",
         "C004",
         "COD",
         "PLACED",
         "2025-10-12T08:45:00Z",
         "Chennai",
         "600001",
         "203.0.113.14",
         "2025-10-12",
         "P007",
         2,
         800.0,
         1600.0,
         5600.0,
         false,
         5,
         "2025-10-12"
        ],
        [
         "ORD005",
         "C004",
         "COD",
         "PLACED",
         "2025-10-12T08:45:00Z",
         "Chennai",
         "600001",
         "203.0.113.14",
         "2025-10-12",
         "P010",
         1,
         4000.0,
         4000.0,
         5600.0,
         false,
         5,
         "2025-10-12"
        ],
        [
         "ORD006",
         "C005",
         "WALLET",
         "PLACED",
         "2025-10-13T09:15:00Z",
         "Hyderabad",
         "500001",
         "203.0.113.15",
         "2025-10-13",
         "P006",
         1,
         5000.0,
         5000.0,
         7300.0,
         false,
         5,
         "2025-10-13"
        ],
        [
         "ORD006",
         "C005",
         "WALLET",
         "PLACED",
         "2025-10-13T09:15:00Z",
         "Hyderabad",
         "500001",
         "203.0.113.15",
         "2025-10-13",
         "P012",
         1,
         2300.0,
         2300.0,
         7300.0,
         false,
         5,
         "2025-10-13"
        ],
        [
         "ORD007",
         "C006",
         "CARD",
         "PLACED",
         "2025-10-14T14:40:00Z",
         "Kolkata",
         "700001",
         "203.0.113.16",
         "2025-10-14",
         "P005",
         1,
         1800.0,
         1800.0,
         4200.0,
         false,
         5,
         "2025-10-14"
        ],
        [
         "ORD007",
         "C006",
         "CARD",
         "PLACED",
         "2025-10-14T14:40:00Z",
         "Kolkata",
         "700001",
         "203.0.113.16",
         "2025-10-14",
         "P013",
         2,
         1200.0,
         2400.0,
         4200.0,
         false,
         5,
         "2025-10-14"
        ],
        [
         "ORD008",
         "C007",
         "COD",
         "PLACED",
         "2025-10-15T16:00:00Z",
         "Mumbai",
         "400002",
         "203.0.113.17",
         "2025-10-15",
         "P014",
         3,
         900.0,
         2700.0,
         4150.0,
         false,
         5,
         "2025-10-15"
        ],
        [
         "ORD008",
         "C007",
         "COD",
         "PLACED",
         "2025-10-15T16:00:00Z",
         "Mumbai",
         "400002",
         "203.0.113.17",
         "2025-10-15",
         "P015",
         1,
         1450.0,
         1450.0,
         4150.0,
         false,
         5,
         "2025-10-15"
        ],
        [
         "ORD009",
         "C008",
         "UPI",
         "PLACED",
         "2025-10-16T09:30:00Z",
         "Delhi",
         "110002",
         "203.0.113.18",
         "2025-10-16",
         "P001",
         1,
         25000.0,
         25000.0,
         29000.0,
         true,
         5,
         "2025-10-16"
        ],
        [
         "ORD009",
         "C008",
         "UPI",
         "PLACED",
         "2025-10-16T09:30:00Z",
         "Delhi",
         "110002",
         "203.0.113.18",
         "2025-10-16",
         "P010",
         1,
         4000.0,
         4000.0,
         29000.0,
         true,
         5,
         "2025-10-16"
        ],
        [
         "ORD010",
         "C009",
         "CARD",
         "PLACED",
         "2025-10-17T10:30:00Z",
         "Pune",
         "411018",
         "203.0.113.19",
         "2025-10-17",
         "P002",
         1,
         55000.0,
         55000.0,
         57400.0,
         true,
         10,
         "2025-10-17"
        ],
        [
         "ORD010",
         "C009",
         "CARD",
         "PLACED",
         "2025-10-17T10:30:00Z",
         "Pune",
         "411018",
         "203.0.113.19",
         "2025-10-17",
         "P007",
         3,
         800.0,
         2400.0,
         57400.0,
         true,
         10,
         "2025-10-17"
        ],
        [
         "ORD011",
         "C010",
         "UPI",
         "PLACED",
         "2025-10-18T11:00:00Z",
         "Bengaluru",
         "560002",
         "203.0.113.20",
         "2025-10-18",
         "P003",
         1,
         1500.0,
         1500.0,
         1500.0,
         false,
         5,
         "2025-10-18"
        ],
        [
         "ORD011",
         "C010",
         "UPI",
         "PLACED",
         "2025-10-18T11:00:00Z",
         "Bengaluru",
         "560002",
         "203.0.113.20",
         "2025-10-18",
         "P016",
         1,
         0.0,
         0.0,
         1500.0,
         false,
         5,
         "2025-10-18"
        ],
        [
         "ORD012",
         "C002",
         "COD",
         "PLACED",
         "2025-10-19T12:20:00Z",
         "Chennai",
         "600002",
         "203.0.113.12",
         "2025-10-19",
         "P008",
         2,
         950.0,
         1900.0,
         3650.0,
         false,
         5,
         "2025-10-19"
        ],
        [
         "ORD012",
         "C002",
         "COD",
         "PLACED",
         "2025-10-19T12:20:00Z",
         "Chennai",
         "600002",
         "203.0.113.12",
         "2025-10-19",
         "P011",
         1,
         1750.0,
         1750.0,
         3650.0,
         false,
         5,
         "2025-10-19"
        ],
        [
         "ORD013",
         "C004",
         "CARD",
         "PLACED",
         "2025-10-21T09:05:00Z",
         "Hyderabad",
         "500002",
         "203.0.113.14",
         "2025-10-21",
         "P004",
         1,
         2500.0,
         2500.0,
         6250.0,
         false,
         5,
         "2025-10-21"
        ],
        [
         "ORD013",
         "C004",
         "CARD",
         "PLACED",
         "2025-10-21T09:05:00Z",
         "Hyderabad",
         "500002",
         "203.0.113.14",
         "2025-10-21",
         "P012",
         1,
         2300.0,
         2300.0,
         6250.0,
         false,
         5,
         "2025-10-21"
        ],
        [
         "ORD013",
         "C004",
         "CARD",
         "PLACED",
         "2025-10-21T09:05:00Z",
         "Hyderabad",
         "500002",
         "203.0.113.14",
         "2025-10-21",
         "P015",
         1,
         1450.0,
         1450.0,
         6250.0,
         false,
         5,
         "2025-10-21"
        ],
        [
         "ORD014",
         "C003",
         "UPI",
         "PLACED",
         "2025-10-25T08:00:00Z",
         "Mumbai",
         "400003",
         "203.0.113.13",
         "2025-10-25",
         "P005",
         1,
         1800.0,
         1800.0,
         5100.0,
         false,
         5,
         "2025-10-25"
        ],
        [
         "ORD014",
         "C003",
         "UPI",
         "PLACED",
         "2025-10-25T08:00:00Z",
         "Mumbai",
         "400003",
         "203.0.113.13",
         "2025-10-25",
         "P009",
         1,
         3300.0,
         3300.0,
         5100.0,
         false,
         5,
         "2025-10-25"
        ],
        [
         "ORD015",
         "C005",
         "COD",
         "PLACED",
         "2025-10-30T17:45:00Z",
         "Kolkata",
         "700002",
         "203.0.113.15",
         "2025-10-30",
         "P001",
         1,
         25000.0,
         25000.0,
         25000.0,
         true,
         30,
         "2025-10-30"
        ],
        [
         "ORD016",
         "C006",
         "COD",
         "PLACED",
         "2025-10-12T10:00:00Z",
         "Delhi",
         "110001",
         "203.0.113.16",
         "2025-10-12",
         "P005",
         1,
         15000.0,
         15000.0,
         15000.0,
         true,
         30,
         "2025-10-12"
        ],
        [
         "ORD017",
         "C007",
         "CARD",
         "PLACED",
         "2025-10-12T10:05:00Z",
         "Delhi",
         "110001",
         "203.0.113.16",
         "2025-10-12",
         "P005",
         1,
         15000.0,
         15000.0,
         15000.0,
         true,
         10,
         "2025-10-12"
        ],
        [
         "ORD018",
         "C008",
         "CARD",
         "PLACED",
         "2025-10-13T08:10:00Z",
         "Mumbai",
         "400002",
         "203.0.113.18",
         "2025-10-13",
         "P009",
         2,
         5000.0,
         10000.0,
         10000.0,
         false,
         5,
         "2025-10-13"
        ],
        [
         "ORD019",
         "C008",
         "CARD",
         "PLACED",
         "2025-10-13T08:12:00Z",
         "Mumbai",
         "400002",
         "203.0.113.18",
         "2025-10-13",
         "P009",
         1,
         5000.0,
         5000.0,
         5000.0,
         false,
         5,
         "2025-10-13"
        ],
        [
         "ORD020",
         "C009",
         "UPI",
         "PLACED",
         "2025-10-13T09:00:00Z",
         "Kolkata",
         "700003",
         "203.0.113.19",
         "2025-10-13",
         "P010",
         1,
         20000.0,
         20000.0,
         20000.0,
         true,
         5,
         "2025-10-13"
        ]
       ],
       "datasetInfos": [
        {
         "name": "_sqldf",
         "schema": {
          "fields": [
           {
            "metadata": {},
            "name": "order_id",
            "nullable": true,
            "type": "string"
           },
           {
            "metadata": {},
            "name": "customer_id",
            "nullable": true,
            "type": "string"
           },
           {
            "metadata": {},
            "name": "payment_method",
            "nullable": true,
            "type": "string"
           },
           {
            "metadata": {},
            "name": "order_status",
            "nullable": true,
            "type": "string"
           },
           {
            "metadata": {},
            "name": "event_time",
            "nullable": true,
            "type": "string"
           },
           {
            "metadata": {},
            "name": "shipping_city",
            "nullable": true,
            "type": "string"
           },
           {
            "metadata": {},
            "name": "shipping_pincode",
            "nullable": true,
            "type": "string"
           },
           {
            "metadata": {},
            "name": "ip_address",
            "nullable": true,
            "type": "string"
           },
           {
            "metadata": {},
            "name": "order_date",
            "nullable": true,
            "type": "date"
           },
           {
            "metadata": {},
            "name": "product_id",
            "nullable": true,
            "type": "string"
           },
           {
            "metadata": {},
            "name": "quantity",
            "nullable": true,
            "type": "integer"
           },
           {
            "metadata": {},
            "name": "price",
            "nullable": true,
            "type": "double"
           },
           {
            "metadata": {},
            "name": "item_value_in_order",
            "nullable": true,
            "type": "double"
           },
           {
            "metadata": {},
            "name": "order_total_value",
            "nullable": true,
            "type": "double"
           },
           {
            "metadata": {},
            "name": "is_high_value",
            "nullable": true,
            "type": "boolean"
           },
           {
            "metadata": {},
            "name": "fraud_score",
            "nullable": true,
            "type": "integer"
           },
           {
            "metadata": {},
            "name": "event_date",
            "nullable": true,
            "type": "date"
           }
          ],
          "type": "struct"
         },
         "tableIdentifier": null,
         "typeStr": "pyspark.sql.connect.dataframe.DataFrame"
        }
       ],
       "dbfsResultPath": null,
       "isJsonSchema": true,
       "metadata": {
        "createTempViewForImplicitDf": true,
        "dataframeName": "_sqldf",
        "executionCount": 9
       },
       "overflow": false,
       "plotOptions": {
        "customPlotOptions": {},
        "displayType": "table",
        "pivotAggregation": null,
        "pivotColumns": null,
        "xColumns": null,
        "yColumns": null
       },
       "removedWidgets": [],
       "schema": [
        {
         "metadata": "{}",
         "name": "order_id",
         "type": "\"string\""
        },
        {
         "metadata": "{}",
         "name": "customer_id",
         "type": "\"string\""
        },
        {
         "metadata": "{}",
         "name": "payment_method",
         "type": "\"string\""
        },
        {
         "metadata": "{}",
         "name": "order_status",
         "type": "\"string\""
        },
        {
         "metadata": "{}",
         "name": "event_time",
         "type": "\"string\""
        },
        {
         "metadata": "{}",
         "name": "shipping_city",
         "type": "\"string\""
        },
        {
         "metadata": "{}",
         "name": "shipping_pincode",
         "type": "\"string\""
        },
        {
         "metadata": "{}",
         "name": "ip_address",
         "type": "\"string\""
        },
        {
         "metadata": "{}",
         "name": "order_date",
         "type": "\"date\""
        },
        {
         "metadata": "{}",
         "name": "product_id",
         "type": "\"string\""
        },
        {
         "metadata": "{}",
         "name": "quantity",
         "type": "\"integer\""
        },
        {
         "metadata": "{}",
         "name": "price",
         "type": "\"double\""
        },
        {
         "metadata": "{}",
         "name": "item_value_in_order",
         "type": "\"double\""
        },
        {
         "metadata": "{}",
         "name": "order_total_value",
         "type": "\"double\""
        },
        {
         "metadata": "{}",
         "name": "is_high_value",
         "type": "\"boolean\""
        },
        {
         "metadata": "{}",
         "name": "fraud_score",
         "type": "\"integer\""
        },
        {
         "metadata": "{}",
         "name": "event_date",
         "type": "\"date\""
        }
       ],
       "type": "table"
      }
     },
     "output_type": "display_data"
    }
   ],
   "source": [
    "%sql\n",
    "select * from `e-commerce-project`.silver.orders"
   ]
  },
  {
   "cell_type": "code",
   "execution_count": 0,
   "metadata": {
    "application/vnd.databricks.v1+cell": {
     "cellMetadata": {
      "byteLimit": 2048000,
      "rowLimit": 10000
     },
     "inputWidgets": {},
     "nuid": "4d817973-0c2d-49cc-8826-9662dc9c5c54",
     "showTitle": false,
     "tableResultSettingsMap": {},
     "title": ""
    }
   },
   "outputs": [
    {
     "output_type": "display_data",
     "data": {
      "text/plain": [
       "34"
      ]
     },
     "metadata": {},
     "output_type": "display_data"
    }
   ],
   "source": [
    "# Databricks notebook: gold_fact_orders\n",
    "\n",
    "from pyspark.sql import SparkSession\n",
    "from pyspark.sql import functions as F\n",
    "from pyspark.sql.window import Window\n",
    "from delta.tables import DeltaTable\n",
    "\n",
    "# --------------------------------------------\n",
    "# Step 1: Join orders, payments, and shipments\n",
    "# --------------------------------------------\n",
    "fact_orders = (\n",
    "    orders_df.alias(\"o\")\n",
    "    .join(payments_df.alias(\"p\"), F.col(\"o.order_id\") == F.col(\"p.order_id\"), \"left\")\n",
    "    .join(shipments_df.alias(\"s\"), F.col(\"o.order_id\") == F.col(\"s.order_id\"), \"left\")\n",
    "    .select(\n",
    "        F.col(\"o.order_id\"),\n",
    "        F.col(\"o.customer_id\"),\n",
    "        F.col(\"o.product_id\"),\n",
    "        F.col(\"o.shipping_city\"),\n",
    "        F.col(\"o.shipping_pincode\"),\n",
    "        F.col(\"o.ip_address\"),\n",
    "        F.col(\"o.order_total_value\").alias(\"order_amount\"),\n",
    "        F.col(\"p.method\").alias(\"payment_method\"),\n",
    "        F.col(\"p.payment_status\"),\n",
    "        F.col(\"s.courier\"),\n",
    "        F.col(\"s.status\").alias(\"shipment_status\"),\n",
    "        F.col(\"s.delivery_delay_hours\"),\n",
    "        F.col(\"o.order_date\"),\n",
    "        F.col(\"o.event_date\"),\n",
    "        F.col(\"o.is_high_value\"),\n",
    "        F.col(\"o.fraud_score\"),\n",
    "        F.current_timestamp().alias(\"last_updated\")\n",
    "    )\n",
    ")\n",
    "\n",
    "# --------------------------------------------\n",
    "# Step 3: Write or Merge into fact_orders table\n",
    "# --------------------------------------------\n",
    "# First time run → create table\n",
    "# fact_orders.write.format(\"delta\").mode(\"overwrite\").saveAsTable(\"`e-commerce-project`.gold.fact_orders\")\n",
    "\n",
    "display(\n",
    "    fact_orders.count()\n",
    ")\n"
   ]
  },
  {
   "cell_type": "code",
   "execution_count": 0,
   "metadata": {
    "application/vnd.databricks.v1+cell": {
     "cellMetadata": {
      "byteLimit": 2048000,
      "rowLimit": 10000
     },
     "inputWidgets": {},
     "nuid": "bd8fb556-0e9f-4afb-a4d4-ab4e4b1239ca",
     "showTitle": false,
     "tableResultSettingsMap": {},
     "title": ""
    }
   },
   "outputs": [
    {
     "output_type": "stream",
     "name": "stdout",
     "output_type": "stream",
     "text": [
      "✅ Created new Delta table: `e-commerce-project`.gold.fact_orders\n"
     ]
    }
   ],
   "source": [
    "transformer.create_or_upsert(\n",
    "    spark,\n",
    "    fact_orders,\n",
    "    [\"order_id\",\"customer_id\",\"product_id\"],\n",
    "    \"gold.fact_orders\",\n",
    "    \"last_updated\"\n",
    ")"
   ]
  },
  {
   "cell_type": "code",
   "execution_count": 0,
   "metadata": {
    "application/vnd.databricks.v1+cell": {
     "cellMetadata": {
      "byteLimit": 2048000,
      "implicitDf": true,
      "rowLimit": 10000
     },
     "inputWidgets": {},
     "nuid": "598487aa-c02d-418e-a969-7dd507881d04",
     "showTitle": false,
     "tableResultSettingsMap": {},
     "title": ""
    }
   },
   "outputs": [
    {
     "output_type": "stream",
     "name": "stdout",
     "output_type": "stream",
     "text": [
      "+----------+--------------------+----------------+---------+-------+--------------------+--------------------+--------+\n|product_id|        product_name|product_category|    brand|  price|        last_updated|          __START_AT|__END_AT|\n+----------+--------------------+----------------+---------+-------+--------------------+--------------------+--------+\n|      P001|      Smartphone-s21|     Electronics|  SAMSUNG|25000.0|2025-10-18 04:02:...|2025-10-18 04:02:...|    NULL|\n|      P002|              Laptop|     Electronics|     DELL|55000.0|2025-10-18 04:02:...|2025-10-18 04:02:...|    NULL|\n|      P003|               Jeans|         Fashion|    LEVIS| 1500.0|2025-10-18 04:02:...|2025-10-18 04:02:...|    NULL|\n|      P004|               Shoes|         Fashion|     NIKE| 2500.0|2025-10-18 04:02:...|2025-10-18 04:02:...|    NULL|\n|      P005|             Blender|            Home|  PHILIPS| 1800.0|2025-10-18 04:02:...|2025-10-18 04:02:...|    NULL|\n|      P006|           Microwave|            Home|       LG| 5000.0|2025-10-18 04:02:...|2025-10-18 04:02:...|    NULL|\n|      P007|             T-shirt|         Fashion|      H&M|  800.0|2025-10-18 04:02:...|2025-10-18 04:02:...|    NULL|\n|      P008|          Headphones|     Electronics|     SONY|  950.0|2025-10-18 04:02:...|2025-10-18 04:02:...|    NULL|\n|      P009|        Coffee Maker|            Home| PRESTIGE| 3300.0|2025-10-18 04:02:...|2025-10-18 04:02:...|    NULL|\n|      P010|             I-watch|     Electronics|    APPLE| 4000.0|2025-10-18 04:02:...|2025-10-18 04:02:...|    NULL|\n|      P011|            Backpack|         Fashion|WILDCRAFT| 1750.0|2025-10-18 04:02:...|2025-10-18 04:02:...|    NULL|\n|      P012|       Mixer Grinder|            Home|    BAJAJ| 2300.0|2025-10-18 04:02:...|2025-10-18 04:02:...|    NULL|\n|      P013|               Socks|         Fashion|     PUMA| 1200.0|2025-10-18 04:02:...|2025-10-18 04:02:...|    NULL|\n|      P014|        Water Bottle|          Sports|     NIKE|  900.0|2025-10-18 04:02:...|2025-10-18 04:02:...|    NULL|\n|      P015|        Gaming Mouse|     Electronics| LOGITECH| 1450.0|2025-10-18 04:02:...|2025-10-18 04:02:...|    NULL|\n|      P016|Unknown_product_p...|         Unknown|     NULL|    0.0|2025-10-18 04:02:...|2025-10-18 04:02:...|    NULL|\n+----------+--------------------+----------------+---------+-------+--------------------+--------------------+--------+\n\n+-----------+-------------+--------------------+-------+---------+------------+---------+--------------------+--------------------+--------+\n|customer_id|customer_name|               email|country|  segment|phone_number|  address|        last_updated|          __START_AT|__END_AT|\n+-----------+-------------+--------------------+-------+---------+------------+---------+--------------------+--------------------+--------+\n|       C001| Rahul Sharma|rahul.sharma@exam...|  India|   Retail|  9876500001|    Delhi|2025-10-18 04:02:...|2025-10-18 04:02:...|    NULL|\n|       C002| Anjali Verma|anjali.verma@exam...|  India|  Premium|  9876500002|   Mumbai|2025-10-18 04:02:...|2025-10-18 04:02:...|    NULL|\n|       C003| Deepak Singh|deepak.singh@exam...|  India|   Retail|  9876500003|Bengaluru|2025-10-18 04:02:...|2025-10-18 04:02:...|    NULL|\n|       C004| Pooja Kapoor|pooja.kapoor@exam...|  India|Corporate|  9876500004|     Pune|2025-10-18 04:02:...|2025-10-18 04:02:...|    NULL|\n|       C005|  Rohit Mehta|rohit.mehta@examp...|  India|  Premium|  9876500005|  Chennai|2025-10-18 04:02:...|2025-10-18 04:02:...|    NULL|\n|       C006|  Sneha Joshi|sneha.joshi@examp...|  India|   Retail|  9876500006|Hyderabad|2025-10-18 04:02:...|2025-10-18 04:02:...|    NULL|\n|       C007|   Varun Iyer|varun.iyer@exampl...|  India|Corporate|  9876500007|  Kolkata|2025-10-18 04:02:...|2025-10-18 04:02:...|    NULL|\n|       C008|    Neha Nair|neha.nair@example...|  India|   Retail|  9876500008|    Delhi|2025-10-18 04:02:...|2025-10-18 04:02:...|    NULL|\n|       C009|  Arjun Reddy|arjun.reddy@examp...|  India|  Premium|  9876500009|     Pune|2025-10-18 04:02:...|2025-10-18 04:02:...|    NULL|\n|       C010|  Divya Patil|divya.patil@examp...|  India|Corporate|  9876500010|Bengaluru|2025-10-18 04:02:...|2025-10-18 04:02:...|    NULL|\n+-----------+-------------+--------------------+-------+---------+------------+---------+--------------------+--------------------+--------+\n\n+----------+------------+------------+------+--------------------+--------------------+--------+\n|courier_id|courier_name|service_type|region|        last_updated|          __START_AT|__END_AT|\n+----------+------------+------------+------+--------------------+--------------------+--------+\n|     CR003|    Bluedart|     EXPRESS| India|2025-10-18 04:03:...|2025-10-18 04:03:...|    NULL|\n|     CR004|   Delhivery|    STANDARD| India|2025-10-18 04:03:...|2025-10-18 04:03:...|    NULL|\n|     CR005|        Dtdc|    STANDARD| India|2025-10-18 04:03:...|2025-10-18 04:03:...|    NULL|\n|     CR006| Ecomexpress|     ECONOMY| India|2025-10-18 04:03:...|2025-10-18 04:03:...|    NULL|\n+----------+------------+------------+------+--------------------+--------------------+--------+\n\n"
     ]
    }
   ],
   "source": [
    "spark.read.table(\"`e-commerce-project`.gold.dim_products\").show(20) \n",
    "spark.read.table(\"`e-commerce-project`.gold.dim_customers\").show(20)\n",
    "spark.read.table(\"`e-commerce-project`.gold.dim_courier_partners\").show(20)"
   ]
  }
 ],
 "metadata": {
  "application/vnd.databricks.v1+notebook": {
   "computePreferences": null,
   "dashboards": [],
   "environmentMetadata": {
    "base_environment": "",
    "environment_version": "4"
   },
   "inputWidgetPreferences": null,
   "language": "python",
   "notebookMetadata": {
    "mostRecentlyExecutedCommandWithImplicitDF": {
     "commandId": -1,
     "dataframes": [
      "_sqldf"
     ]
    },
    "pythonIndentUnit": 4
   },
   "notebookName": "Gold",
   "widgets": {}
  },
  "language_info": {
   "name": "python"
  }
 },
 "nbformat": 4,
 "nbformat_minor": 0
}