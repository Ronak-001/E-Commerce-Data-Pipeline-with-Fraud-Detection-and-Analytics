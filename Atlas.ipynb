{
 "cells": [
  {
   "cell_type": "code",
   "execution_count": 0,
   "metadata": {
    "application/vnd.databricks.v1+cell": {
     "cellMetadata": {
      "byteLimit": 2048000,
      "rowLimit": 10000
     },
     "inputWidgets": {},
     "nuid": "7b545816-93be-4ad3-95de-ddbcea07136e",
     "showTitle": false,
     "tableResultSettingsMap": {},
     "title": ""
    }
   },
   "outputs": [
    {
     "output_type": "stream",
     "name": "stdout",
     "output_type": "stream",
     "text": [
      "Requirement already satisfied: pymongo in /local_disk0/.ephemeral_nfs/envs/pythonEnv-e9561c60-8bed-458c-83dd-1b38d5df4162/lib/python3.12/site-packages (4.15.2)\nRequirement already satisfied: dnspython<3.0.0,>=1.16.0 in /local_disk0/.ephemeral_nfs/envs/pythonEnv-e9561c60-8bed-458c-83dd-1b38d5df4162/lib/python3.12/site-packages (from pymongo) (2.8.0)\n\u001B[43mNote: you may need to restart the kernel using %restart_python or dbutils.library.restartPython() to use updated packages.\u001B[0m\n"
     ]
    }
   ],
   "source": [
    "%pip install pymongo"
   ]
  },
  {
   "cell_type": "code",
   "execution_count": 0,
   "metadata": {
    "application/vnd.databricks.v1+cell": {
     "cellMetadata": {
      "byteLimit": 2048000,
      "rowLimit": 10000
     },
     "inputWidgets": {},
     "nuid": "9e1b4644-7641-4aab-890f-9238a6b36927",
     "showTitle": false,
     "tableResultSettingsMap": {},
     "title": ""
    }
   },
   "outputs": [],
   "source": [
    "dbutils.library.restartPython()"
   ]
  },
  {
   "cell_type": "code",
   "execution_count": 0,
   "metadata": {
    "application/vnd.databricks.v1+cell": {
     "cellMetadata": {
      "byteLimit": 2048000,
      "implicitDf": true,
      "rowLimit": 10000
     },
     "inputWidgets": {},
     "nuid": "9cc871c7-5078-4360-8118-a5710fc0b58f",
     "showTitle": false,
     "tableResultSettingsMap": {},
     "title": ""
    }
   },
   "outputs": [
    {
     "output_type": "display_data",
     "data": {
      "text/html": [
       "<style scoped>\n",
       "  .table-result-container {\n",
       "    max-height: 300px;\n",
       "    overflow: auto;\n",
       "  }\n",
       "  table, th, td {\n",
       "    border: 1px solid black;\n",
       "    border-collapse: collapse;\n",
       "  }\n",
       "  th, td {\n",
       "    padding: 5px;\n",
       "  }\n",
       "  th {\n",
       "    text-align: left;\n",
       "  }\n",
       "</style><div class='table-result-container'><table class='table-result'><thead style='background-color: white'><tr><th>order_id</th><th>customer_id</th><th>payment_method</th><th>order_status</th><th>event_time</th><th>shipping_city</th><th>shipping_pincode</th><th>ip_address</th><th>items</th><th>event_date</th></tr></thead><tbody><tr><td>ORD004</td><td>C001</td><td>CARD</td><td>PLACED</td><td>2025-10-11T12:00:00Z</td><td>Pune</td><td>411001</td><td>203.0.113.11</td><td>List(List(P003, 2, 1500.0, 3000.0), List(P009, 1, 3300.0, 3300.0))</td><td>2025-10-11</td></tr></tbody></table></div>"
      ]
     },
     "metadata": {
      "application/vnd.databricks.v1+output": {
       "addedWidgets": {},
       "aggData": [],
       "aggError": "",
       "aggOverflow": false,
       "aggSchema": [],
       "aggSeriesLimitReached": false,
       "aggType": "",
       "arguments": {},
       "columnCustomDisplayInfos": {},
       "data": [
        [
         "ORD004",
         "C001",
         "CARD",
         "PLACED",
         "2025-10-11T12:00:00Z",
         "Pune",
         "411001",
         "203.0.113.11",
         [
          [
           "P003",
           2,
           1500.0,
           3000.0
          ],
          [
           "P009",
           1,
           3300.0,
           3300.0
          ]
         ],
         "2025-10-11"
        ]
       ],
       "datasetInfos": [
        {
         "name": "_sqldf",
         "schema": {
          "fields": [
           {
            "metadata": {},
            "name": "order_id",
            "nullable": true,
            "type": "string"
           },
           {
            "metadata": {},
            "name": "customer_id",
            "nullable": true,
            "type": "string"
           },
           {
            "metadata": {},
            "name": "payment_method",
            "nullable": true,
            "type": "string"
           },
           {
            "metadata": {},
            "name": "order_status",
            "nullable": true,
            "type": "string"
           },
           {
            "metadata": {},
            "name": "event_time",
            "nullable": true,
            "type": "string"
           },
           {
            "metadata": {},
            "name": "shipping_city",
            "nullable": true,
            "type": "string"
           },
           {
            "metadata": {},
            "name": "shipping_pincode",
            "nullable": true,
            "type": "string"
           },
           {
            "metadata": {},
            "name": "ip_address",
            "nullable": true,
            "type": "string"
           },
           {
            "metadata": {},
            "name": "items",
            "nullable": true,
            "type": {
             "containsNull": true,
             "elementType": {
              "fields": [
               {
                "metadata": {},
                "name": "product_id",
                "nullable": true,
                "type": "string"
               },
               {
                "metadata": {},
                "name": "quantity",
                "nullable": true,
                "type": "integer"
               },
               {
                "metadata": {},
                "name": "unit_price",
                "nullable": true,
                "type": "double"
               },
               {
                "metadata": {},
                "name": "amount",
                "nullable": true,
                "type": "double"
               }
              ],
              "type": "struct"
             },
             "type": "array"
            }
           },
           {
            "metadata": {},
            "name": "event_date",
            "nullable": true,
            "type": "date"
           }
          ],
          "type": "struct"
         },
         "tableIdentifier": null,
         "typeStr": "pyspark.sql.connect.dataframe.DataFrame"
        }
       ],
       "dbfsResultPath": null,
       "isJsonSchema": true,
       "metadata": {
        "createTempViewForImplicitDf": true,
        "dataframeName": "_sqldf",
        "executionCount": 22
       },
       "overflow": false,
       "plotOptions": {
        "customPlotOptions": {},
        "displayType": "table",
        "pivotAggregation": null,
        "pivotColumns": null,
        "xColumns": null,
        "yColumns": null
       },
       "removedWidgets": [],
       "schema": [
        {
         "metadata": "{}",
         "name": "order_id",
         "type": "\"string\""
        },
        {
         "metadata": "{}",
         "name": "customer_id",
         "type": "\"string\""
        },
        {
         "metadata": "{}",
         "name": "payment_method",
         "type": "\"string\""
        },
        {
         "metadata": "{}",
         "name": "order_status",
         "type": "\"string\""
        },
        {
         "metadata": "{}",
         "name": "event_time",
         "type": "\"string\""
        },
        {
         "metadata": "{}",
         "name": "shipping_city",
         "type": "\"string\""
        },
        {
         "metadata": "{}",
         "name": "shipping_pincode",
         "type": "\"string\""
        },
        {
         "metadata": "{}",
         "name": "ip_address",
         "type": "\"string\""
        },
        {
         "metadata": "{}",
         "name": "items",
         "type": "{\"containsNull\":true,\"elementType\":{\"fields\":[{\"metadata\":{},\"name\":\"product_id\",\"nullable\":true,\"type\":\"string\"},{\"metadata\":{},\"name\":\"quantity\",\"nullable\":true,\"type\":\"integer\"},{\"metadata\":{},\"name\":\"unit_price\",\"nullable\":true,\"type\":\"double\"},{\"metadata\":{},\"name\":\"amount\",\"nullable\":true,\"type\":\"double\"}],\"type\":\"struct\"},\"type\":\"array\"}"
        },
        {
         "metadata": "{}",
         "name": "event_date",
         "type": "\"date\""
        }
       ],
       "type": "table"
      }
     },
     "output_type": "display_data"
    }
   ],
   "source": [
    "%sql\n",
    "select * from `e-commerce-project`.bronze.orders limit 1"
   ]
  },
  {
   "cell_type": "code",
   "execution_count": 0,
   "metadata": {
    "application/vnd.databricks.v1+cell": {
     "cellMetadata": {
      "byteLimit": 2048000,
      "rowLimit": 10000
     },
     "inputWidgets": {},
     "nuid": "37c063df-b3db-4d76-bea3-9668968bc4f6",
     "showTitle": false,
     "tableResultSettingsMap": {},
     "title": ""
    }
   },
   "outputs": [
    {
     "output_type": "stream",
     "name": "stdout",
     "output_type": "stream",
     "text": [
      "root\n |-- order_id: string (nullable = true)\n |-- customer_id: string (nullable = true)\n |-- payment_method: string (nullable = true)\n |-- order_status: string (nullable = true)\n |-- event_time: string (nullable = true)\n |-- shipping_city: string (nullable = true)\n |-- shipping_pincode: string (nullable = true)\n |-- ip_address: string (nullable = true)\n |-- order_date: date (nullable = true)\n |-- order_total_value: double (nullable = true)\n |-- is_high_value: boolean (nullable = true)\n |-- fraud_score: integer (nullable = true)\n |-- event_date: date (nullable = true)\n |-- shipment_id: string (nullable = true)\n |-- courier: string (nullable = true)\n |-- dispatched_at: timestamp (nullable = true)\n |-- delivered_at: timestamp (nullable = true)\n |-- status: string (nullable = true)\n |-- delivery_delay_hours: double (nullable = true)\n |-- is_delivered: boolean (nullable = true)\n |-- is_canceled: boolean (nullable = true)\n |-- has_multiple_payments: boolean (nullable = false)\n |-- items: array (nullable = false)\n |    |-- element: struct (containsNull = false)\n |    |    |-- product_id: string (nullable = true)\n |    |    |-- quantity: integer (nullable = true)\n |    |    |-- unit_price: double (nullable = true)\n |    |    |-- amount: double (nullable = true)\n\n"
     ]
    }
   ],
   "source": [
    "#Read Silver Orders\n",
    "silver_orders = spark.table(\"`e-commerce-project`.silver.orders\")\n",
    "\n",
    "#Read Bronze Payments (raw attempts)\n",
    "bronze_payments = spark.table(\"`e-commerce-project`.bronze.payments\")\n",
    "\n",
    "silver_payments = spark.table(\"`e-commerce-project`.silver.shipments\").select(\"shipment_id\",\"order_id\",\"courier\",\"dispatched_at\",\"delivered_at\",\"status\",\"delivery_delay_hours\",\"is_delivered\",\"is_canceled\")\n",
    "\n",
    "\n",
    "#Detect Multiple Payment Attempts\n",
    "from pyspark.sql import functions as F, Window\n",
    "\n",
    "window = Window.partitionBy(\"order_id\").orderBy(\"payment_timestamp\")\n",
    "\n",
    "multi_payments = bronze_payments \\\n",
    "    .withColumn(\"attempt_number\", F.row_number().over(window)) \\\n",
    "    .filter(F.col(\"attempt_number\") > 1) \\\n",
    "    .select(\"order_id\", \"customer_id\", \"method\", \"payment_timestamp\")\n",
    "\n",
    "# Join suspicious payments with Silver orders\n",
    "enriched_fraud_df = silver_orders.join(\n",
    "    multi_payments.select(\"order_id\").distinct(),\n",
    "    on=\"order_id\",\n",
    "    how=\"left\"\n",
    "    )\\\n",
    "    .join(\n",
    "        silver_payments,\n",
    "        on=\"order_id\",\n",
    "        how=\"left\"\n",
    "    ) \\\n",
    "    .withColumn(\n",
    "    \"has_multiple_payments\", F.when(F.col(\"order_id\").isin([x[\"order_id\"] for x in multi_payments.collect()]), True).otherwise(False)\n",
    ")\n",
    "\n",
    "#Filter fraud candidates\n",
    "fraud_df = enriched_fraud_df.filter(\n",
    "    \"fraud_score > 20 OR is_high_value = true OR has_multiple_payments = true\"\n",
    ")\n",
    "\n",
    "from pyspark.sql import functions as F\n",
    "\n",
    "# Define the item struct\n",
    "fraud_orders_grouped = (\n",
    "    fraud_df\n",
    "    .withColumn(\n",
    "        \"item_struct\",\n",
    "        F.struct(\n",
    "            F.col(\"product_id\").alias(\"product_id\"),\n",
    "            F.col(\"quantity\").alias(\"quantity\"),\n",
    "            F.col(\"price\").alias(\"unit_price\"),\n",
    "            F.col(\"item_value_in_order\").alias(\"amount\")\n",
    "        )\n",
    "    )\n",
    "    .groupBy(\n",
    "        \"order_id\",\n",
    "        \"customer_id\",\n",
    "        \"payment_method\",\n",
    "        \"order_status\",\n",
    "        \"event_time\",\n",
    "        \"shipping_city\",\n",
    "        \"shipping_pincode\",\n",
    "        \"ip_address\",\n",
    "        \"order_date\",\n",
    "        \"order_total_value\",\n",
    "        \"is_high_value\",\n",
    "        \"fraud_score\",\n",
    "        \"event_date\",\n",
    "        \"shipment_id\",\n",
    "        \"courier\",\n",
    "        \"dispatched_at\",\n",
    "        \"delivered_at\",\n",
    "        \"status\",\n",
    "        \"delivery_delay_hours\",\n",
    "        \"is_delivered\",\n",
    "        \"is_canceled\",\n",
    "        \"has_multiple_payments\"\n",
    "    )\n",
    "    .agg(\n",
    "        F.collect_list(\"item_struct\").alias(\"items\")\n",
    "    )\n",
    ")\n",
    "fraud_orders_grouped.drop(\n",
    "    \"product_id\", \"quantity\", \"price\", \"item_value_in_order\"\n",
    ")\n",
    "fraud_orders_grouped.printSchema()\n",
    "fraud_orders_grouped = fraud_orders_grouped.withColumn(\n",
    "    \"total_items\", F.size(\"items\")\n",
    ")\n",
    "\n",
    "\n",
    "# Upsert to MongoDB Atlas\n",
    "from pymongo import MongoClient\n",
    "mongo_uri = dbutils.secrets.get(\"mongodb\", \"atlas-uri\")\n",
    "client = MongoClient(mongo_uri)\n",
    "db = client[\"ecommerce_project\"]\n",
    "collection = db[\"suspicious_orders\"]\n",
    "\n",
    "import datetime\n",
    "import numpy as np\n",
    "\n",
    "def convert_dates_and_arrays(obj):\n",
    "    if isinstance(obj, dict):\n",
    "        return {k: convert_dates_and_arrays(v) for k, v in obj.items()}\n",
    "    elif isinstance(obj, list):\n",
    "        return [convert_dates_and_arrays(i) for i in obj]\n",
    "    elif isinstance(obj, np.ndarray):\n",
    "        return [convert_dates_and_arrays(i) for i in obj.tolist()]\n",
    "    elif isinstance(obj, (datetime.date, datetime.datetime)):\n",
    "        return obj.isoformat()\n",
    "    else:\n",
    "        return obj\n",
    "\n",
    "data = fraud_orders_grouped.toPandas().to_dict(\"records\")\n",
    "data = [convert_dates_and_arrays(record) for record in data]\n",
    "\n",
    "for record in data:\n",
    "    collection.update_one(\n",
    "        {\"order_id\": record[\"order_id\"]},\n",
    "        {\"$set\": record},\n",
    "        upsert=True\n",
    "    )\n",
    "\n",
    "# display(fraud_df.schema)"
   ]
  },
  {
   "cell_type": "code",
   "execution_count": 0,
   "metadata": {
    "application/vnd.databricks.v1+cell": {
     "cellMetadata": {
      "byteLimit": 2048000,
      "rowLimit": 10000
     },
     "inputWidgets": {},
     "nuid": "5549e780-ee36-435a-ae7c-b811b8c7e6cf",
     "showTitle": false,
     "tableResultSettingsMap": {},
     "title": ""
    }
   },
   "outputs": [
    {
     "output_type": "display_data",
     "data": {
      "text/html": [
       "<style scoped>\n",
       "  .table-result-container {\n",
       "    max-height: 300px;\n",
       "    overflow: auto;\n",
       "  }\n",
       "  table, th, td {\n",
       "    border: 1px solid black;\n",
       "    border-collapse: collapse;\n",
       "  }\n",
       "  th, td {\n",
       "    padding: 5px;\n",
       "  }\n",
       "  th {\n",
       "    text-align: left;\n",
       "  }\n",
       "</style><div class='table-result-container'><table class='table-result'><thead style='background-color: white'><tr><th>order_id</th><th>customer_id</th><th>payment_method</th><th>order_status</th><th>event_time</th><th>shipping_city</th><th>shipping_pincode</th><th>ip_address</th><th>order_date</th><th>order_total_value</th><th>is_high_value</th><th>fraud_score</th><th>event_date</th><th>shipment_id</th><th>courier</th><th>dispatched_at</th><th>delivered_at</th><th>status</th><th>delivery_delay_hours</th><th>is_delivered</th><th>is_canceled</th><th>has_multiple_payments</th><th>items</th><th>total_items</th></tr></thead><tbody><tr><td>ORD008</td><td>C007</td><td>COD</td><td>PLACED</td><td>2025-10-15T16:00:00Z</td><td>Mumbai</td><td>400002</td><td>203.0.113.17</td><td>2025-10-15</td><td>4150.0</td><td>false</td><td>5</td><td>2025-10-15</td><td>SHIP_ORD008_3</td><td>EcomExpress</td><td>2025-10-16T07:30:00.000Z</td><td>2025-10-20T10:20:00.000Z</td><td>DELIVERED</td><td>98.83</td><td>true</td><td>false</td><td>true</td><td>List(List(P014, 3, 900.0, 2700.0), List(P015, 1, 1450.0, 1450.0))</td><td>2</td></tr><tr><td>ORD015</td><td>C005</td><td>COD</td><td>PLACED</td><td>2025-10-30T17:45:00Z</td><td>Kolkata</td><td>700002</td><td>203.0.113.15</td><td>2025-10-30</td><td>25000.0</td><td>true</td><td>30</td><td>2025-10-30</td><td>SHIP_ORD015_3</td><td>DTDC</td><td>2025-10-31T09:00:00.000Z</td><td>null</td><td>CANCELED</td><td>null</td><td>false</td><td>true</td><td>false</td><td>List(List(P001, 1, 25000.0, 25000.0))</td><td>1</td></tr><tr><td>ORD016</td><td>C006</td><td>COD</td><td>PLACED</td><td>2025-10-12T10:00:00Z</td><td>Delhi</td><td>110001</td><td>203.0.113.16</td><td>2025-10-12</td><td>15000.0</td><td>true</td><td>30</td><td>2025-10-12</td><td>SHIP_ORD016_1</td><td>BlueDart</td><td>2025-10-13T12:00:00.000Z</td><td>null</td><td>DISPATCHED</td><td>null</td><td>false</td><td>false</td><td>true</td><td>List(List(P005, 1, 15000.0, 15000.0))</td><td>1</td></tr><tr><td>ORD003</td><td>C003</td><td>UPI</td><td>PLACED</td><td>2025-10-10T11:30:00Z</td><td>Bengaluru</td><td>560001</td><td>203.0.113.13</td><td>2025-10-10</td><td>55000.0</td><td>true</td><td>5</td><td>2025-10-10</td><td>SHIP_ORD003_3</td><td>DTDC</td><td>2025-10-11T07:30:00.000Z</td><td>2025-10-12T18:00:00.000Z</td><td>DELIVERED</td><td>34.5</td><td>true</td><td>false</td><td>false</td><td>List(List(P002, 1, 55000.0, 55000.0))</td><td>1</td></tr><tr><td>ORD010</td><td>C009</td><td>CARD</td><td>PLACED</td><td>2025-10-17T10:30:00Z</td><td>Pune</td><td>411018</td><td>203.0.113.19</td><td>2025-10-17</td><td>57400.0</td><td>true</td><td>10</td><td>2025-10-17</td><td>SHIP_ORD010_3</td><td>Delhivery</td><td>2025-10-18T08:45:00.000Z</td><td>2025-10-20T18:10:00.000Z</td><td>DELIVERED</td><td>57.42</td><td>true</td><td>false</td><td>false</td><td>List(List(P002, 1, 55000.0, 55000.0), List(P007, 3, 800.0, 2400.0))</td><td>2</td></tr><tr><td>ORD017</td><td>C007</td><td>CARD</td><td>PLACED</td><td>2025-10-12T10:05:00Z</td><td>Delhi</td><td>110001</td><td>203.0.113.16</td><td>2025-10-12</td><td>15000.0</td><td>true</td><td>10</td><td>2025-10-12</td><td>SHIP_ORD017_1</td><td>BlueDart</td><td>2025-10-12T10:10:00.000Z</td><td>2025-10-13T18:00:00.000Z</td><td>DELIVERED</td><td>31.83</td><td>true</td><td>false</td><td>true</td><td>List(List(P005, 1, 15000.0, 15000.0))</td><td>1</td></tr><tr><td>ORD001</td><td>C001</td><td>COD</td><td>PLACED</td><td>2025-10-08T09:10:00Z</td><td>Mumbai</td><td>400001</td><td>203.0.113.11</td><td>2025-10-08</td><td>25950.0</td><td>true</td><td>30</td><td>2025-10-08</td><td>SHIP_ORD001_3</td><td>BlueDart</td><td>2025-10-09T08:00:00.000Z</td><td>2025-10-10T12:30:00.000Z</td><td>DELIVERED</td><td>28.5</td><td>true</td><td>false</td><td>true</td><td>List(List(P001, 1, 25000.0, 25000.0), List(P008, 1, 950.0, 950.0))</td><td>2</td></tr><tr><td>ORD020</td><td>C009</td><td>UPI</td><td>PLACED</td><td>2025-10-13T09:00:00Z</td><td>Kolkata</td><td>700003</td><td>203.0.113.19</td><td>2025-10-13</td><td>20000.0</td><td>true</td><td>5</td><td>2025-10-13</td><td>SHIP_ORD020_1</td><td>EcomExpress</td><td>2025-10-14T09:00:00.000Z</td><td>2025-10-18T09:00:00.000Z</td><td>DELIVERED</td><td>96.0</td><td>true</td><td>false</td><td>false</td><td>List(List(P010, 1, 20000.0, 20000.0))</td><td>1</td></tr><tr><td>ORD012</td><td>C002</td><td>COD</td><td>PLACED</td><td>2025-10-19T12:20:00Z</td><td>Chennai</td><td>600002</td><td>203.0.113.12</td><td>2025-10-19</td><td>3650.0</td><td>false</td><td>5</td><td>2025-10-19</td><td>SHIP_ORD012_3</td><td>BlueDart</td><td>2025-10-20T09:00:00.000Z</td><td>2025-10-21T10:30:00.000Z</td><td>DELIVERED</td><td>25.5</td><td>true</td><td>false</td><td>true</td><td>List(List(P008, 2, 950.0, 1900.0), List(P011, 1, 1750.0, 1750.0))</td><td>2</td></tr><tr><td>ORD005</td><td>C004</td><td>COD</td><td>PLACED</td><td>2025-10-12T08:45:00Z</td><td>Chennai</td><td>600001</td><td>203.0.113.14</td><td>2025-10-12</td><td>5600.0</td><td>false</td><td>5</td><td>2025-10-12</td><td>SHIP_ORD005_3</td><td>BlueDart</td><td>2025-10-13T09:00:00.000Z</td><td>2025-10-14T17:45:00.000Z</td><td>DELIVERED</td><td>32.75</td><td>true</td><td>false</td><td>true</td><td>List(List(P007, 2, 800.0, 1600.0), List(P010, 1, 4000.0, 4000.0))</td><td>2</td></tr><tr><td>ORD009</td><td>C008</td><td>UPI</td><td>PLACED</td><td>2025-10-16T09:30:00Z</td><td>Delhi</td><td>110002</td><td>203.0.113.18</td><td>2025-10-16</td><td>29000.0</td><td>true</td><td>5</td><td>2025-10-16</td><td>SHIP_ORD009_3</td><td>BlueDart</td><td>2025-10-17T09:30:00.000Z</td><td>2025-10-19T12:00:00.000Z</td><td>DELIVERED</td><td>50.5</td><td>true</td><td>false</td><td>false</td><td>List(List(P001, 1, 25000.0, 25000.0), List(P010, 1, 4000.0, 4000.0))</td><td>2</td></tr></tbody></table></div>"
      ]
     },
     "metadata": {
      "application/vnd.databricks.v1+output": {
       "addedWidgets": {},
       "aggData": [],
       "aggError": "",
       "aggOverflow": false,
       "aggSchema": [],
       "aggSeriesLimitReached": false,
       "aggType": "",
       "arguments": {},
       "columnCustomDisplayInfos": {},
       "data": [
        [
         "ORD008",
         "C007",
         "COD",
         "PLACED",
         "2025-10-15T16:00:00Z",
         "Mumbai",
         "400002",
         "203.0.113.17",
         "2025-10-15",
         4150.0,
         false,
         5,
         "2025-10-15",
         "SHIP_ORD008_3",
         "EcomExpress",
         "2025-10-16T07:30:00.000Z",
         "2025-10-20T10:20:00.000Z",
         "DELIVERED",
         98.83,
         true,
         false,
         true,
         [
          [
           "P014",
           3,
           900.0,
           2700.0
          ],
          [
           "P015",
           1,
           1450.0,
           1450.0
          ]
         ],
         2
        ],
        [
         "ORD015",
         "C005",
         "COD",
         "PLACED",
         "2025-10-30T17:45:00Z",
         "Kolkata",
         "700002",
         "203.0.113.15",
         "2025-10-30",
         25000.0,
         true,
         30,
         "2025-10-30",
         "SHIP_ORD015_3",
         "DTDC",
         "2025-10-31T09:00:00.000Z",
         null,
         "CANCELED",
         null,
         false,
         true,
         false,
         [
          [
           "P001",
           1,
           25000.0,
           25000.0
          ]
         ],
         1
        ],
        [
         "ORD016",
         "C006",
         "COD",
         "PLACED",
         "2025-10-12T10:00:00Z",
         "Delhi",
         "110001",
         "203.0.113.16",
         "2025-10-12",
         15000.0,
         true,
         30,
         "2025-10-12",
         "SHIP_ORD016_1",
         "BlueDart",
         "2025-10-13T12:00:00.000Z",
         null,
         "DISPATCHED",
         null,
         false,
         false,
         true,
         [
          [
           "P005",
           1,
           15000.0,
           15000.0
          ]
         ],
         1
        ],
        [
         "ORD003",
         "C003",
         "UPI",
         "PLACED",
         "2025-10-10T11:30:00Z",
         "Bengaluru",
         "560001",
         "203.0.113.13",
         "2025-10-10",
         55000.0,
         true,
         5,
         "2025-10-10",
         "SHIP_ORD003_3",
         "DTDC",
         "2025-10-11T07:30:00.000Z",
         "2025-10-12T18:00:00.000Z",
         "DELIVERED",
         34.5,
         true,
         false,
         false,
         [
          [
           "P002",
           1,
           55000.0,
           55000.0
          ]
         ],
         1
        ],
        [
         "ORD010",
         "C009",
         "CARD",
         "PLACED",
         "2025-10-17T10:30:00Z",
         "Pune",
         "411018",
         "203.0.113.19",
         "2025-10-17",
         57400.0,
         true,
         10,
         "2025-10-17",
         "SHIP_ORD010_3",
         "Delhivery",
         "2025-10-18T08:45:00.000Z",
         "2025-10-20T18:10:00.000Z",
         "DELIVERED",
         57.42,
         true,
         false,
         false,
         [
          [
           "P002",
           1,
           55000.0,
           55000.0
          ],
          [
           "P007",
           3,
           800.0,
           2400.0
          ]
         ],
         2
        ],
        [
         "ORD017",
         "C007",
         "CARD",
         "PLACED",
         "2025-10-12T10:05:00Z",
         "Delhi",
         "110001",
         "203.0.113.16",
         "2025-10-12",
         15000.0,
         true,
         10,
         "2025-10-12",
         "SHIP_ORD017_1",
         "BlueDart",
         "2025-10-12T10:10:00.000Z",
         "2025-10-13T18:00:00.000Z",
         "DELIVERED",
         31.83,
         true,
         false,
         true,
         [
          [
           "P005",
           1,
           15000.0,
           15000.0
          ]
         ],
         1
        ],
        [
         "ORD001",
         "C001",
         "COD",
         "PLACED",
         "2025-10-08T09:10:00Z",
         "Mumbai",
         "400001",
         "203.0.113.11",
         "2025-10-08",
         25950.0,
         true,
         30,
         "2025-10-08",
         "SHIP_ORD001_3",
         "BlueDart",
         "2025-10-09T08:00:00.000Z",
         "2025-10-10T12:30:00.000Z",
         "DELIVERED",
         28.5,
         true,
         false,
         true,
         [
          [
           "P001",
           1,
           25000.0,
           25000.0
          ],
          [
           "P008",
           1,
           950.0,
           950.0
          ]
         ],
         2
        ],
        [
         "ORD020",
         "C009",
         "UPI",
         "PLACED",
         "2025-10-13T09:00:00Z",
         "Kolkata",
         "700003",
         "203.0.113.19",
         "2025-10-13",
         20000.0,
         true,
         5,
         "2025-10-13",
         "SHIP_ORD020_1",
         "EcomExpress",
         "2025-10-14T09:00:00.000Z",
         "2025-10-18T09:00:00.000Z",
         "DELIVERED",
         96.0,
         true,
         false,
         false,
         [
          [
           "P010",
           1,
           20000.0,
           20000.0
          ]
         ],
         1
        ],
        [
         "ORD012",
         "C002",
         "COD",
         "PLACED",
         "2025-10-19T12:20:00Z",
         "Chennai",
         "600002",
         "203.0.113.12",
         "2025-10-19",
         3650.0,
         false,
         5,
         "2025-10-19",
         "SHIP_ORD012_3",
         "BlueDart",
         "2025-10-20T09:00:00.000Z",
         "2025-10-21T10:30:00.000Z",
         "DELIVERED",
         25.5,
         true,
         false,
         true,
         [
          [
           "P008",
           2,
           950.0,
           1900.0
          ],
          [
           "P011",
           1,
           1750.0,
           1750.0
          ]
         ],
         2
        ],
        [
         "ORD005",
         "C004",
         "COD",
         "PLACED",
         "2025-10-12T08:45:00Z",
         "Chennai",
         "600001",
         "203.0.113.14",
         "2025-10-12",
         5600.0,
         false,
         5,
         "2025-10-12",
         "SHIP_ORD005_3",
         "BlueDart",
         "2025-10-13T09:00:00.000Z",
         "2025-10-14T17:45:00.000Z",
         "DELIVERED",
         32.75,
         true,
         false,
         true,
         [
          [
           "P007",
           2,
           800.0,
           1600.0
          ],
          [
           "P010",
           1,
           4000.0,
           4000.0
          ]
         ],
         2
        ],
        [
         "ORD009",
         "C008",
         "UPI",
         "PLACED",
         "2025-10-16T09:30:00Z",
         "Delhi",
         "110002",
         "203.0.113.18",
         "2025-10-16",
         29000.0,
         true,
         5,
         "2025-10-16",
         "SHIP_ORD009_3",
         "BlueDart",
         "2025-10-17T09:30:00.000Z",
         "2025-10-19T12:00:00.000Z",
         "DELIVERED",
         50.5,
         true,
         false,
         false,
         [
          [
           "P001",
           1,
           25000.0,
           25000.0
          ],
          [
           "P010",
           1,
           4000.0,
           4000.0
          ]
         ],
         2
        ]
       ],
       "datasetInfos": [],
       "dbfsResultPath": null,
       "isJsonSchema": true,
       "metadata": {},
       "overflow": false,
       "plotOptions": {
        "customPlotOptions": {},
        "displayType": "table",
        "pivotAggregation": null,
        "pivotColumns": null,
        "xColumns": null,
        "yColumns": null
       },
       "removedWidgets": [],
       "schema": [
        {
         "metadata": "{}",
         "name": "order_id",
         "type": "\"string\""
        },
        {
         "metadata": "{}",
         "name": "customer_id",
         "type": "\"string\""
        },
        {
         "metadata": "{}",
         "name": "payment_method",
         "type": "\"string\""
        },
        {
         "metadata": "{}",
         "name": "order_status",
         "type": "\"string\""
        },
        {
         "metadata": "{}",
         "name": "event_time",
         "type": "\"string\""
        },
        {
         "metadata": "{}",
         "name": "shipping_city",
         "type": "\"string\""
        },
        {
         "metadata": "{}",
         "name": "shipping_pincode",
         "type": "\"string\""
        },
        {
         "metadata": "{}",
         "name": "ip_address",
         "type": "\"string\""
        },
        {
         "metadata": "{}",
         "name": "order_date",
         "type": "\"date\""
        },
        {
         "metadata": "{}",
         "name": "order_total_value",
         "type": "\"double\""
        },
        {
         "metadata": "{}",
         "name": "is_high_value",
         "type": "\"boolean\""
        },
        {
         "metadata": "{}",
         "name": "fraud_score",
         "type": "\"integer\""
        },
        {
         "metadata": "{}",
         "name": "event_date",
         "type": "\"date\""
        },
        {
         "metadata": "{}",
         "name": "shipment_id",
         "type": "\"string\""
        },
        {
         "metadata": "{}",
         "name": "courier",
         "type": "\"string\""
        },
        {
         "metadata": "{}",
         "name": "dispatched_at",
         "type": "\"timestamp\""
        },
        {
         "metadata": "{}",
         "name": "delivered_at",
         "type": "\"timestamp\""
        },
        {
         "metadata": "{}",
         "name": "status",
         "type": "\"string\""
        },
        {
         "metadata": "{}",
         "name": "delivery_delay_hours",
         "type": "\"double\""
        },
        {
         "metadata": "{}",
         "name": "is_delivered",
         "type": "\"boolean\""
        },
        {
         "metadata": "{}",
         "name": "is_canceled",
         "type": "\"boolean\""
        },
        {
         "metadata": "{}",
         "name": "has_multiple_payments",
         "type": "\"boolean\""
        },
        {
         "metadata": "{}",
         "name": "items",
         "type": "{\"containsNull\":false,\"elementType\":{\"fields\":[{\"metadata\":{},\"name\":\"product_id\",\"nullable\":true,\"type\":\"string\"},{\"metadata\":{},\"name\":\"quantity\",\"nullable\":true,\"type\":\"integer\"},{\"metadata\":{},\"name\":\"unit_price\",\"nullable\":true,\"type\":\"double\"},{\"metadata\":{},\"name\":\"amount\",\"nullable\":true,\"type\":\"double\"}],\"type\":\"struct\"},\"type\":\"array\"}"
        },
        {
         "metadata": "{}",
         "name": "total_items",
         "type": "\"integer\""
        }
       ],
       "type": "table"
      }
     },
     "output_type": "display_data"
    }
   ],
   "source": [
    "display(fraud_orders_grouped)"
   ]
  },
  {
   "cell_type": "markdown",
   "metadata": {
    "application/vnd.databricks.v1+cell": {
     "cellMetadata": {},
     "inputWidgets": {},
     "nuid": "678973b4-e943-4448-b1da-fadae56a98b8",
     "showTitle": false,
     "tableResultSettingsMap": {},
     "title": ""
    }
   },
   "source": [
    "----------------------------------------------------------------------"
   ]
  },
  {
   "cell_type": "code",
   "execution_count": 0,
   "metadata": {
    "application/vnd.databricks.v1+cell": {
     "cellMetadata": {
      "byteLimit": 2048000,
      "implicitDf": true,
      "rowLimit": 10000
     },
     "inputWidgets": {},
     "nuid": "f80fe530-c1d7-4987-9808-3757af2cec65",
     "showTitle": false,
     "tableResultSettingsMap": {},
     "title": ""
    }
   },
   "outputs": [
    {
     "output_type": "display_data",
     "data": {
      "text/html": [
       "<style scoped>\n",
       "  .table-result-container {\n",
       "    max-height: 300px;\n",
       "    overflow: auto;\n",
       "  }\n",
       "  table, th, td {\n",
       "    border: 1px solid black;\n",
       "    border-collapse: collapse;\n",
       "  }\n",
       "  th, td {\n",
       "    padding: 5px;\n",
       "  }\n",
       "  th {\n",
       "    text-align: left;\n",
       "  }\n",
       "</style><div class='table-result-container'><table class='table-result'><thead style='background-color: white'><tr><th>col_name</th><th>data_type</th><th>comment</th></tr></thead><tbody><tr><td>order_id</td><td>string</td><td>null</td></tr><tr><td>customer_id</td><td>string</td><td>null</td></tr><tr><td>payment_method</td><td>string</td><td>null</td></tr><tr><td>order_status</td><td>string</td><td>null</td></tr><tr><td>event_time</td><td>string</td><td>null</td></tr><tr><td>shipping_city</td><td>string</td><td>null</td></tr><tr><td>shipping_pincode</td><td>string</td><td>null</td></tr><tr><td>ip_address</td><td>string</td><td>null</td></tr><tr><td>items</td><td>array<struct<product_id:string,quantity:int,unit_price:double,amount:double>></td><td>null</td></tr><tr><td>event_date</td><td>date</td><td>null</td></tr><tr><td># Partition Information</td><td></td><td></td></tr><tr><td># col_name</td><td>data_type</td><td>comment</td></tr><tr><td>event_date</td><td>date</td><td>null</td></tr></tbody></table></div>"
      ]
     },
     "metadata": {
      "application/vnd.databricks.v1+output": {
       "addedWidgets": {},
       "aggData": [],
       "aggError": "",
       "aggOverflow": false,
       "aggSchema": [],
       "aggSeriesLimitReached": false,
       "aggType": "",
       "arguments": {},
       "columnCustomDisplayInfos": {},
       "data": [
        [
         "order_id",
         "string",
         null
        ],
        [
         "customer_id",
         "string",
         null
        ],
        [
         "payment_method",
         "string",
         null
        ],
        [
         "order_status",
         "string",
         null
        ],
        [
         "event_time",
         "string",
         null
        ],
        [
         "shipping_city",
         "string",
         null
        ],
        [
         "shipping_pincode",
         "string",
         null
        ],
        [
         "ip_address",
         "string",
         null
        ],
        [
         "items",
         "array<struct<product_id:string,quantity:int,unit_price:double,amount:double>>",
         null
        ],
        [
         "event_date",
         "date",
         null
        ],
        [
         "# Partition Information",
         "",
         ""
        ],
        [
         "# col_name",
         "data_type",
         "comment"
        ],
        [
         "event_date",
         "date",
         null
        ]
       ],
       "datasetInfos": [
        {
         "name": "_sqldf",
         "schema": {
          "fields": [
           {
            "metadata": {},
            "name": "col_name",
            "nullable": false,
            "type": "string"
           },
           {
            "metadata": {},
            "name": "data_type",
            "nullable": false,
            "type": "string"
           },
           {
            "metadata": {},
            "name": "comment",
            "nullable": true,
            "type": "string"
           }
          ],
          "type": "struct"
         },
         "tableIdentifier": null,
         "typeStr": "pyspark.sql.connect.dataframe.DataFrame"
        }
       ],
       "dbfsResultPath": null,
       "isJsonSchema": true,
       "metadata": {
        "createTempViewForImplicitDf": true,
        "dataframeName": "_sqldf",
        "executionCount": 11
       },
       "overflow": false,
       "plotOptions": {
        "customPlotOptions": {},
        "displayType": "table",
        "pivotAggregation": null,
        "pivotColumns": null,
        "xColumns": null,
        "yColumns": null
       },
       "removedWidgets": [],
       "schema": [
        {
         "metadata": "{}",
         "name": "col_name",
         "type": "\"string\""
        },
        {
         "metadata": "{}",
         "name": "data_type",
         "type": "\"string\""
        },
        {
         "metadata": "{}",
         "name": "comment",
         "type": "\"string\""
        }
       ],
       "type": "table"
      }
     },
     "output_type": "display_data"
    }
   ],
   "source": [
    "%sql\n",
    "describe `e-commerce-project`.bronze.orders\n"
   ]
  }
 ],
 "metadata": {
  "application/vnd.databricks.v1+notebook": {
   "computePreferences": {
    "hardware": {
     "accelerator": null,
     "gpuPoolId": null,
     "memory": null
    }
   },
   "dashboards": [],
   "environmentMetadata": {
    "base_environment": "",
    "environment_version": "3"
   },
   "inputWidgetPreferences": null,
   "language": "python",
   "notebookMetadata": {
    "mostRecentlyExecutedCommandWithImplicitDF": {
     "commandId": 4537890508942747,
     "dataframes": [
      "_sqldf"
     ]
    },
    "pythonIndentUnit": 4
   },
   "notebookName": "Atlas",
   "widgets": {}
  },
  "language_info": {
   "name": "python"
  }
 },
 "nbformat": 4,
 "nbformat_minor": 0
}