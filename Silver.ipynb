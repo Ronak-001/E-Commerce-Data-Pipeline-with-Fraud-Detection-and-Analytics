{
 "cells": [
  {
   "cell_type": "markdown",
   "metadata": {
    "application/vnd.databricks.v1+cell": {
     "cellMetadata": {
      "byteLimit": 2048000,
      "rowLimit": 10000
     },
     "inputWidgets": {},
     "nuid": "83d0003f-5a3b-49cf-b59e-e3d3983e677a",
     "showTitle": false,
     "tableResultSettingsMap": {},
     "title": ""
    }
   },
   "source": [
    "###Common Transformation class"
   ]
  },
  {
   "cell_type": "code",
   "execution_count": 0,
   "metadata": {
    "application/vnd.databricks.v1+cell": {
     "cellMetadata": {
      "byteLimit": 2048000,
      "rowLimit": 10000
     },
     "inputWidgets": {},
     "nuid": "a5c03e49-a386-475c-babe-55cd66642542",
     "showTitle": false,
     "tableResultSettingsMap": {},
     "title": ""
    }
   },
   "outputs": [
    {
     "output_type": "display_data",
     "data": {
      "text/plain": [
       "\u001B[43mWarning you are using the ipython `%run` line magic. To use the databricks `%run` cell magic make sure that the magic is at the very start of the cell.\u001B[0m"
      ]
     },
     "metadata": {},
     "output_type": "display_data"
    }
   ],
   "source": [
    "# If utilities.py is a notebook in your workspace, use:\n",
    "%run \"./utilities.py\"\n",
    "\n",
    "transformer = transformations()"
   ]
  },
  {
   "cell_type": "markdown",
   "metadata": {
    "application/vnd.databricks.v1+cell": {
     "cellMetadata": {
      "byteLimit": 2048000,
      "rowLimit": 10000
     },
     "inputWidgets": {},
     "nuid": "cd6d82e8-71aa-4dc0-86c3-a19a14bfb3eb",
     "showTitle": false,
     "tableResultSettingsMap": {},
     "title": ""
    }
   },
   "source": [
    "###Orders\n"
   ]
  },
  {
   "cell_type": "code",
   "execution_count": 0,
   "metadata": {
    "application/vnd.databricks.v1+cell": {
     "cellMetadata": {
      "byteLimit": 2048000,
      "rowLimit": 10000
     },
     "inputWidgets": {},
     "nuid": "ce6cf1ba-e104-450f-b36f-72c0ffca23a1",
     "showTitle": false,
     "tableResultSettingsMap": {},
     "title": ""
    }
   },
   "outputs": [],
   "source": [
    "class OrderSilverTransformations:\n",
    "    def __init__(self, spark):\n",
    "        self.spark = spark\n",
    "    # --- Flatten items[] array ---\n",
    "    def flatten_items_array(self, df):\n",
    "        df = df.withColumn(\"item\", F.explode(\"items\")) \\\n",
    "               .withColumn(\"product_id\", F.col(\"item.product_id\")) \\\n",
    "               .withColumn(\"quantity\", F.col(\"item.quantity\")) \\\n",
    "               .withColumn(\"price\", F.col(\"item.unit_price\")) \\\n",
    "               .withColumn(\"item_value_in_order\",F.col(\"item.amount\"))\\\n",
    "               .drop(\"item\", \"items\")\n",
    "        return df\n",
    "\n",
    "    # --- Compute total order value ---\n",
    "    def compute_order_value(self, df):\n",
    "        # df = df.withColumn(\"item_total_value\", F.col(\"quantity\") * F.col(\"price\"))\n",
    "        window_spec = Window.partitionBy(\"order_id\")\n",
    "        df = df.withColumn(\n",
    "            \"order_total_value\",\n",
    "            F.sum(\"item_value_in_order\").over(window_spec)\n",
    "        )\n",
    "        return df\n",
    "\n",
    "    # --- Derive is_high_value flag ---\n",
    "    def derive_is_high_value(self, df, threshold=10000):\n",
    "        df = df.withColumn(\"is_high_value\", F.col(\"order_total_value\") > threshold)\n",
    "        return df\n",
    "\n",
    "    # --- Calculate Fraud Score ---\n",
    "    def calculate_fraud_score(self, df):\n",
    "        df = df.withColumn(\n",
    "            \"fraud_score\",\n",
    "            F.when((F.col(\"payment_method\") == \"COD\") & (F.col(\"is_high_value\")), 30)\n",
    "             .when((F.col(\"payment_method\") == \"CARD\") & (F.col(\"is_high_value\")), 10)\n",
    "             .otherwise(5)\n",
    "        )\n",
    "        return df\n",
    "\n",
    "    # --- Clean and Standardize Columns ---\n",
    "    def clean_columns(self, df):\n",
    "        df = df.withColumnRenamed(\"event_date\", \"order_date\") \\\n",
    "               .withColumn(\"event_date\", F.to_date(\"event_time\"))\n",
    "        return df\n",
    "\n",
    "    # --- Orchestrate all transformations ---\n",
    "    def transform(self, df):\n",
    "        df = self.flatten_items_array(df)\n",
    "        df = self.compute_order_value(df)\n",
    "        df = self.derive_is_high_value(df)\n",
    "        df = self.calculate_fraud_score(df)\n",
    "        df = self.clean_columns(df)\n",
    "        return df\n",
    "\n",
    "\n"
   ]
  },
  {
   "cell_type": "code",
   "execution_count": 0,
   "metadata": {
    "application/vnd.databricks.v1+cell": {
     "cellMetadata": {
      "byteLimit": 2048000,
      "implicitDf": true,
      "rowLimit": 10000
     },
     "inputWidgets": {},
     "nuid": "1e180272-4d5b-4d19-8c6d-4c550c267ebe",
     "showTitle": false,
     "tableResultSettingsMap": {},
     "title": ""
    }
   },
   "outputs": [
    {
     "output_type": "display_data",
     "data": {
      "text/html": [
       "<style scoped>\n",
       "  .table-result-container {\n",
       "    max-height: 300px;\n",
       "    overflow: auto;\n",
       "  }\n",
       "  table, th, td {\n",
       "    border: 1px solid black;\n",
       "    border-collapse: collapse;\n",
       "  }\n",
       "  th, td {\n",
       "    padding: 5px;\n",
       "  }\n",
       "  th {\n",
       "    text-align: left;\n",
       "  }\n",
       "</style><div class='table-result-container'><table class='table-result'><thead style='background-color: white'><tr><th>order_id</th><th>customer_id</th><th>payment_method</th><th>order_status</th><th>event_time</th><th>shipping_city</th><th>shipping_pincode</th><th>ip_address</th><th>items</th><th>event_date</th></tr></thead><tbody><tr><td>ORD020</td><td>C009</td><td>UPI</td><td>PLACED</td><td>2025-10-13T09:00:00Z</td><td>Kolkata</td><td>700003</td><td>203.0.113.19</td><td>List(List(P010, 1, 20000.0, 20000.0))</td><td>2025-10-13</td></tr><tr><td>ORD019</td><td>C008</td><td>CARD</td><td>PLACED</td><td>2025-10-13T08:12:00Z</td><td>Mumbai</td><td>400002</td><td>203.0.113.18</td><td>List(List(P009, 1, 5000.0, 5000.0))</td><td>2025-10-13</td></tr><tr><td>ORD018</td><td>C008</td><td>CARD</td><td>PLACED</td><td>2025-10-13T08:10:00Z</td><td>Mumbai</td><td>400002</td><td>203.0.113.18</td><td>List(List(P009, 2, 5000.0, 10000.0))</td><td>2025-10-13</td></tr><tr><td>ORD017</td><td>C007</td><td>CARD</td><td>PLACED</td><td>2025-10-12T10:05:00Z</td><td>Delhi</td><td>110001</td><td>203.0.113.16</td><td>List(List(P005, 1, 15000.0, 15000.0))</td><td>2025-10-12</td></tr><tr><td>ORD016</td><td>C006</td><td>COD</td><td>PLACED</td><td>2025-10-12T10:00:00Z</td><td>Delhi</td><td>110001</td><td>203.0.113.16</td><td>List(List(P005, 1, 15000.0, 15000.0))</td><td>2025-10-12</td></tr><tr><td>ORD013</td><td>C004</td><td>CARD</td><td>PLACED</td><td>2025-10-21T09:05:00Z</td><td>Hyderabad</td><td>500002</td><td>203.0.113.14</td><td>List(List(P004, 1, 2500.0, 2500.0), List(P012, 1, 2300.0, 2300.0), List(P015, 1, 1450.0, 1450.0))</td><td>2025-10-21</td></tr><tr><td>ORD006</td><td>C005</td><td>WALLET</td><td>PLACED</td><td>2025-10-13T09:15:00Z</td><td>Hyderabad</td><td>500001</td><td>203.0.113.15</td><td>List(List(P006, 1, 5000.0, 5000.0), List(P012, 1, 2300.0, 2300.0))</td><td>2025-10-13</td></tr><tr><td>ORD011</td><td>C010</td><td>UPI</td><td>PLACED</td><td>2025-10-18T11:00:00Z</td><td>Bengaluru</td><td>560002</td><td>203.0.113.20</td><td>List(List(P016, 1, 0.0, 0.0), List(P003, 1, 1500.0, 1500.0))</td><td>2025-10-18</td></tr><tr><td>ORD001</td><td>C001</td><td>COD</td><td>PLACED</td><td>2025-10-08T09:10:00Z</td><td>Mumbai</td><td>400001</td><td>203.0.113.11</td><td>List(List(P001, 1, 25000.0, 25000.0), List(P008, 1, 950.0, 950.0))</td><td>2025-10-08</td></tr><tr><td>ORD002</td><td>C002</td><td>CARD</td><td>PLACED</td><td>2025-10-09T10:20:00Z</td><td>Delhi</td><td>110001</td><td>203.0.113.12</td><td>List(List(P004, 1, 2500.0, 2500.0), List(P011, 1, 1750.0, 1750.0))</td><td>2025-10-09</td></tr><tr><td>ORD014</td><td>C003</td><td>UPI</td><td>PLACED</td><td>2025-10-25T08:00:00Z</td><td>Mumbai</td><td>400003</td><td>203.0.113.13</td><td>List(List(P009, 1, 3300.0, 3300.0), List(P005, 1, 1800.0, 1800.0))</td><td>2025-10-25</td></tr><tr><td>ORD009</td><td>C008</td><td>UPI</td><td>PLACED</td><td>2025-10-16T09:30:00Z</td><td>Delhi</td><td>110002</td><td>203.0.113.18</td><td>List(List(P001, 1, 25000.0, 25000.0), List(P010, 1, 4000.0, 4000.0))</td><td>2025-10-16</td></tr><tr><td>ORD007</td><td>C006</td><td>CARD</td><td>PLACED</td><td>2025-10-14T14:40:00Z</td><td>Kolkata</td><td>700001</td><td>203.0.113.16</td><td>List(List(P005, 1, 1800.0, 1800.0), List(P013, 2, 1200.0, 2400.0))</td><td>2025-10-14</td></tr><tr><td>ORD005</td><td>C004</td><td>COD</td><td>PLACED</td><td>2025-10-12T08:45:00Z</td><td>Chennai</td><td>600001</td><td>203.0.113.14</td><td>List(List(P010, 1, 4000.0, 4000.0), List(P007, 2, 800.0, 1600.0))</td><td>2025-10-12</td></tr><tr><td>ORD012</td><td>C002</td><td>COD</td><td>PLACED</td><td>2025-10-19T12:20:00Z</td><td>Chennai</td><td>600002</td><td>203.0.113.12</td><td>List(List(P011, 1, 1750.0, 1750.0), List(P008, 2, 950.0, 1900.0))</td><td>2025-10-19</td></tr><tr><td>ORD008</td><td>C007</td><td>COD</td><td>PLACED</td><td>2025-10-15T16:00:00Z</td><td>Mumbai</td><td>400002</td><td>203.0.113.17</td><td>List(List(P014, 3, 900.0, 2700.0), List(P015, 1, 1450.0, 1450.0))</td><td>2025-10-15</td></tr><tr><td>ORD003</td><td>C003</td><td>UPI</td><td>PLACED</td><td>2025-10-10T11:30:00Z</td><td>Bengaluru</td><td>560001</td><td>203.0.113.13</td><td>List(List(P002, 1, 55000.0, 55000.0))</td><td>2025-10-10</td></tr><tr><td>ORD004</td><td>C001</td><td>CARD</td><td>PLACED</td><td>2025-10-11T12:00:00Z</td><td>Pune</td><td>411001</td><td>203.0.113.11</td><td>List(List(P003, 2, 1500.0, 3000.0), List(P009, 1, 3300.0, 3300.0))</td><td>2025-10-11</td></tr><tr><td>ORD010</td><td>C009</td><td>CARD</td><td>PLACED</td><td>2025-10-17T10:30:00Z</td><td>Pune</td><td>411018</td><td>203.0.113.19</td><td>List(List(P002, 1, 55000.0, 55000.0), List(P007, 3, 800.0, 2400.0))</td><td>2025-10-17</td></tr><tr><td>ORD015</td><td>C005</td><td>COD</td><td>PLACED</td><td>2025-10-30T17:45:00Z</td><td>Kolkata</td><td>700002</td><td>203.0.113.15</td><td>List(List(P001, 1, 25000.0, 25000.0))</td><td>2025-10-30</td></tr></tbody></table></div>"
      ]
     },
     "metadata": {
      "application/vnd.databricks.v1+output": {
       "addedWidgets": {},
       "aggData": [],
       "aggError": "",
       "aggOverflow": false,
       "aggSchema": [],
       "aggSeriesLimitReached": false,
       "aggType": "",
       "arguments": {},
       "columnCustomDisplayInfos": {},
       "data": [
        [
         "ORD020",
         "C009",
         "UPI",
         "PLACED",
         "2025-10-13T09:00:00Z",
         "Kolkata",
         "700003",
         "203.0.113.19",
         [
          [
           "P010",
           1,
           20000.0,
           20000.0
          ]
         ],
         "2025-10-13"
        ],
        [
         "ORD019",
         "C008",
         "CARD",
         "PLACED",
         "2025-10-13T08:12:00Z",
         "Mumbai",
         "400002",
         "203.0.113.18",
         [
          [
           "P009",
           1,
           5000.0,
           5000.0
          ]
         ],
         "2025-10-13"
        ],
        [
         "ORD018",
         "C008",
         "CARD",
         "PLACED",
         "2025-10-13T08:10:00Z",
         "Mumbai",
         "400002",
         "203.0.113.18",
         [
          [
           "P009",
           2,
           5000.0,
           10000.0
          ]
         ],
         "2025-10-13"
        ],
        [
         "ORD017",
         "C007",
         "CARD",
         "PLACED",
         "2025-10-12T10:05:00Z",
         "Delhi",
         "110001",
         "203.0.113.16",
         [
          [
           "P005",
           1,
           15000.0,
           15000.0
          ]
         ],
         "2025-10-12"
        ],
        [
         "ORD016",
         "C006",
         "COD",
         "PLACED",
         "2025-10-12T10:00:00Z",
         "Delhi",
         "110001",
         "203.0.113.16",
         [
          [
           "P005",
           1,
           15000.0,
           15000.0
          ]
         ],
         "2025-10-12"
        ],
        [
         "ORD013",
         "C004",
         "CARD",
         "PLACED",
         "2025-10-21T09:05:00Z",
         "Hyderabad",
         "500002",
         "203.0.113.14",
         [
          [
           "P004",
           1,
           2500.0,
           2500.0
          ],
          [
           "P012",
           1,
           2300.0,
           2300.0
          ],
          [
           "P015",
           1,
           1450.0,
           1450.0
          ]
         ],
         "2025-10-21"
        ],
        [
         "ORD006",
         "C005",
         "WALLET",
         "PLACED",
         "2025-10-13T09:15:00Z",
         "Hyderabad",
         "500001",
         "203.0.113.15",
         [
          [
           "P006",
           1,
           5000.0,
           5000.0
          ],
          [
           "P012",
           1,
           2300.0,
           2300.0
          ]
         ],
         "2025-10-13"
        ],
        [
         "ORD011",
         "C010",
         "UPI",
         "PLACED",
         "2025-10-18T11:00:00Z",
         "Bengaluru",
         "560002",
         "203.0.113.20",
         [
          [
           "P016",
           1,
           0.0,
           0.0
          ],
          [
           "P003",
           1,
           1500.0,
           1500.0
          ]
         ],
         "2025-10-18"
        ],
        [
         "ORD001",
         "C001",
         "COD",
         "PLACED",
         "2025-10-08T09:10:00Z",
         "Mumbai",
         "400001",
         "203.0.113.11",
         [
          [
           "P001",
           1,
           25000.0,
           25000.0
          ],
          [
           "P008",
           1,
           950.0,
           950.0
          ]
         ],
         "2025-10-08"
        ],
        [
         "ORD002",
         "C002",
         "CARD",
         "PLACED",
         "2025-10-09T10:20:00Z",
         "Delhi",
         "110001",
         "203.0.113.12",
         [
          [
           "P004",
           1,
           2500.0,
           2500.0
          ],
          [
           "P011",
           1,
           1750.0,
           1750.0
          ]
         ],
         "2025-10-09"
        ],
        [
         "ORD014",
         "C003",
         "UPI",
         "PLACED",
         "2025-10-25T08:00:00Z",
         "Mumbai",
         "400003",
         "203.0.113.13",
         [
          [
           "P009",
           1,
           3300.0,
           3300.0
          ],
          [
           "P005",
           1,
           1800.0,
           1800.0
          ]
         ],
         "2025-10-25"
        ],
        [
         "ORD009",
         "C008",
         "UPI",
         "PLACED",
         "2025-10-16T09:30:00Z",
         "Delhi",
         "110002",
         "203.0.113.18",
         [
          [
           "P001",
           1,
           25000.0,
           25000.0
          ],
          [
           "P010",
           1,
           4000.0,
           4000.0
          ]
         ],
         "2025-10-16"
        ],
        [
         "ORD007",
         "C006",
         "CARD",
         "PLACED",
         "2025-10-14T14:40:00Z",
         "Kolkata",
         "700001",
         "203.0.113.16",
         [
          [
           "P005",
           1,
           1800.0,
           1800.0
          ],
          [
           "P013",
           2,
           1200.0,
           2400.0
          ]
         ],
         "2025-10-14"
        ],
        [
         "ORD005",
         "C004",
         "COD",
         "PLACED",
         "2025-10-12T08:45:00Z",
         "Chennai",
         "600001",
         "203.0.113.14",
         [
          [
           "P010",
           1,
           4000.0,
           4000.0
          ],
          [
           "P007",
           2,
           800.0,
           1600.0
          ]
         ],
         "2025-10-12"
        ],
        [
         "ORD012",
         "C002",
         "COD",
         "PLACED",
         "2025-10-19T12:20:00Z",
         "Chennai",
         "600002",
         "203.0.113.12",
         [
          [
           "P011",
           1,
           1750.0,
           1750.0
          ],
          [
           "P008",
           2,
           950.0,
           1900.0
          ]
         ],
         "2025-10-19"
        ],
        [
         "ORD008",
         "C007",
         "COD",
         "PLACED",
         "2025-10-15T16:00:00Z",
         "Mumbai",
         "400002",
         "203.0.113.17",
         [
          [
           "P014",
           3,
           900.0,
           2700.0
          ],
          [
           "P015",
           1,
           1450.0,
           1450.0
          ]
         ],
         "2025-10-15"
        ],
        [
         "ORD003",
         "C003",
         "UPI",
         "PLACED",
         "2025-10-10T11:30:00Z",
         "Bengaluru",
         "560001",
         "203.0.113.13",
         [
          [
           "P002",
           1,
           55000.0,
           55000.0
          ]
         ],
         "2025-10-10"
        ],
        [
         "ORD004",
         "C001",
         "CARD",
         "PLACED",
         "2025-10-11T12:00:00Z",
         "Pune",
         "411001",
         "203.0.113.11",
         [
          [
           "P003",
           2,
           1500.0,
           3000.0
          ],
          [
           "P009",
           1,
           3300.0,
           3300.0
          ]
         ],
         "2025-10-11"
        ],
        [
         "ORD010",
         "C009",
         "CARD",
         "PLACED",
         "2025-10-17T10:30:00Z",
         "Pune",
         "411018",
         "203.0.113.19",
         [
          [
           "P002",
           1,
           55000.0,
           55000.0
          ],
          [
           "P007",
           3,
           800.0,
           2400.0
          ]
         ],
         "2025-10-17"
        ],
        [
         "ORD015",
         "C005",
         "COD",
         "PLACED",
         "2025-10-30T17:45:00Z",
         "Kolkata",
         "700002",
         "203.0.113.15",
         [
          [
           "P001",
           1,
           25000.0,
           25000.0
          ]
         ],
         "2025-10-30"
        ]
       ],
       "datasetInfos": [
        {
         "name": "_sqldf",
         "schema": {
          "fields": [
           {
            "metadata": {},
            "name": "order_id",
            "nullable": true,
            "type": "string"
           },
           {
            "metadata": {},
            "name": "customer_id",
            "nullable": true,
            "type": "string"
           },
           {
            "metadata": {},
            "name": "payment_method",
            "nullable": true,
            "type": "string"
           },
           {
            "metadata": {},
            "name": "order_status",
            "nullable": true,
            "type": "string"
           },
           {
            "metadata": {},
            "name": "event_time",
            "nullable": true,
            "type": "string"
           },
           {
            "metadata": {},
            "name": "shipping_city",
            "nullable": true,
            "type": "string"
           },
           {
            "metadata": {},
            "name": "shipping_pincode",
            "nullable": true,
            "type": "string"
           },
           {
            "metadata": {},
            "name": "ip_address",
            "nullable": true,
            "type": "string"
           },
           {
            "metadata": {},
            "name": "items",
            "nullable": true,
            "type": {
             "containsNull": true,
             "elementType": {
              "fields": [
               {
                "metadata": {},
                "name": "product_id",
                "nullable": true,
                "type": "string"
               },
               {
                "metadata": {},
                "name": "quantity",
                "nullable": true,
                "type": "integer"
               },
               {
                "metadata": {},
                "name": "unit_price",
                "nullable": true,
                "type": "double"
               },
               {
                "metadata": {},
                "name": "amount",
                "nullable": true,
                "type": "double"
               }
              ],
              "type": "struct"
             },
             "type": "array"
            }
           },
           {
            "metadata": {},
            "name": "event_date",
            "nullable": true,
            "type": "date"
           }
          ],
          "type": "struct"
         },
         "tableIdentifier": null,
         "typeStr": "pyspark.sql.connect.dataframe.DataFrame"
        }
       ],
       "dbfsResultPath": null,
       "isJsonSchema": true,
       "metadata": {
        "createTempViewForImplicitDf": true,
        "dataframeName": "_sqldf",
        "executionCount": 42
       },
       "overflow": false,
       "plotOptions": {
        "customPlotOptions": {},
        "displayType": "table",
        "pivotAggregation": null,
        "pivotColumns": null,
        "xColumns": null,
        "yColumns": null
       },
       "removedWidgets": [],
       "schema": [
        {
         "metadata": "{}",
         "name": "order_id",
         "type": "\"string\""
        },
        {
         "metadata": "{}",
         "name": "customer_id",
         "type": "\"string\""
        },
        {
         "metadata": "{}",
         "name": "payment_method",
         "type": "\"string\""
        },
        {
         "metadata": "{}",
         "name": "order_status",
         "type": "\"string\""
        },
        {
         "metadata": "{}",
         "name": "event_time",
         "type": "\"string\""
        },
        {
         "metadata": "{}",
         "name": "shipping_city",
         "type": "\"string\""
        },
        {
         "metadata": "{}",
         "name": "shipping_pincode",
         "type": "\"string\""
        },
        {
         "metadata": "{}",
         "name": "ip_address",
         "type": "\"string\""
        },
        {
         "metadata": "{}",
         "name": "items",
         "type": "{\"containsNull\":true,\"elementType\":{\"fields\":[{\"metadata\":{},\"name\":\"product_id\",\"nullable\":true,\"type\":\"string\"},{\"metadata\":{},\"name\":\"quantity\",\"nullable\":true,\"type\":\"integer\"},{\"metadata\":{},\"name\":\"unit_price\",\"nullable\":true,\"type\":\"double\"},{\"metadata\":{},\"name\":\"amount\",\"nullable\":true,\"type\":\"double\"}],\"type\":\"struct\"},\"type\":\"array\"}"
        },
        {
         "metadata": "{}",
         "name": "event_date",
         "type": "\"date\""
        }
       ],
       "type": "table"
      }
     },
     "output_type": "display_data"
    }
   ],
   "source": [
    "%sql\n",
    "select * from `e-commerce-project`.bronze.orders"
   ]
  },
  {
   "cell_type": "code",
   "execution_count": 0,
   "metadata": {
    "application/vnd.databricks.v1+cell": {
     "cellMetadata": {
      "byteLimit": 2048000,
      "rowLimit": 10000
     },
     "inputWidgets": {},
     "nuid": "2a984bcc-9d90-4d0a-9f13-e03b0a8545a4",
     "showTitle": false,
     "tableResultSettingsMap": {},
     "title": ""
    }
   },
   "outputs": [
    {
     "output_type": "stream",
     "name": "stdout",
     "output_type": "stream",
     "text": [
      "Bronze DataFrame loaded before dedup 20 records.\nBronze DataFrame loaded with 20 records.\n"
     ]
    },
    {
     "output_type": "display_data",
     "data": {
      "text/html": [
       "<style scoped>\n",
       "  .table-result-container {\n",
       "    max-height: 300px;\n",
       "    overflow: auto;\n",
       "  }\n",
       "  table, th, td {\n",
       "    border: 1px solid black;\n",
       "    border-collapse: collapse;\n",
       "  }\n",
       "  th, td {\n",
       "    padding: 5px;\n",
       "  }\n",
       "  th {\n",
       "    text-align: left;\n",
       "  }\n",
       "</style><div class='table-result-container'><table class='table-result'><thead style='background-color: white'><tr><th>order_id</th><th>customer_id</th><th>payment_method</th><th>order_status</th><th>event_time</th><th>shipping_city</th><th>shipping_pincode</th><th>ip_address</th><th>order_date</th><th>product_id</th><th>quantity</th><th>price</th><th>item_value_in_order</th><th>order_total_value</th><th>is_high_value</th><th>fraud_score</th><th>event_date</th></tr></thead><tbody><tr><td>ORD001</td><td>C001</td><td>COD</td><td>PLACED</td><td>2025-10-08T09:10:00Z</td><td>Mumbai</td><td>400001</td><td>203.0.113.11</td><td>2025-10-08</td><td>P001</td><td>1</td><td>25000.0</td><td>25000.0</td><td>25950.0</td><td>true</td><td>30</td><td>2025-10-08</td></tr><tr><td>ORD001</td><td>C001</td><td>COD</td><td>PLACED</td><td>2025-10-08T09:10:00Z</td><td>Mumbai</td><td>400001</td><td>203.0.113.11</td><td>2025-10-08</td><td>P008</td><td>1</td><td>950.0</td><td>950.0</td><td>25950.0</td><td>true</td><td>30</td><td>2025-10-08</td></tr><tr><td>ORD002</td><td>C002</td><td>CARD</td><td>PLACED</td><td>2025-10-09T10:20:00Z</td><td>Delhi</td><td>110001</td><td>203.0.113.12</td><td>2025-10-09</td><td>P004</td><td>1</td><td>2500.0</td><td>2500.0</td><td>4250.0</td><td>false</td><td>5</td><td>2025-10-09</td></tr><tr><td>ORD002</td><td>C002</td><td>CARD</td><td>PLACED</td><td>2025-10-09T10:20:00Z</td><td>Delhi</td><td>110001</td><td>203.0.113.12</td><td>2025-10-09</td><td>P011</td><td>1</td><td>1750.0</td><td>1750.0</td><td>4250.0</td><td>false</td><td>5</td><td>2025-10-09</td></tr><tr><td>ORD003</td><td>C003</td><td>UPI</td><td>PLACED</td><td>2025-10-10T11:30:00Z</td><td>Bengaluru</td><td>560001</td><td>203.0.113.13</td><td>2025-10-10</td><td>P002</td><td>1</td><td>55000.0</td><td>55000.0</td><td>55000.0</td><td>true</td><td>5</td><td>2025-10-10</td></tr><tr><td>ORD004</td><td>C001</td><td>CARD</td><td>PLACED</td><td>2025-10-11T12:00:00Z</td><td>Pune</td><td>411001</td><td>203.0.113.11</td><td>2025-10-11</td><td>P003</td><td>2</td><td>1500.0</td><td>3000.0</td><td>6300.0</td><td>false</td><td>5</td><td>2025-10-11</td></tr><tr><td>ORD004</td><td>C001</td><td>CARD</td><td>PLACED</td><td>2025-10-11T12:00:00Z</td><td>Pune</td><td>411001</td><td>203.0.113.11</td><td>2025-10-11</td><td>P009</td><td>1</td><td>3300.0</td><td>3300.0</td><td>6300.0</td><td>false</td><td>5</td><td>2025-10-11</td></tr><tr><td>ORD005</td><td>C004</td><td>COD</td><td>PLACED</td><td>2025-10-12T08:45:00Z</td><td>Chennai</td><td>600001</td><td>203.0.113.14</td><td>2025-10-12</td><td>P010</td><td>1</td><td>4000.0</td><td>4000.0</td><td>5600.0</td><td>false</td><td>5</td><td>2025-10-12</td></tr><tr><td>ORD005</td><td>C004</td><td>COD</td><td>PLACED</td><td>2025-10-12T08:45:00Z</td><td>Chennai</td><td>600001</td><td>203.0.113.14</td><td>2025-10-12</td><td>P007</td><td>2</td><td>800.0</td><td>1600.0</td><td>5600.0</td><td>false</td><td>5</td><td>2025-10-12</td></tr><tr><td>ORD006</td><td>C005</td><td>WALLET</td><td>PLACED</td><td>2025-10-13T09:15:00Z</td><td>Hyderabad</td><td>500001</td><td>203.0.113.15</td><td>2025-10-13</td><td>P006</td><td>1</td><td>5000.0</td><td>5000.0</td><td>7300.0</td><td>false</td><td>5</td><td>2025-10-13</td></tr><tr><td>ORD006</td><td>C005</td><td>WALLET</td><td>PLACED</td><td>2025-10-13T09:15:00Z</td><td>Hyderabad</td><td>500001</td><td>203.0.113.15</td><td>2025-10-13</td><td>P012</td><td>1</td><td>2300.0</td><td>2300.0</td><td>7300.0</td><td>false</td><td>5</td><td>2025-10-13</td></tr><tr><td>ORD007</td><td>C006</td><td>CARD</td><td>PLACED</td><td>2025-10-14T14:40:00Z</td><td>Kolkata</td><td>700001</td><td>203.0.113.16</td><td>2025-10-14</td><td>P005</td><td>1</td><td>1800.0</td><td>1800.0</td><td>4200.0</td><td>false</td><td>5</td><td>2025-10-14</td></tr><tr><td>ORD007</td><td>C006</td><td>CARD</td><td>PLACED</td><td>2025-10-14T14:40:00Z</td><td>Kolkata</td><td>700001</td><td>203.0.113.16</td><td>2025-10-14</td><td>P013</td><td>2</td><td>1200.0</td><td>2400.0</td><td>4200.0</td><td>false</td><td>5</td><td>2025-10-14</td></tr><tr><td>ORD008</td><td>C007</td><td>COD</td><td>PLACED</td><td>2025-10-15T16:00:00Z</td><td>Mumbai</td><td>400002</td><td>203.0.113.17</td><td>2025-10-15</td><td>P014</td><td>3</td><td>900.0</td><td>2700.0</td><td>4150.0</td><td>false</td><td>5</td><td>2025-10-15</td></tr><tr><td>ORD008</td><td>C007</td><td>COD</td><td>PLACED</td><td>2025-10-15T16:00:00Z</td><td>Mumbai</td><td>400002</td><td>203.0.113.17</td><td>2025-10-15</td><td>P015</td><td>1</td><td>1450.0</td><td>1450.0</td><td>4150.0</td><td>false</td><td>5</td><td>2025-10-15</td></tr><tr><td>ORD009</td><td>C008</td><td>UPI</td><td>PLACED</td><td>2025-10-16T09:30:00Z</td><td>Delhi</td><td>110002</td><td>203.0.113.18</td><td>2025-10-16</td><td>P001</td><td>1</td><td>25000.0</td><td>25000.0</td><td>29000.0</td><td>true</td><td>5</td><td>2025-10-16</td></tr><tr><td>ORD009</td><td>C008</td><td>UPI</td><td>PLACED</td><td>2025-10-16T09:30:00Z</td><td>Delhi</td><td>110002</td><td>203.0.113.18</td><td>2025-10-16</td><td>P010</td><td>1</td><td>4000.0</td><td>4000.0</td><td>29000.0</td><td>true</td><td>5</td><td>2025-10-16</td></tr><tr><td>ORD010</td><td>C009</td><td>CARD</td><td>PLACED</td><td>2025-10-17T10:30:00Z</td><td>Pune</td><td>411018</td><td>203.0.113.19</td><td>2025-10-17</td><td>P002</td><td>1</td><td>55000.0</td><td>55000.0</td><td>57400.0</td><td>true</td><td>10</td><td>2025-10-17</td></tr><tr><td>ORD010</td><td>C009</td><td>CARD</td><td>PLACED</td><td>2025-10-17T10:30:00Z</td><td>Pune</td><td>411018</td><td>203.0.113.19</td><td>2025-10-17</td><td>P007</td><td>3</td><td>800.0</td><td>2400.0</td><td>57400.0</td><td>true</td><td>10</td><td>2025-10-17</td></tr><tr><td>ORD011</td><td>C010</td><td>UPI</td><td>PLACED</td><td>2025-10-18T11:00:00Z</td><td>Bengaluru</td><td>560002</td><td>203.0.113.20</td><td>2025-10-18</td><td>P016</td><td>1</td><td>0.0</td><td>0.0</td><td>1500.0</td><td>false</td><td>5</td><td>2025-10-18</td></tr><tr><td>ORD011</td><td>C010</td><td>UPI</td><td>PLACED</td><td>2025-10-18T11:00:00Z</td><td>Bengaluru</td><td>560002</td><td>203.0.113.20</td><td>2025-10-18</td><td>P003</td><td>1</td><td>1500.0</td><td>1500.0</td><td>1500.0</td><td>false</td><td>5</td><td>2025-10-18</td></tr><tr><td>ORD012</td><td>C002</td><td>COD</td><td>PLACED</td><td>2025-10-19T12:20:00Z</td><td>Chennai</td><td>600002</td><td>203.0.113.12</td><td>2025-10-19</td><td>P011</td><td>1</td><td>1750.0</td><td>1750.0</td><td>3650.0</td><td>false</td><td>5</td><td>2025-10-19</td></tr><tr><td>ORD012</td><td>C002</td><td>COD</td><td>PLACED</td><td>2025-10-19T12:20:00Z</td><td>Chennai</td><td>600002</td><td>203.0.113.12</td><td>2025-10-19</td><td>P008</td><td>2</td><td>950.0</td><td>1900.0</td><td>3650.0</td><td>false</td><td>5</td><td>2025-10-19</td></tr><tr><td>ORD013</td><td>C004</td><td>CARD</td><td>PLACED</td><td>2025-10-21T09:05:00Z</td><td>Hyderabad</td><td>500002</td><td>203.0.113.14</td><td>2025-10-21</td><td>P004</td><td>1</td><td>2500.0</td><td>2500.0</td><td>6250.0</td><td>false</td><td>5</td><td>2025-10-21</td></tr><tr><td>ORD013</td><td>C004</td><td>CARD</td><td>PLACED</td><td>2025-10-21T09:05:00Z</td><td>Hyderabad</td><td>500002</td><td>203.0.113.14</td><td>2025-10-21</td><td>P012</td><td>1</td><td>2300.0</td><td>2300.0</td><td>6250.0</td><td>false</td><td>5</td><td>2025-10-21</td></tr><tr><td>ORD013</td><td>C004</td><td>CARD</td><td>PLACED</td><td>2025-10-21T09:05:00Z</td><td>Hyderabad</td><td>500002</td><td>203.0.113.14</td><td>2025-10-21</td><td>P015</td><td>1</td><td>1450.0</td><td>1450.0</td><td>6250.0</td><td>false</td><td>5</td><td>2025-10-21</td></tr><tr><td>ORD014</td><td>C003</td><td>UPI</td><td>PLACED</td><td>2025-10-25T08:00:00Z</td><td>Mumbai</td><td>400003</td><td>203.0.113.13</td><td>2025-10-25</td><td>P009</td><td>1</td><td>3300.0</td><td>3300.0</td><td>5100.0</td><td>false</td><td>5</td><td>2025-10-25</td></tr><tr><td>ORD014</td><td>C003</td><td>UPI</td><td>PLACED</td><td>2025-10-25T08:00:00Z</td><td>Mumbai</td><td>400003</td><td>203.0.113.13</td><td>2025-10-25</td><td>P005</td><td>1</td><td>1800.0</td><td>1800.0</td><td>5100.0</td><td>false</td><td>5</td><td>2025-10-25</td></tr><tr><td>ORD015</td><td>C005</td><td>COD</td><td>PLACED</td><td>2025-10-30T17:45:00Z</td><td>Kolkata</td><td>700002</td><td>203.0.113.15</td><td>2025-10-30</td><td>P001</td><td>1</td><td>25000.0</td><td>25000.0</td><td>25000.0</td><td>true</td><td>30</td><td>2025-10-30</td></tr><tr><td>ORD016</td><td>C006</td><td>COD</td><td>PLACED</td><td>2025-10-12T10:00:00Z</td><td>Delhi</td><td>110001</td><td>203.0.113.16</td><td>2025-10-12</td><td>P005</td><td>1</td><td>15000.0</td><td>15000.0</td><td>15000.0</td><td>true</td><td>30</td><td>2025-10-12</td></tr><tr><td>ORD017</td><td>C007</td><td>CARD</td><td>PLACED</td><td>2025-10-12T10:05:00Z</td><td>Delhi</td><td>110001</td><td>203.0.113.16</td><td>2025-10-12</td><td>P005</td><td>1</td><td>15000.0</td><td>15000.0</td><td>15000.0</td><td>true</td><td>10</td><td>2025-10-12</td></tr><tr><td>ORD018</td><td>C008</td><td>CARD</td><td>PLACED</td><td>2025-10-13T08:10:00Z</td><td>Mumbai</td><td>400002</td><td>203.0.113.18</td><td>2025-10-13</td><td>P009</td><td>2</td><td>5000.0</td><td>10000.0</td><td>10000.0</td><td>false</td><td>5</td><td>2025-10-13</td></tr><tr><td>ORD019</td><td>C008</td><td>CARD</td><td>PLACED</td><td>2025-10-13T08:12:00Z</td><td>Mumbai</td><td>400002</td><td>203.0.113.18</td><td>2025-10-13</td><td>P009</td><td>1</td><td>5000.0</td><td>5000.0</td><td>5000.0</td><td>false</td><td>5</td><td>2025-10-13</td></tr><tr><td>ORD020</td><td>C009</td><td>UPI</td><td>PLACED</td><td>2025-10-13T09:00:00Z</td><td>Kolkata</td><td>700003</td><td>203.0.113.19</td><td>2025-10-13</td><td>P010</td><td>1</td><td>20000.0</td><td>20000.0</td><td>20000.0</td><td>true</td><td>5</td><td>2025-10-13</td></tr></tbody></table></div>"
      ]
     },
     "metadata": {
      "application/vnd.databricks.v1+output": {
       "addedWidgets": {},
       "aggData": [],
       "aggError": "",
       "aggOverflow": false,
       "aggSchema": [],
       "aggSeriesLimitReached": false,
       "aggType": "",
       "arguments": {},
       "columnCustomDisplayInfos": {},
       "data": [
        [
         "ORD001",
         "C001",
         "COD",
         "PLACED",
         "2025-10-08T09:10:00Z",
         "Mumbai",
         "400001",
         "203.0.113.11",
         "2025-10-08",
         "P001",
         1,
         25000.0,
         25000.0,
         25950.0,
         true,
         30,
         "2025-10-08"
        ],
        [
         "ORD001",
         "C001",
         "COD",
         "PLACED",
         "2025-10-08T09:10:00Z",
         "Mumbai",
         "400001",
         "203.0.113.11",
         "2025-10-08",
         "P008",
         1,
         950.0,
         950.0,
         25950.0,
         true,
         30,
         "2025-10-08"
        ],
        [
         "ORD002",
         "C002",
         "CARD",
         "PLACED",
         "2025-10-09T10:20:00Z",
         "Delhi",
         "110001",
         "203.0.113.12",
         "2025-10-09",
         "P004",
         1,
         2500.0,
         2500.0,
         4250.0,
         false,
         5,
         "2025-10-09"
        ],
        [
         "ORD002",
         "C002",
         "CARD",
         "PLACED",
         "2025-10-09T10:20:00Z",
         "Delhi",
         "110001",
         "203.0.113.12",
         "2025-10-09",
         "P011",
         1,
         1750.0,
         1750.0,
         4250.0,
         false,
         5,
         "2025-10-09"
        ],
        [
         "ORD003",
         "C003",
         "UPI",
         "PLACED",
         "2025-10-10T11:30:00Z",
         "Bengaluru",
         "560001",
         "203.0.113.13",
         "2025-10-10",
         "P002",
         1,
         55000.0,
         55000.0,
         55000.0,
         true,
         5,
         "2025-10-10"
        ],
        [
         "ORD004",
         "C001",
         "CARD",
         "PLACED",
         "2025-10-11T12:00:00Z",
         "Pune",
         "411001",
         "203.0.113.11",
         "2025-10-11",
         "P003",
         2,
         1500.0,
         3000.0,
         6300.0,
         false,
         5,
         "2025-10-11"
        ],
        [
         "ORD004",
         "C001",
         "CARD",
         "PLACED",
         "2025-10-11T12:00:00Z",
         "Pune",
         "411001",
         "203.0.113.11",
         "2025-10-11",
         "P009",
         1,
         3300.0,
         3300.0,
         6300.0,
         false,
         5,
         "2025-10-11"
        ],
        [
         "ORD005",
         "C004",
         "COD",
         "PLACED",
         "2025-10-12T08:45:00Z",
         "Chennai",
         "600001",
         "203.0.113.14",
         "2025-10-12",
         "P010",
         1,
         4000.0,
         4000.0,
         5600.0,
         false,
         5,
         "2025-10-12"
        ],
        [
         "ORD005",
         "C004",
         "COD",
         "PLACED",
         "2025-10-12T08:45:00Z",
         "Chennai",
         "600001",
         "203.0.113.14",
         "2025-10-12",
         "P007",
         2,
         800.0,
         1600.0,
         5600.0,
         false,
         5,
         "2025-10-12"
        ],
        [
         "ORD006",
         "C005",
         "WALLET",
         "PLACED",
         "2025-10-13T09:15:00Z",
         "Hyderabad",
         "500001",
         "203.0.113.15",
         "2025-10-13",
         "P006",
         1,
         5000.0,
         5000.0,
         7300.0,
         false,
         5,
         "2025-10-13"
        ],
        [
         "ORD006",
         "C005",
         "WALLET",
         "PLACED",
         "2025-10-13T09:15:00Z",
         "Hyderabad",
         "500001",
         "203.0.113.15",
         "2025-10-13",
         "P012",
         1,
         2300.0,
         2300.0,
         7300.0,
         false,
         5,
         "2025-10-13"
        ],
        [
         "ORD007",
         "C006",
         "CARD",
         "PLACED",
         "2025-10-14T14:40:00Z",
         "Kolkata",
         "700001",
         "203.0.113.16",
         "2025-10-14",
         "P005",
         1,
         1800.0,
         1800.0,
         4200.0,
         false,
         5,
         "2025-10-14"
        ],
        [
         "ORD007",
         "C006",
         "CARD",
         "PLACED",
         "2025-10-14T14:40:00Z",
         "Kolkata",
         "700001",
         "203.0.113.16",
         "2025-10-14",
         "P013",
         2,
         1200.0,
         2400.0,
         4200.0,
         false,
         5,
         "2025-10-14"
        ],
        [
         "ORD008",
         "C007",
         "COD",
         "PLACED",
         "2025-10-15T16:00:00Z",
         "Mumbai",
         "400002",
         "203.0.113.17",
         "2025-10-15",
         "P014",
         3,
         900.0,
         2700.0,
         4150.0,
         false,
         5,
         "2025-10-15"
        ],
        [
         "ORD008",
         "C007",
         "COD",
         "PLACED",
         "2025-10-15T16:00:00Z",
         "Mumbai",
         "400002",
         "203.0.113.17",
         "2025-10-15",
         "P015",
         1,
         1450.0,
         1450.0,
         4150.0,
         false,
         5,
         "2025-10-15"
        ],
        [
         "ORD009",
         "C008",
         "UPI",
         "PLACED",
         "2025-10-16T09:30:00Z",
         "Delhi",
         "110002",
         "203.0.113.18",
         "2025-10-16",
         "P001",
         1,
         25000.0,
         25000.0,
         29000.0,
         true,
         5,
         "2025-10-16"
        ],
        [
         "ORD009",
         "C008",
         "UPI",
         "PLACED",
         "2025-10-16T09:30:00Z",
         "Delhi",
         "110002",
         "203.0.113.18",
         "2025-10-16",
         "P010",
         1,
         4000.0,
         4000.0,
         29000.0,
         true,
         5,
         "2025-10-16"
        ],
        [
         "ORD010",
         "C009",
         "CARD",
         "PLACED",
         "2025-10-17T10:30:00Z",
         "Pune",
         "411018",
         "203.0.113.19",
         "2025-10-17",
         "P002",
         1,
         55000.0,
         55000.0,
         57400.0,
         true,
         10,
         "2025-10-17"
        ],
        [
         "ORD010",
         "C009",
         "CARD",
         "PLACED",
         "2025-10-17T10:30:00Z",
         "Pune",
         "411018",
         "203.0.113.19",
         "2025-10-17",
         "P007",
         3,
         800.0,
         2400.0,
         57400.0,
         true,
         10,
         "2025-10-17"
        ],
        [
         "ORD011",
         "C010",
         "UPI",
         "PLACED",
         "2025-10-18T11:00:00Z",
         "Bengaluru",
         "560002",
         "203.0.113.20",
         "2025-10-18",
         "P016",
         1,
         0.0,
         0.0,
         1500.0,
         false,
         5,
         "2025-10-18"
        ],
        [
         "ORD011",
         "C010",
         "UPI",
         "PLACED",
         "2025-10-18T11:00:00Z",
         "Bengaluru",
         "560002",
         "203.0.113.20",
         "2025-10-18",
         "P003",
         1,
         1500.0,
         1500.0,
         1500.0,
         false,
         5,
         "2025-10-18"
        ],
        [
         "ORD012",
         "C002",
         "COD",
         "PLACED",
         "2025-10-19T12:20:00Z",
         "Chennai",
         "600002",
         "203.0.113.12",
         "2025-10-19",
         "P011",
         1,
         1750.0,
         1750.0,
         3650.0,
         false,
         5,
         "2025-10-19"
        ],
        [
         "ORD012",
         "C002",
         "COD",
         "PLACED",
         "2025-10-19T12:20:00Z",
         "Chennai",
         "600002",
         "203.0.113.12",
         "2025-10-19",
         "P008",
         2,
         950.0,
         1900.0,
         3650.0,
         false,
         5,
         "2025-10-19"
        ],
        [
         "ORD013",
         "C004",
         "CARD",
         "PLACED",
         "2025-10-21T09:05:00Z",
         "Hyderabad",
         "500002",
         "203.0.113.14",
         "2025-10-21",
         "P004",
         1,
         2500.0,
         2500.0,
         6250.0,
         false,
         5,
         "2025-10-21"
        ],
        [
         "ORD013",
         "C004",
         "CARD",
         "PLACED",
         "2025-10-21T09:05:00Z",
         "Hyderabad",
         "500002",
         "203.0.113.14",
         "2025-10-21",
         "P012",
         1,
         2300.0,
         2300.0,
         6250.0,
         false,
         5,
         "2025-10-21"
        ],
        [
         "ORD013",
         "C004",
         "CARD",
         "PLACED",
         "2025-10-21T09:05:00Z",
         "Hyderabad",
         "500002",
         "203.0.113.14",
         "2025-10-21",
         "P015",
         1,
         1450.0,
         1450.0,
         6250.0,
         false,
         5,
         "2025-10-21"
        ],
        [
         "ORD014",
         "C003",
         "UPI",
         "PLACED",
         "2025-10-25T08:00:00Z",
         "Mumbai",
         "400003",
         "203.0.113.13",
         "2025-10-25",
         "P009",
         1,
         3300.0,
         3300.0,
         5100.0,
         false,
         5,
         "2025-10-25"
        ],
        [
         "ORD014",
         "C003",
         "UPI",
         "PLACED",
         "2025-10-25T08:00:00Z",
         "Mumbai",
         "400003",
         "203.0.113.13",
         "2025-10-25",
         "P005",
         1,
         1800.0,
         1800.0,
         5100.0,
         false,
         5,
         "2025-10-25"
        ],
        [
         "ORD015",
         "C005",
         "COD",
         "PLACED",
         "2025-10-30T17:45:00Z",
         "Kolkata",
         "700002",
         "203.0.113.15",
         "2025-10-30",
         "P001",
         1,
         25000.0,
         25000.0,
         25000.0,
         true,
         30,
         "2025-10-30"
        ],
        [
         "ORD016",
         "C006",
         "COD",
         "PLACED",
         "2025-10-12T10:00:00Z",
         "Delhi",
         "110001",
         "203.0.113.16",
         "2025-10-12",
         "P005",
         1,
         15000.0,
         15000.0,
         15000.0,
         true,
         30,
         "2025-10-12"
        ],
        [
         "ORD017",
         "C007",
         "CARD",
         "PLACED",
         "2025-10-12T10:05:00Z",
         "Delhi",
         "110001",
         "203.0.113.16",
         "2025-10-12",
         "P005",
         1,
         15000.0,
         15000.0,
         15000.0,
         true,
         10,
         "2025-10-12"
        ],
        [
         "ORD018",
         "C008",
         "CARD",
         "PLACED",
         "2025-10-13T08:10:00Z",
         "Mumbai",
         "400002",
         "203.0.113.18",
         "2025-10-13",
         "P009",
         2,
         5000.0,
         10000.0,
         10000.0,
         false,
         5,
         "2025-10-13"
        ],
        [
         "ORD019",
         "C008",
         "CARD",
         "PLACED",
         "2025-10-13T08:12:00Z",
         "Mumbai",
         "400002",
         "203.0.113.18",
         "2025-10-13",
         "P009",
         1,
         5000.0,
         5000.0,
         5000.0,
         false,
         5,
         "2025-10-13"
        ],
        [
         "ORD020",
         "C009",
         "UPI",
         "PLACED",
         "2025-10-13T09:00:00Z",
         "Kolkata",
         "700003",
         "203.0.113.19",
         "2025-10-13",
         "P010",
         1,
         20000.0,
         20000.0,
         20000.0,
         true,
         5,
         "2025-10-13"
        ]
       ],
       "datasetInfos": [],
       "dbfsResultPath": null,
       "isJsonSchema": true,
       "metadata": {},
       "overflow": false,
       "plotOptions": {
        "customPlotOptions": {},
        "displayType": "table",
        "pivotAggregation": null,
        "pivotColumns": null,
        "xColumns": null,
        "yColumns": null
       },
       "removedWidgets": [],
       "schema": [
        {
         "metadata": "{}",
         "name": "order_id",
         "type": "\"string\""
        },
        {
         "metadata": "{}",
         "name": "customer_id",
         "type": "\"string\""
        },
        {
         "metadata": "{}",
         "name": "payment_method",
         "type": "\"string\""
        },
        {
         "metadata": "{}",
         "name": "order_status",
         "type": "\"string\""
        },
        {
         "metadata": "{}",
         "name": "event_time",
         "type": "\"string\""
        },
        {
         "metadata": "{}",
         "name": "shipping_city",
         "type": "\"string\""
        },
        {
         "metadata": "{}",
         "name": "shipping_pincode",
         "type": "\"string\""
        },
        {
         "metadata": "{}",
         "name": "ip_address",
         "type": "\"string\""
        },
        {
         "metadata": "{}",
         "name": "order_date",
         "type": "\"date\""
        },
        {
         "metadata": "{}",
         "name": "product_id",
         "type": "\"string\""
        },
        {
         "metadata": "{}",
         "name": "quantity",
         "type": "\"integer\""
        },
        {
         "metadata": "{}",
         "name": "price",
         "type": "\"double\""
        },
        {
         "metadata": "{}",
         "name": "item_value_in_order",
         "type": "\"double\""
        },
        {
         "metadata": "{}",
         "name": "order_total_value",
         "type": "\"double\""
        },
        {
         "metadata": "{}",
         "name": "is_high_value",
         "type": "\"boolean\""
        },
        {
         "metadata": "{}",
         "name": "fraud_score",
         "type": "\"integer\""
        },
        {
         "metadata": "{}",
         "name": "event_date",
         "type": "\"date\""
        }
       ],
       "type": "table"
      }
     },
     "output_type": "display_data"
    }
   ],
   "source": [
    "# Read the raw data from the Bronze Delta table\n",
    "bronze_orders_df = spark.read.table(\"`e-commerce-project`.bronze.orders\")\n",
    "\n",
    "print(f\"Bronze DataFrame loaded before dedup {bronze_orders_df.count()} records.\")\n",
    "# deduplicate data\n",
    "bronze_orders_df_new = transformer.dedup(\n",
    "    bronze_orders_df,\n",
    "    ['order_id', 'customer_id'],\n",
    "    'event_time'\n",
    ")\n",
    "print(f\"Bronze DataFrame loaded with {bronze_orders_df_new.count()} records.\")\n",
    "\n",
    "\n",
    "transformer_ORDER = OrderSilverTransformations(spark)\n",
    "orders_transformed = transformer_ORDER.transform(bronze_orders_df_new)\n",
    "\n",
    "display(orders_transformed)\n",
    "# print(f\"✅ Silver transformation complete — {silver_df_orders.count()} records generated.\")\n",
    "\n"
   ]
  },
  {
   "cell_type": "markdown",
   "metadata": {
    "application/vnd.databricks.v1+cell": {
     "cellMetadata": {
      "byteLimit": 2048000,
      "rowLimit": 10000
     },
     "inputWidgets": {},
     "nuid": "5b84fa46-e64d-4035-9140-368342193443",
     "showTitle": false,
     "tableResultSettingsMap": {},
     "title": ""
    }
   },
   "source": [
    "##Upserting-Orders"
   ]
  },
  {
   "cell_type": "code",
   "execution_count": 0,
   "metadata": {
    "application/vnd.databricks.v1+cell": {
     "cellMetadata": {
      "byteLimit": 2048000,
      "rowLimit": 10000
     },
     "inputWidgets": {},
     "nuid": "86a45901-c58f-46c5-a53c-0d1cd56ecf93",
     "showTitle": false,
     "tableResultSettingsMap": {},
     "title": ""
    }
   },
   "outputs": [],
   "source": []
  },
  {
   "cell_type": "code",
   "execution_count": 0,
   "metadata": {
    "application/vnd.databricks.v1+cell": {
     "cellMetadata": {
      "byteLimit": 2048000,
      "rowLimit": 10000
     },
     "inputWidgets": {},
     "nuid": "9e4df0eb-d404-4aa1-a24b-216d205bf829",
     "showTitle": false,
     "tableResultSettingsMap": {},
     "title": ""
    }
   },
   "outputs": [],
   "source": [
    "\n"
   ]
  },
  {
   "cell_type": "code",
   "execution_count": 0,
   "metadata": {
    "application/vnd.databricks.v1+cell": {
     "cellMetadata": {
      "byteLimit": 2048000,
      "rowLimit": 10000
     },
     "inputWidgets": {},
     "nuid": "b9d30a08-119c-483b-b738-55addcf8e721",
     "showTitle": false,
     "tableResultSettingsMap": {},
     "title": ""
    }
   },
   "outputs": [
    {
     "output_type": "stream",
     "name": "stdout",
     "output_type": "stream",
     "text": [
      "✅ Created new Delta table: `e-commerce-project`.silver.orders\n"
     ]
    }
   ],
   "source": [
    "transformer.create_or_upsert(spark,orders_transformed,['order_id', 'customer_id','product_id'],\"silver.orders\",'event_time')"
   ]
  },
  {
   "cell_type": "code",
   "execution_count": 0,
   "metadata": {
    "application/vnd.databricks.v1+cell": {
     "cellMetadata": {
      "byteLimit": 2048000,
      "implicitDf": true,
      "rowLimit": 10000
     },
     "inputWidgets": {},
     "nuid": "cb29b6d2-7bda-4ee6-ae32-40a172bd04b7",
     "showTitle": false,
     "tableResultSettingsMap": {
      "0": {
       "dataGridStateBlob": "{\"version\":1,\"tableState\":{\"columnPinning\":{\"left\":[\"#row_number#\"],\"right\":[]},\"columnSizing\":{\"event_time\":248},\"columnVisibility\":{}},\"settings\":{\"columns\":{}},\"syncTimestamp\":1760720983913}",
       "filterBlob": null,
       "queryPlanFiltersBlob": null,
       "tableResultIndex": 0
      }
     },
     "title": ""
    }
   },
   "outputs": [
    {
     "output_type": "display_data",
     "data": {
      "text/html": [
       "<style scoped>\n",
       "  .table-result-container {\n",
       "    max-height: 300px;\n",
       "    overflow: auto;\n",
       "  }\n",
       "  table, th, td {\n",
       "    border: 1px solid black;\n",
       "    border-collapse: collapse;\n",
       "  }\n",
       "  th, td {\n",
       "    padding: 5px;\n",
       "  }\n",
       "  th {\n",
       "    text-align: left;\n",
       "  }\n",
       "</style><div class='table-result-container'><table class='table-result'><thead style='background-color: white'><tr><th>order_id</th><th>event_time</th><th>count(*)</th></tr></thead><tbody><tr><td>ORD001</td><td>2025-10-08T09:10:00Z</td><td>2</td></tr><tr><td>ORD002</td><td>2025-10-09T10:20:00Z</td><td>2</td></tr><tr><td>ORD003</td><td>2025-10-10T11:30:00Z</td><td>1</td></tr><tr><td>ORD004</td><td>2025-10-11T12:00:00Z</td><td>2</td></tr><tr><td>ORD005</td><td>2025-10-12T08:45:00Z</td><td>2</td></tr><tr><td>ORD006</td><td>2025-10-13T09:15:00Z</td><td>2</td></tr><tr><td>ORD007</td><td>2025-10-14T14:40:00Z</td><td>2</td></tr><tr><td>ORD008</td><td>2025-10-15T16:00:00Z</td><td>2</td></tr><tr><td>ORD009</td><td>2025-10-16T09:30:00Z</td><td>2</td></tr><tr><td>ORD010</td><td>2025-10-17T10:30:00Z</td><td>2</td></tr><tr><td>ORD011</td><td>2025-10-18T11:00:00Z</td><td>2</td></tr><tr><td>ORD012</td><td>2025-10-19T12:20:00Z</td><td>2</td></tr><tr><td>ORD013</td><td>2025-10-21T09:05:00Z</td><td>3</td></tr><tr><td>ORD014</td><td>2025-10-25T08:00:00Z</td><td>2</td></tr><tr><td>ORD015</td><td>2025-10-30T17:45:00Z</td><td>1</td></tr><tr><td>ORD016</td><td>2025-10-12T10:00:00Z</td><td>1</td></tr><tr><td>ORD017</td><td>2025-10-12T10:05:00Z</td><td>1</td></tr><tr><td>ORD018</td><td>2025-10-13T08:10:00Z</td><td>1</td></tr><tr><td>ORD019</td><td>2025-10-13T08:12:00Z</td><td>1</td></tr><tr><td>ORD020</td><td>2025-10-13T09:00:00Z</td><td>1</td></tr></tbody></table></div>"
      ]
     },
     "metadata": {
      "application/vnd.databricks.v1+output": {
       "addedWidgets": {},
       "aggData": [],
       "aggError": "",
       "aggOverflow": false,
       "aggSchema": [],
       "aggSeriesLimitReached": false,
       "aggType": "",
       "arguments": {},
       "columnCustomDisplayInfos": {},
       "data": [
        [
         "ORD001",
         "2025-10-08T09:10:00Z",
         2
        ],
        [
         "ORD002",
         "2025-10-09T10:20:00Z",
         2
        ],
        [
         "ORD003",
         "2025-10-10T11:30:00Z",
         1
        ],
        [
         "ORD004",
         "2025-10-11T12:00:00Z",
         2
        ],
        [
         "ORD005",
         "2025-10-12T08:45:00Z",
         2
        ],
        [
         "ORD006",
         "2025-10-13T09:15:00Z",
         2
        ],
        [
         "ORD007",
         "2025-10-14T14:40:00Z",
         2
        ],
        [
         "ORD008",
         "2025-10-15T16:00:00Z",
         2
        ],
        [
         "ORD009",
         "2025-10-16T09:30:00Z",
         2
        ],
        [
         "ORD010",
         "2025-10-17T10:30:00Z",
         2
        ],
        [
         "ORD011",
         "2025-10-18T11:00:00Z",
         2
        ],
        [
         "ORD012",
         "2025-10-19T12:20:00Z",
         2
        ],
        [
         "ORD013",
         "2025-10-21T09:05:00Z",
         3
        ],
        [
         "ORD014",
         "2025-10-25T08:00:00Z",
         2
        ],
        [
         "ORD015",
         "2025-10-30T17:45:00Z",
         1
        ],
        [
         "ORD016",
         "2025-10-12T10:00:00Z",
         1
        ],
        [
         "ORD017",
         "2025-10-12T10:05:00Z",
         1
        ],
        [
         "ORD018",
         "2025-10-13T08:10:00Z",
         1
        ],
        [
         "ORD019",
         "2025-10-13T08:12:00Z",
         1
        ],
        [
         "ORD020",
         "2025-10-13T09:00:00Z",
         1
        ]
       ],
       "datasetInfos": [
        {
         "name": "_sqldf",
         "schema": {
          "fields": [
           {
            "metadata": {},
            "name": "order_id",
            "nullable": true,
            "type": "string"
           },
           {
            "metadata": {},
            "name": "event_time",
            "nullable": true,
            "type": "string"
           },
           {
            "metadata": {},
            "name": "count(*)",
            "nullable": false,
            "type": "long"
           }
          ],
          "type": "struct"
         },
         "tableIdentifier": null,
         "typeStr": "pyspark.sql.connect.dataframe.DataFrame"
        }
       ],
       "dbfsResultPath": null,
       "isJsonSchema": true,
       "metadata": {
        "createTempViewForImplicitDf": true,
        "dataframeName": "_sqldf",
        "executionCount": 45
       },
       "overflow": false,
       "plotOptions": {
        "customPlotOptions": {},
        "displayType": "table",
        "pivotAggregation": null,
        "pivotColumns": null,
        "xColumns": null,
        "yColumns": null
       },
       "removedWidgets": [],
       "schema": [
        {
         "metadata": "{}",
         "name": "order_id",
         "type": "\"string\""
        },
        {
         "metadata": "{}",
         "name": "event_time",
         "type": "\"string\""
        },
        {
         "metadata": "{}",
         "name": "count(*)",
         "type": "\"long\""
        }
       ],
       "type": "table"
      }
     },
     "output_type": "display_data"
    }
   ],
   "source": [
    "%sql\n",
    "select order_id,event_time,count(*) from `e-commerce-project`.silver.orders\n",
    "group by order_id,event_time"
   ]
  },
  {
   "cell_type": "markdown",
   "metadata": {
    "application/vnd.databricks.v1+cell": {
     "cellMetadata": {
      "byteLimit": 2048000,
      "rowLimit": 10000
     },
     "inputWidgets": {},
     "nuid": "43e3c432-f7eb-4746-9d58-20d5661bd3cd",
     "showTitle": false,
     "tableResultSettingsMap": {},
     "title": ""
    }
   },
   "source": [
    "#Payments\n"
   ]
  },
  {
   "cell_type": "code",
   "execution_count": 0,
   "metadata": {
    "application/vnd.databricks.v1+cell": {
     "cellMetadata": {
      "byteLimit": 2048000,
      "rowLimit": 10000
     },
     "inputWidgets": {},
     "nuid": "221fa721-f207-418d-9d12-91d0e310b24d",
     "showTitle": false,
     "tableResultSettingsMap": {},
     "title": ""
    }
   },
   "outputs": [
    {
     "output_type": "display_data",
     "data": {
      "text/html": [
       "<style scoped>\n",
       "  .table-result-container {\n",
       "    max-height: 300px;\n",
       "    overflow: auto;\n",
       "  }\n",
       "  table, th, td {\n",
       "    border: 1px solid black;\n",
       "    border-collapse: collapse;\n",
       "  }\n",
       "  th, td {\n",
       "    padding: 5px;\n",
       "  }\n",
       "  th {\n",
       "    text-align: left;\n",
       "  }\n",
       "</style><div class='table-result-container'><table class='table-result'><thead style='background-color: white'><tr><th>payment_id</th><th>order_id</th><th>customer_id</th><th>payment_timestamp</th><th>amount</th><th>payment_status</th><th>method</th><th>event_date</th><th>is_successful</th></tr></thead><tbody><tr><td>PAY_ORD001_2</td><td>ORD001</td><td>C001</td><td>2025-10-10T12:30:00Z</td><td>25950.0</td><td>SUCCESS</td><td>COD</td><td>2025-10-10</td><td>true</td></tr><tr><td>PAY_ORD002_1</td><td>ORD002</td><td>C002</td><td>2025-10-09T10:22:00Z</td><td>4250.0</td><td>SUCCESS</td><td>CARD</td><td>2025-10-09</td><td>true</td></tr><tr><td>PAY_ORD003_1</td><td>ORD003</td><td>C003</td><td>2025-10-10T11:32:00Z</td><td>55000.0</td><td>SUCCESS</td><td>UPI</td><td>2025-10-10</td><td>true</td></tr><tr><td>PAY_ORD004_1</td><td>ORD004</td><td>C001</td><td>2025-10-11T12:03:00Z</td><td>6300.0</td><td>SUCCESS</td><td>CARD</td><td>2025-10-11</td><td>true</td></tr><tr><td>PAY_ORD005_2</td><td>ORD005</td><td>C004</td><td>2025-10-14T16:10:00Z</td><td>5600.0</td><td>SUCCESS</td><td>COD</td><td>2025-10-14</td><td>true</td></tr><tr><td>PAY_ORD006_1</td><td>ORD006</td><td>C005</td><td>2025-10-13T09:16:00Z</td><td>7300.0</td><td>SUCCESS</td><td>WALLET</td><td>2025-10-13</td><td>true</td></tr><tr><td>PAY_ORD007_1</td><td>ORD007</td><td>C006</td><td>2025-10-14T14:42:00Z</td><td>4200.0</td><td>SUCCESS</td><td>CARD</td><td>2025-10-14</td><td>true</td></tr><tr><td>PAY_ORD008_2</td><td>ORD008</td><td>C007</td><td>2025-10-17T10:00:00Z</td><td>4150.0</td><td>SUCCESS</td><td>COD</td><td>2025-10-17</td><td>true</td></tr><tr><td>PAY_ORD009_1</td><td>ORD009</td><td>C008</td><td>2025-10-16T09:35:00Z</td><td>29000.0</td><td>SUCCESS</td><td>UPI</td><td>2025-10-16</td><td>true</td></tr><tr><td>PAY_ORD010_1</td><td>ORD010</td><td>C009</td><td>2025-10-17T10:35:00Z</td><td>57400.0</td><td>SUCCESS</td><td>CARD</td><td>2025-10-17</td><td>true</td></tr><tr><td>PAY_ORD011_1</td><td>ORD011</td><td>C010</td><td>2025-10-18T11:05:00Z</td><td>1500.0</td><td>SUCCESS</td><td>UPI</td><td>2025-10-18</td><td>true</td></tr><tr><td>PAY_ORD012_2</td><td>ORD012</td><td>C002</td><td>2025-10-21T09:00:00Z</td><td>3650.0</td><td>SUCCESS</td><td>COD</td><td>2025-10-21</td><td>true</td></tr><tr><td>PAY_ORD013_1</td><td>ORD013</td><td>C004</td><td>2025-10-21T09:10:00Z</td><td>6250.0</td><td>SUCCESS</td><td>CARD</td><td>2025-10-21</td><td>true</td></tr><tr><td>PAY_ORD014_1</td><td>ORD014</td><td>C003</td><td>2025-10-25T08:05:00Z</td><td>5100.0</td><td>SUCCESS</td><td>UPI</td><td>2025-10-25</td><td>true</td></tr><tr><td>PAY_ORD015_1</td><td>ORD015</td><td>C005</td><td>2025-10-30T17:46:00Z</td><td>25000.0</td><td>PENDING</td><td>COD</td><td>2025-10-30</td><td>false</td></tr><tr><td>PAY_ORD016_2</td><td>ORD016</td><td>C006</td><td>2025-10-13T11:00:00Z</td><td>15000.0</td><td>FAILED</td><td>COD</td><td>2025-10-13</td><td>false</td></tr><tr><td>PAY_ORD017_2</td><td>ORD017</td><td>C007</td><td>2025-10-12T10:06:10Z</td><td>15000.0</td><td>SUCCESS</td><td>CARD</td><td>2025-10-12</td><td>true</td></tr><tr><td>PAY_ORD018_1</td><td>ORD018</td><td>C008</td><td>2025-10-13T08:11:00Z</td><td>10000.0</td><td>SUCCESS</td><td>CARD</td><td>2025-10-13</td><td>true</td></tr><tr><td>PAY_ORD019_1</td><td>ORD019</td><td>C008</td><td>2025-10-13T08:13:00Z</td><td>5000.0</td><td>SUCCESS</td><td>CARD</td><td>2025-10-13</td><td>true</td></tr><tr><td>PAY_ORD020_1</td><td>ORD020</td><td>C009</td><td>2025-10-13T09:02:00Z</td><td>20000.0</td><td>SUCCESS</td><td>UPI</td><td>2025-10-13</td><td>true</td></tr></tbody></table></div>"
      ]
     },
     "metadata": {
      "application/vnd.databricks.v1+output": {
       "addedWidgets": {},
       "aggData": [],
       "aggError": "",
       "aggOverflow": false,
       "aggSchema": [],
       "aggSeriesLimitReached": false,
       "aggType": "",
       "arguments": {},
       "columnCustomDisplayInfos": {},
       "data": [
        [
         "PAY_ORD001_2",
         "ORD001",
         "C001",
         "2025-10-10T12:30:00Z",
         25950.0,
         "SUCCESS",
         "COD",
         "2025-10-10",
         true
        ],
        [
         "PAY_ORD002_1",
         "ORD002",
         "C002",
         "2025-10-09T10:22:00Z",
         4250.0,
         "SUCCESS",
         "CARD",
         "2025-10-09",
         true
        ],
        [
         "PAY_ORD003_1",
         "ORD003",
         "C003",
         "2025-10-10T11:32:00Z",
         55000.0,
         "SUCCESS",
         "UPI",
         "2025-10-10",
         true
        ],
        [
         "PAY_ORD004_1",
         "ORD004",
         "C001",
         "2025-10-11T12:03:00Z",
         6300.0,
         "SUCCESS",
         "CARD",
         "2025-10-11",
         true
        ],
        [
         "PAY_ORD005_2",
         "ORD005",
         "C004",
         "2025-10-14T16:10:00Z",
         5600.0,
         "SUCCESS",
         "COD",
         "2025-10-14",
         true
        ],
        [
         "PAY_ORD006_1",
         "ORD006",
         "C005",
         "2025-10-13T09:16:00Z",
         7300.0,
         "SUCCESS",
         "WALLET",
         "2025-10-13",
         true
        ],
        [
         "PAY_ORD007_1",
         "ORD007",
         "C006",
         "2025-10-14T14:42:00Z",
         4200.0,
         "SUCCESS",
         "CARD",
         "2025-10-14",
         true
        ],
        [
         "PAY_ORD008_2",
         "ORD008",
         "C007",
         "2025-10-17T10:00:00Z",
         4150.0,
         "SUCCESS",
         "COD",
         "2025-10-17",
         true
        ],
        [
         "PAY_ORD009_1",
         "ORD009",
         "C008",
         "2025-10-16T09:35:00Z",
         29000.0,
         "SUCCESS",
         "UPI",
         "2025-10-16",
         true
        ],
        [
         "PAY_ORD010_1",
         "ORD010",
         "C009",
         "2025-10-17T10:35:00Z",
         57400.0,
         "SUCCESS",
         "CARD",
         "2025-10-17",
         true
        ],
        [
         "PAY_ORD011_1",
         "ORD011",
         "C010",
         "2025-10-18T11:05:00Z",
         1500.0,
         "SUCCESS",
         "UPI",
         "2025-10-18",
         true
        ],
        [
         "PAY_ORD012_2",
         "ORD012",
         "C002",
         "2025-10-21T09:00:00Z",
         3650.0,
         "SUCCESS",
         "COD",
         "2025-10-21",
         true
        ],
        [
         "PAY_ORD013_1",
         "ORD013",
         "C004",
         "2025-10-21T09:10:00Z",
         6250.0,
         "SUCCESS",
         "CARD",
         "2025-10-21",
         true
        ],
        [
         "PAY_ORD014_1",
         "ORD014",
         "C003",
         "2025-10-25T08:05:00Z",
         5100.0,
         "SUCCESS",
         "UPI",
         "2025-10-25",
         true
        ],
        [
         "PAY_ORD015_1",
         "ORD015",
         "C005",
         "2025-10-30T17:46:00Z",
         25000.0,
         "PENDING",
         "COD",
         "2025-10-30",
         false
        ],
        [
         "PAY_ORD016_2",
         "ORD016",
         "C006",
         "2025-10-13T11:00:00Z",
         15000.0,
         "FAILED",
         "COD",
         "2025-10-13",
         false
        ],
        [
         "PAY_ORD017_2",
         "ORD017",
         "C007",
         "2025-10-12T10:06:10Z",
         15000.0,
         "SUCCESS",
         "CARD",
         "2025-10-12",
         true
        ],
        [
         "PAY_ORD018_1",
         "ORD018",
         "C008",
         "2025-10-13T08:11:00Z",
         10000.0,
         "SUCCESS",
         "CARD",
         "2025-10-13",
         true
        ],
        [
         "PAY_ORD019_1",
         "ORD019",
         "C008",
         "2025-10-13T08:13:00Z",
         5000.0,
         "SUCCESS",
         "CARD",
         "2025-10-13",
         true
        ],
        [
         "PAY_ORD020_1",
         "ORD020",
         "C009",
         "2025-10-13T09:02:00Z",
         20000.0,
         "SUCCESS",
         "UPI",
         "2025-10-13",
         true
        ]
       ],
       "datasetInfos": [],
       "dbfsResultPath": null,
       "isJsonSchema": true,
       "metadata": {},
       "overflow": false,
       "plotOptions": {
        "customPlotOptions": {},
        "displayType": "table",
        "pivotAggregation": null,
        "pivotColumns": null,
        "xColumns": null,
        "yColumns": null
       },
       "removedWidgets": [],
       "schema": [
        {
         "metadata": "{}",
         "name": "payment_id",
         "type": "\"string\""
        },
        {
         "metadata": "{}",
         "name": "order_id",
         "type": "\"string\""
        },
        {
         "metadata": "{}",
         "name": "customer_id",
         "type": "\"string\""
        },
        {
         "metadata": "{}",
         "name": "payment_timestamp",
         "type": "\"string\""
        },
        {
         "metadata": "{}",
         "name": "amount",
         "type": "\"double\""
        },
        {
         "metadata": "{}",
         "name": "payment_status",
         "type": "\"string\""
        },
        {
         "metadata": "{}",
         "name": "method",
         "type": "\"string\""
        },
        {
         "metadata": "{}",
         "name": "event_date",
         "type": "\"date\""
        },
        {
         "metadata": "{}",
         "name": "is_successful",
         "type": "\"boolean\""
        }
       ],
       "type": "table"
      }
     },
     "output_type": "display_data"
    }
   ],
   "source": [
    "bronze_payment_df = spark.read.table(\"`e-commerce-project`.bronze.payments\")\n",
    "\n",
    "# deduplicate data\n",
    "payment_new = transformer.dedup(\n",
    "    bronze_payment_df,\n",
    "    ['order_id', 'customer_id'],\n",
    "    'payment_timestamp'\n",
    ")\n",
    "#  Add payment flag\n",
    "payment_transformed = payment_new.withColumn(\"is_successful\"\n",
    "                                     ,F.when(F.col(\"payment_status\") == \"SUCCESS\", True).otherwise(False))\n",
    "\n",
    "\n",
    "display(payment_transformed)"
   ]
  },
  {
   "cell_type": "markdown",
   "metadata": {
    "application/vnd.databricks.v1+cell": {
     "cellMetadata": {
      "byteLimit": 2048000,
      "rowLimit": 10000
     },
     "inputWidgets": {},
     "nuid": "fd2848f9-b937-4ffe-a76c-b2f2e683a230",
     "showTitle": false,
     "tableResultSettingsMap": {},
     "title": ""
    }
   },
   "source": [
    "###Upserting-Payments"
   ]
  },
  {
   "cell_type": "code",
   "execution_count": 0,
   "metadata": {
    "application/vnd.databricks.v1+cell": {
     "cellMetadata": {
      "byteLimit": 2048000,
      "rowLimit": 10000
     },
     "inputWidgets": {},
     "nuid": "03951473-6a67-4b82-9347-ec3fd9ed754f",
     "showTitle": false,
     "tableResultSettingsMap": {},
     "title": ""
    }
   },
   "outputs": [
    {
     "output_type": "stream",
     "name": "stdout",
     "output_type": "stream",
     "text": [
      "✅ Created new Delta table: `e-commerce-project`.silver.payment\n"
     ]
    }
   ],
   "source": [
    "\n",
    "transformer.create_or_upsert(spark,\n",
    "                             payment_transformed,\n",
    "                             key_cols=['order_id', 'customer_id'],\n",
    "                             table='silver.payment',\n",
    "                             cdc='payment_timestamp')"
   ]
  },
  {
   "cell_type": "code",
   "execution_count": 0,
   "metadata": {
    "application/vnd.databricks.v1+cell": {
     "cellMetadata": {
      "byteLimit": 2048000,
      "rowLimit": 10000
     },
     "inputWidgets": {},
     "nuid": "1a1d29fb-0d0a-4bfb-8542-2583396dd6aa",
     "showTitle": false,
     "tableResultSettingsMap": {},
     "title": ""
    }
   },
   "outputs": [],
   "source": []
  },
  {
   "cell_type": "markdown",
   "metadata": {
    "application/vnd.databricks.v1+cell": {
     "cellMetadata": {
      "byteLimit": 2048000,
      "rowLimit": 10000
     },
     "inputWidgets": {},
     "nuid": "da31d278-e017-4e22-aac6-6452444adf45",
     "showTitle": false,
     "tableResultSettingsMap": {},
     "title": ""
    }
   },
   "source": [
    "#Shipments\n"
   ]
  },
  {
   "cell_type": "code",
   "execution_count": 0,
   "metadata": {
    "application/vnd.databricks.v1+cell": {
     "cellMetadata": {
      "byteLimit": 2048000,
      "rowLimit": 10000
     },
     "inputWidgets": {},
     "nuid": "27d012c4-1bad-4faa-8029-8d3ae2c741ae",
     "showTitle": false,
     "tableResultSettingsMap": {},
     "title": ""
    }
   },
   "outputs": [
    {
     "output_type": "display_data",
     "data": {
      "text/html": [
       "<style scoped>\n",
       "  .table-result-container {\n",
       "    max-height: 300px;\n",
       "    overflow: auto;\n",
       "  }\n",
       "  table, th, td {\n",
       "    border: 1px solid black;\n",
       "    border-collapse: collapse;\n",
       "  }\n",
       "  th, td {\n",
       "    padding: 5px;\n",
       "  }\n",
       "  th {\n",
       "    text-align: left;\n",
       "  }\n",
       "</style><div class='table-result-container'><table class='table-result'><thead style='background-color: white'><tr><th>shipment_id</th><th>order_id</th><th>courier</th><th>dispatched_at</th><th>delivered_at</th><th>status</th><th>tracking_url</th><th>event_date</th><th>status_rank</th><th>delivery_delay_hours</th><th>is_delivered</th><th>is_canceled</th></tr></thead><tbody><tr><td>SHIP_ORD001_3</td><td>ORD001</td><td>BlueDart</td><td>2025-10-09T08:00:00.000Z</td><td>2025-10-10T12:30:00.000Z</td><td>DELIVERED</td><td>https://track.bluedart/ORD001</td><td>2025-10-09</td><td>3</td><td>28.5</td><td>true</td><td>false</td></tr><tr><td>SHIP_ORD002_3</td><td>ORD002</td><td>Delhivery</td><td>2025-10-10T09:00:00.000Z</td><td>2025-10-11T15:20:00.000Z</td><td>DELIVERED</td><td>https://track.delhivery/ORD002</td><td>2025-10-10</td><td>3</td><td>30.33</td><td>true</td><td>false</td></tr><tr><td>SHIP_ORD003_3</td><td>ORD003</td><td>DTDC</td><td>2025-10-11T07:30:00.000Z</td><td>2025-10-12T18:00:00.000Z</td><td>DELIVERED</td><td>https://track.dtdc/ORD003</td><td>2025-10-11</td><td>3</td><td>34.5</td><td>true</td><td>false</td></tr><tr><td>SHIP_ORD004_3</td><td>ORD004</td><td>EcomExpress</td><td>2025-10-13T10:15:00.000Z</td><td>2025-10-14T13:20:00.000Z</td><td>DELIVERED</td><td>https://track.ecom/ORD004</td><td>2025-10-13</td><td>3</td><td>27.08</td><td>true</td><td>false</td></tr><tr><td>SHIP_ORD005_3</td><td>ORD005</td><td>BlueDart</td><td>2025-10-13T09:00:00.000Z</td><td>2025-10-14T17:45:00.000Z</td><td>DELIVERED</td><td>https://track.bluedart/ORD005</td><td>2025-10-13</td><td>3</td><td>32.75</td><td>true</td><td>false</td></tr><tr><td>SHIP_ORD006_3</td><td>ORD006</td><td>Delhivery</td><td>2025-10-16T18:00:00.000Z</td><td>2025-10-18T11:30:00.000Z</td><td>DELIVERED</td><td>https://track.delhivery/ORD006</td><td>2025-10-16</td><td>3</td><td>41.5</td><td>true</td><td>false</td></tr><tr><td>SHIP_ORD007_3</td><td>ORD007</td><td>DTDC</td><td>2025-10-17T16:00:00.000Z</td><td>2025-10-18T09:00:00.000Z</td><td>DELIVERED</td><td>https://track.dtdc/ORD007</td><td>2025-10-17</td><td>3</td><td>17.0</td><td>true</td><td>false</td></tr><tr><td>SHIP_ORD008_3</td><td>ORD008</td><td>EcomExpress</td><td>2025-10-16T07:30:00.000Z</td><td>2025-10-20T10:20:00.000Z</td><td>DELIVERED</td><td>https://track.ecom/ORD008</td><td>2025-10-16</td><td>3</td><td>98.83</td><td>true</td><td>false</td></tr><tr><td>SHIP_ORD009_3</td><td>ORD009</td><td>BlueDart</td><td>2025-10-17T09:30:00.000Z</td><td>2025-10-19T12:00:00.000Z</td><td>DELIVERED</td><td>https://track.bluedart/ORD009</td><td>2025-10-17</td><td>3</td><td>50.5</td><td>true</td><td>false</td></tr><tr><td>SHIP_ORD010_3</td><td>ORD010</td><td>Delhivery</td><td>2025-10-18T08:45:00.000Z</td><td>2025-10-20T18:10:00.000Z</td><td>DELIVERED</td><td>https://track.delhivery/ORD010</td><td>2025-10-18</td><td>3</td><td>57.42</td><td>true</td><td>false</td></tr><tr><td>SHIP_ORD011_3</td><td>ORD011</td><td>DTDC</td><td>2025-10-19T07:10:00.000Z</td><td>2025-10-19T11:00:00.000Z</td><td>DELIVERED</td><td>https://track.dtdc/ORD011</td><td>2025-10-19</td><td>3</td><td>3.83</td><td>true</td><td>false</td></tr><tr><td>SHIP_ORD012_3</td><td>ORD012</td><td>BlueDart</td><td>2025-10-20T09:00:00.000Z</td><td>2025-10-21T10:30:00.000Z</td><td>DELIVERED</td><td>https://track.bluedart/ORD012</td><td>2025-10-20</td><td>3</td><td>25.5</td><td>true</td><td>false</td></tr><tr><td>SHIP_ORD013_3</td><td>ORD013</td><td>EcomExpress</td><td>2025-10-24T15:00:00.000Z</td><td>2025-10-25T09:30:00.000Z</td><td>DELIVERED</td><td>https://track.ecom/ORD013</td><td>2025-10-24</td><td>3</td><td>18.5</td><td>true</td><td>false</td></tr><tr><td>SHIP_ORD014_3</td><td>ORD014</td><td>Delhivery</td><td>2025-10-26T08:00:00.000Z</td><td>null</td><td>CANCELED</td><td>https://track.delhivery/ORD014</td><td>2025-10-26</td><td>3</td><td>null</td><td>false</td><td>true</td></tr><tr><td>SHIP_ORD015_3</td><td>ORD015</td><td>DTDC</td><td>2025-10-31T09:00:00.000Z</td><td>null</td><td>CANCELED</td><td>https://track.dtdc/ORD015</td><td>2025-10-31</td><td>3</td><td>null</td><td>false</td><td>true</td></tr><tr><td>SHIP_ORD016_1</td><td>ORD016</td><td>BlueDart</td><td>2025-10-13T12:00:00.000Z</td><td>null</td><td>DISPATCHED</td><td>https://track.bluedart/ORD016</td><td>2025-10-13</td><td>2</td><td>null</td><td>false</td><td>false</td></tr><tr><td>SHIP_ORD017_1</td><td>ORD017</td><td>BlueDart</td><td>2025-10-12T10:10:00.000Z</td><td>2025-10-13T18:00:00.000Z</td><td>DELIVERED</td><td>https://track.bluedart/ORD017</td><td>2025-10-12</td><td>3</td><td>31.83</td><td>true</td><td>false</td></tr><tr><td>SHIP_ORD018_1</td><td>ORD018</td><td>Delhivery</td><td>2025-10-13T09:00:00.000Z</td><td>2025-10-13T12:00:00.000Z</td><td>DELIVERED</td><td>https://track.delhivery/ORD018</td><td>2025-10-13</td><td>3</td><td>3.0</td><td>true</td><td>false</td></tr><tr><td>SHIP_ORD019_1</td><td>ORD019</td><td>Delhivery</td><td>null</td><td>null</td><td>CREATED</td><td>https://track.delhivery/ORD019</td><td>null</td><td>1</td><td>null</td><td>false</td><td>false</td></tr><tr><td>SHIP_ORD020_1</td><td>ORD020</td><td>EcomExpress</td><td>2025-10-14T09:00:00.000Z</td><td>2025-10-18T09:00:00.000Z</td><td>DELIVERED</td><td>https://track.ecomexpress/ORD020</td><td>2025-10-14</td><td>3</td><td>96.0</td><td>true</td><td>false</td></tr><tr><td>SHIP_ORD021_1</td><td>ORD021</td><td>XpressBees</td><td>2025-10-14T12:00:00.000Z</td><td>null</td><td>DISPATCHED</td><td>https://track.xpressbees/ORD021</td><td>2025-10-14</td><td>2</td><td>null</td><td>false</td><td>false</td></tr><tr><td>SHIP_ORD022_1</td><td>ORD022</td><td>XpressBees</td><td>2025-10-14T12:10:00.000Z</td><td>null</td><td>DISPATCHED</td><td>https://track.xpressbees/ORD022</td><td>2025-10-14</td><td>2</td><td>null</td><td>false</td><td>false</td></tr></tbody></table></div>"
      ]
     },
     "metadata": {
      "application/vnd.databricks.v1+output": {
       "addedWidgets": {},
       "aggData": [],
       "aggError": "",
       "aggOverflow": false,
       "aggSchema": [],
       "aggSeriesLimitReached": false,
       "aggType": "",
       "arguments": {},
       "columnCustomDisplayInfos": {},
       "data": [
        [
         "SHIP_ORD001_3",
         "ORD001",
         "BlueDart",
         "2025-10-09T08:00:00.000Z",
         "2025-10-10T12:30:00.000Z",
         "DELIVERED",
         "https://track.bluedart/ORD001",
         "2025-10-09",
         3,
         28.5,
         true,
         false
        ],
        [
         "SHIP_ORD002_3",
         "ORD002",
         "Delhivery",
         "2025-10-10T09:00:00.000Z",
         "2025-10-11T15:20:00.000Z",
         "DELIVERED",
         "https://track.delhivery/ORD002",
         "2025-10-10",
         3,
         30.33,
         true,
         false
        ],
        [
         "SHIP_ORD003_3",
         "ORD003",
         "DTDC",
         "2025-10-11T07:30:00.000Z",
         "2025-10-12T18:00:00.000Z",
         "DELIVERED",
         "https://track.dtdc/ORD003",
         "2025-10-11",
         3,
         34.5,
         true,
         false
        ],
        [
         "SHIP_ORD004_3",
         "ORD004",
         "EcomExpress",
         "2025-10-13T10:15:00.000Z",
         "2025-10-14T13:20:00.000Z",
         "DELIVERED",
         "https://track.ecom/ORD004",
         "2025-10-13",
         3,
         27.08,
         true,
         false
        ],
        [
         "SHIP_ORD005_3",
         "ORD005",
         "BlueDart",
         "2025-10-13T09:00:00.000Z",
         "2025-10-14T17:45:00.000Z",
         "DELIVERED",
         "https://track.bluedart/ORD005",
         "2025-10-13",
         3,
         32.75,
         true,
         false
        ],
        [
         "SHIP_ORD006_3",
         "ORD006",
         "Delhivery",
         "2025-10-16T18:00:00.000Z",
         "2025-10-18T11:30:00.000Z",
         "DELIVERED",
         "https://track.delhivery/ORD006",
         "2025-10-16",
         3,
         41.5,
         true,
         false
        ],
        [
         "SHIP_ORD007_3",
         "ORD007",
         "DTDC",
         "2025-10-17T16:00:00.000Z",
         "2025-10-18T09:00:00.000Z",
         "DELIVERED",
         "https://track.dtdc/ORD007",
         "2025-10-17",
         3,
         17.0,
         true,
         false
        ],
        [
         "SHIP_ORD008_3",
         "ORD008",
         "EcomExpress",
         "2025-10-16T07:30:00.000Z",
         "2025-10-20T10:20:00.000Z",
         "DELIVERED",
         "https://track.ecom/ORD008",
         "2025-10-16",
         3,
         98.83,
         true,
         false
        ],
        [
         "SHIP_ORD009_3",
         "ORD009",
         "BlueDart",
         "2025-10-17T09:30:00.000Z",
         "2025-10-19T12:00:00.000Z",
         "DELIVERED",
         "https://track.bluedart/ORD009",
         "2025-10-17",
         3,
         50.5,
         true,
         false
        ],
        [
         "SHIP_ORD010_3",
         "ORD010",
         "Delhivery",
         "2025-10-18T08:45:00.000Z",
         "2025-10-20T18:10:00.000Z",
         "DELIVERED",
         "https://track.delhivery/ORD010",
         "2025-10-18",
         3,
         57.42,
         true,
         false
        ],
        [
         "SHIP_ORD011_3",
         "ORD011",
         "DTDC",
         "2025-10-19T07:10:00.000Z",
         "2025-10-19T11:00:00.000Z",
         "DELIVERED",
         "https://track.dtdc/ORD011",
         "2025-10-19",
         3,
         3.83,
         true,
         false
        ],
        [
         "SHIP_ORD012_3",
         "ORD012",
         "BlueDart",
         "2025-10-20T09:00:00.000Z",
         "2025-10-21T10:30:00.000Z",
         "DELIVERED",
         "https://track.bluedart/ORD012",
         "2025-10-20",
         3,
         25.5,
         true,
         false
        ],
        [
         "SHIP_ORD013_3",
         "ORD013",
         "EcomExpress",
         "2025-10-24T15:00:00.000Z",
         "2025-10-25T09:30:00.000Z",
         "DELIVERED",
         "https://track.ecom/ORD013",
         "2025-10-24",
         3,
         18.5,
         true,
         false
        ],
        [
         "SHIP_ORD014_3",
         "ORD014",
         "Delhivery",
         "2025-10-26T08:00:00.000Z",
         null,
         "CANCELED",
         "https://track.delhivery/ORD014",
         "2025-10-26",
         3,
         null,
         false,
         true
        ],
        [
         "SHIP_ORD015_3",
         "ORD015",
         "DTDC",
         "2025-10-31T09:00:00.000Z",
         null,
         "CANCELED",
         "https://track.dtdc/ORD015",
         "2025-10-31",
         3,
         null,
         false,
         true
        ],
        [
         "SHIP_ORD016_1",
         "ORD016",
         "BlueDart",
         "2025-10-13T12:00:00.000Z",
         null,
         "DISPATCHED",
         "https://track.bluedart/ORD016",
         "2025-10-13",
         2,
         null,
         false,
         false
        ],
        [
         "SHIP_ORD017_1",
         "ORD017",
         "BlueDart",
         "2025-10-12T10:10:00.000Z",
         "2025-10-13T18:00:00.000Z",
         "DELIVERED",
         "https://track.bluedart/ORD017",
         "2025-10-12",
         3,
         31.83,
         true,
         false
        ],
        [
         "SHIP_ORD018_1",
         "ORD018",
         "Delhivery",
         "2025-10-13T09:00:00.000Z",
         "2025-10-13T12:00:00.000Z",
         "DELIVERED",
         "https://track.delhivery/ORD018",
         "2025-10-13",
         3,
         3.0,
         true,
         false
        ],
        [
         "SHIP_ORD019_1",
         "ORD019",
         "Delhivery",
         null,
         null,
         "CREATED",
         "https://track.delhivery/ORD019",
         null,
         1,
         null,
         false,
         false
        ],
        [
         "SHIP_ORD020_1",
         "ORD020",
         "EcomExpress",
         "2025-10-14T09:00:00.000Z",
         "2025-10-18T09:00:00.000Z",
         "DELIVERED",
         "https://track.ecomexpress/ORD020",
         "2025-10-14",
         3,
         96.0,
         true,
         false
        ],
        [
         "SHIP_ORD021_1",
         "ORD021",
         "XpressBees",
         "2025-10-14T12:00:00.000Z",
         null,
         "DISPATCHED",
         "https://track.xpressbees/ORD021",
         "2025-10-14",
         2,
         null,
         false,
         false
        ],
        [
         "SHIP_ORD022_1",
         "ORD022",
         "XpressBees",
         "2025-10-14T12:10:00.000Z",
         null,
         "DISPATCHED",
         "https://track.xpressbees/ORD022",
         "2025-10-14",
         2,
         null,
         false,
         false
        ]
       ],
       "datasetInfos": [],
       "dbfsResultPath": null,
       "isJsonSchema": true,
       "metadata": {},
       "overflow": false,
       "plotOptions": {
        "customPlotOptions": {},
        "displayType": "table",
        "pivotAggregation": null,
        "pivotColumns": null,
        "xColumns": null,
        "yColumns": null
       },
       "removedWidgets": [],
       "schema": [
        {
         "metadata": "{}",
         "name": "shipment_id",
         "type": "\"string\""
        },
        {
         "metadata": "{}",
         "name": "order_id",
         "type": "\"string\""
        },
        {
         "metadata": "{}",
         "name": "courier",
         "type": "\"string\""
        },
        {
         "metadata": "{}",
         "name": "dispatched_at",
         "type": "\"timestamp\""
        },
        {
         "metadata": "{}",
         "name": "delivered_at",
         "type": "\"timestamp\""
        },
        {
         "metadata": "{}",
         "name": "status",
         "type": "\"string\""
        },
        {
         "metadata": "{}",
         "name": "tracking_url",
         "type": "\"string\""
        },
        {
         "metadata": "{}",
         "name": "event_date",
         "type": "\"date\""
        },
        {
         "metadata": "{}",
         "name": "status_rank",
         "type": "\"integer\""
        },
        {
         "metadata": "{}",
         "name": "delivery_delay_hours",
         "type": "\"double\""
        },
        {
         "metadata": "{}",
         "name": "is_delivered",
         "type": "\"boolean\""
        },
        {
         "metadata": "{}",
         "name": "is_canceled",
         "type": "\"boolean\""
        }
       ],
       "type": "table"
      }
     },
     "output_type": "display_data"
    }
   ],
   "source": [
    "# Databricks notebook: silver_shipments\n",
    "from pyspark.sql import functions as F\n",
    "from pyspark.sql.window import Window\n",
    "from delta.tables import DeltaTable\n",
    "\n",
    "# ----------------------------------------\n",
    "# 1️⃣ Read Bronze Shipments\n",
    "# ----------------------------------------\n",
    "bronze_shipments = spark.read.table(\"`e-commerce-project`.bronze.shipments\")\n",
    "\n",
    "# ----------------------------------------\n",
    "# 2️⃣ Assign priority based on status\n",
    "# ----------------------------------------\n",
    "priority_expr = (\n",
    "    F.when(F.upper(F.col(\"status\")) == \"DELIVERED\", 3)\n",
    "     .when(F.upper(F.col(\"status\")) == \"CANCELED\", 3)\n",
    "     .when(F.upper(F.col(\"status\")) == \"DISPATCHED\", 2)\n",
    "     .otherwise(1)\n",
    ")\n",
    "\n",
    "shipments_with_priority = (\n",
    "    bronze_shipments\n",
    "    .withColumn(\"status\", F.upper(F.trim(F.col(\"status\"))))\n",
    "    .withColumn(\"status_rank\", priority_expr)\n",
    ")\n",
    "\n",
    "# ----------------------------------------\n",
    "# 3️⃣ Deduplicate: Keep highest priority per shipment_id\n",
    "# ----------------------------------------\n",
    "window_spec = Window.partitionBy(\"order_id\").orderBy(F.col(\"status_rank\").desc())\n",
    "shipments_dedup = (\n",
    "    shipments_with_priority\n",
    "    .withColumn(\"rownum\", F.row_number().over(window_spec))\n",
    "    .filter(F.col(\"rownum\") == 1)\n",
    "    .drop(\"rownum\")\n",
    ")\n",
    "\n",
    "# ----------------------------------------\n",
    "# 4️⃣ Compute delivery delay (if delivered)\n",
    "# ----------------------------------------\n",
    "shipments_transformed = (\n",
    "    shipments_dedup\n",
    "    .withColumn(\"dispatched_at\", F.to_timestamp(\"dispatched_at\"))\n",
    "    .withColumn(\"delivered_at\", F.to_timestamp(\"delivered_at\"))\n",
    "    .withColumn(\n",
    "        \"delivery_delay_hours\",\n",
    "        F.when(\n",
    "            F.col(\"delivered_at\").isNotNull(),\n",
    "            F.round((F.col(\"delivered_at\").cast(\"long\") - F.col(\"dispatched_at\").cast(\"long\")) / 3600, 2)\n",
    "        ))\n",
    "    .withColumn(\"is_delivered\",F.when(F.col(\"status\") == \"DELIVERED\",True).otherwise(False)) \n",
    "    .withColumn(\"is_canceled\",F.when(F.col(\"status\") == \"CANCELED\",True).otherwise(False))\n",
    ")\n",
    "\n",
    "display(shipments_transformed)\n",
    "\n"
   ]
  },
  {
   "cell_type": "markdown",
   "metadata": {
    "application/vnd.databricks.v1+cell": {
     "cellMetadata": {
      "byteLimit": 2048000,
      "rowLimit": 10000
     },
     "inputWidgets": {},
     "nuid": "6e339b36-5aad-4c7e-8cc9-8571da2df5c3",
     "showTitle": false,
     "tableResultSettingsMap": {},
     "title": ""
    }
   },
   "source": [
    "## Upserting-shipments\n",
    " "
   ]
  },
  {
   "cell_type": "code",
   "execution_count": 0,
   "metadata": {
    "application/vnd.databricks.v1+cell": {
     "cellMetadata": {
      "byteLimit": 2048000,
      "rowLimit": 10000
     },
     "inputWidgets": {},
     "nuid": "8f9143aa-28d9-4bd6-ba6c-def458ee2b49",
     "showTitle": false,
     "tableResultSettingsMap": {},
     "title": ""
    }
   },
   "outputs": [
    {
     "output_type": "stream",
     "name": "stdout",
     "output_type": "stream",
     "text": [
      "✅ Created new Delta table: `e-commerce-project`.silver.shipments\n"
     ]
    }
   ],
   "source": [
    "# transformer.create_or_upsert(shipments_transformed,'shipment_id',\"shipments\",\"status_rank\")\n",
    "transformer.create_or_upsert(\n",
    "    spark,\n",
    "    shipments_transformed,\n",
    "    key_cols=[\"order_id\"],\n",
    "    table=\"silver.shipments\",\n",
    "    cdc=\"status_rank\"\n",
    ")"
   ]
  },
  {
   "cell_type": "code",
   "execution_count": 0,
   "metadata": {
    "application/vnd.databricks.v1+cell": {
     "cellMetadata": {
      "byteLimit": 2048000,
      "implicitDf": true,
      "rowLimit": 10000
     },
     "inputWidgets": {},
     "nuid": "bb4af393-a299-45d8-9c8b-2f565eb48320",
     "showTitle": false,
     "tableResultSettingsMap": {},
     "title": ""
    }
   },
   "outputs": [
    {
     "output_type": "display_data",
     "data": {
      "text/html": [
       "<style scoped>\n",
       "  .table-result-container {\n",
       "    max-height: 300px;\n",
       "    overflow: auto;\n",
       "  }\n",
       "  table, th, td {\n",
       "    border: 1px solid black;\n",
       "    border-collapse: collapse;\n",
       "  }\n",
       "  th, td {\n",
       "    padding: 5px;\n",
       "  }\n",
       "  th {\n",
       "    text-align: left;\n",
       "  }\n",
       "</style><div class='table-result-container'><table class='table-result'><thead style='background-color: white'><tr><th>shipment_id</th><th>order_id</th><th>courier</th><th>dispatched_at</th><th>delivered_at</th><th>status</th><th>tracking_url</th><th>event_date</th><th>status_rank</th><th>delivery_delay_hours</th><th>is_delivered</th><th>is_canceled</th></tr></thead><tbody><tr><td>SHIP_ORD001_3</td><td>ORD001</td><td>BlueDart</td><td>2025-10-09T08:00:00.000Z</td><td>2025-10-10T12:30:00.000Z</td><td>DELIVERED</td><td>https://track.bluedart/ORD001</td><td>2025-10-09</td><td>3</td><td>28.5</td><td>true</td><td>false</td></tr><tr><td>SHIP_ORD002_3</td><td>ORD002</td><td>Delhivery</td><td>2025-10-10T09:00:00.000Z</td><td>2025-10-11T15:20:00.000Z</td><td>DELIVERED</td><td>https://track.delhivery/ORD002</td><td>2025-10-10</td><td>3</td><td>30.33</td><td>true</td><td>false</td></tr><tr><td>SHIP_ORD003_3</td><td>ORD003</td><td>DTDC</td><td>2025-10-11T07:30:00.000Z</td><td>2025-10-12T18:00:00.000Z</td><td>DELIVERED</td><td>https://track.dtdc/ORD003</td><td>2025-10-11</td><td>3</td><td>34.5</td><td>true</td><td>false</td></tr><tr><td>SHIP_ORD004_3</td><td>ORD004</td><td>EcomExpress</td><td>2025-10-13T10:15:00.000Z</td><td>2025-10-14T13:20:00.000Z</td><td>DELIVERED</td><td>https://track.ecom/ORD004</td><td>2025-10-13</td><td>3</td><td>27.08</td><td>true</td><td>false</td></tr><tr><td>SHIP_ORD005_3</td><td>ORD005</td><td>BlueDart</td><td>2025-10-13T09:00:00.000Z</td><td>2025-10-14T17:45:00.000Z</td><td>DELIVERED</td><td>https://track.bluedart/ORD005</td><td>2025-10-13</td><td>3</td><td>32.75</td><td>true</td><td>false</td></tr><tr><td>SHIP_ORD006_3</td><td>ORD006</td><td>Delhivery</td><td>2025-10-16T18:00:00.000Z</td><td>2025-10-18T11:30:00.000Z</td><td>DELIVERED</td><td>https://track.delhivery/ORD006</td><td>2025-10-16</td><td>3</td><td>41.5</td><td>true</td><td>false</td></tr><tr><td>SHIP_ORD007_3</td><td>ORD007</td><td>DTDC</td><td>2025-10-17T16:00:00.000Z</td><td>2025-10-18T09:00:00.000Z</td><td>DELIVERED</td><td>https://track.dtdc/ORD007</td><td>2025-10-17</td><td>3</td><td>17.0</td><td>true</td><td>false</td></tr><tr><td>SHIP_ORD008_3</td><td>ORD008</td><td>EcomExpress</td><td>2025-10-16T07:30:00.000Z</td><td>2025-10-20T10:20:00.000Z</td><td>DELIVERED</td><td>https://track.ecom/ORD008</td><td>2025-10-16</td><td>3</td><td>98.83</td><td>true</td><td>false</td></tr><tr><td>SHIP_ORD009_3</td><td>ORD009</td><td>BlueDart</td><td>2025-10-17T09:30:00.000Z</td><td>2025-10-19T12:00:00.000Z</td><td>DELIVERED</td><td>https://track.bluedart/ORD009</td><td>2025-10-17</td><td>3</td><td>50.5</td><td>true</td><td>false</td></tr><tr><td>SHIP_ORD010_3</td><td>ORD010</td><td>Delhivery</td><td>2025-10-18T08:45:00.000Z</td><td>2025-10-20T18:10:00.000Z</td><td>DELIVERED</td><td>https://track.delhivery/ORD010</td><td>2025-10-18</td><td>3</td><td>57.42</td><td>true</td><td>false</td></tr><tr><td>SHIP_ORD011_3</td><td>ORD011</td><td>DTDC</td><td>2025-10-19T07:10:00.000Z</td><td>2025-10-19T11:00:00.000Z</td><td>DELIVERED</td><td>https://track.dtdc/ORD011</td><td>2025-10-19</td><td>3</td><td>3.83</td><td>true</td><td>false</td></tr><tr><td>SHIP_ORD012_3</td><td>ORD012</td><td>BlueDart</td><td>2025-10-20T09:00:00.000Z</td><td>2025-10-21T10:30:00.000Z</td><td>DELIVERED</td><td>https://track.bluedart/ORD012</td><td>2025-10-20</td><td>3</td><td>25.5</td><td>true</td><td>false</td></tr><tr><td>SHIP_ORD013_3</td><td>ORD013</td><td>EcomExpress</td><td>2025-10-24T15:00:00.000Z</td><td>2025-10-25T09:30:00.000Z</td><td>DELIVERED</td><td>https://track.ecom/ORD013</td><td>2025-10-24</td><td>3</td><td>18.5</td><td>true</td><td>false</td></tr><tr><td>SHIP_ORD014_3</td><td>ORD014</td><td>Delhivery</td><td>2025-10-26T08:00:00.000Z</td><td>null</td><td>CANCELED</td><td>https://track.delhivery/ORD014</td><td>2025-10-26</td><td>3</td><td>null</td><td>false</td><td>true</td></tr><tr><td>SHIP_ORD015_3</td><td>ORD015</td><td>DTDC</td><td>2025-10-31T09:00:00.000Z</td><td>null</td><td>CANCELED</td><td>https://track.dtdc/ORD015</td><td>2025-10-31</td><td>3</td><td>null</td><td>false</td><td>true</td></tr><tr><td>SHIP_ORD016_1</td><td>ORD016</td><td>BlueDart</td><td>2025-10-13T12:00:00.000Z</td><td>null</td><td>DISPATCHED</td><td>https://track.bluedart/ORD016</td><td>2025-10-13</td><td>2</td><td>null</td><td>false</td><td>false</td></tr><tr><td>SHIP_ORD017_1</td><td>ORD017</td><td>BlueDart</td><td>2025-10-12T10:10:00.000Z</td><td>2025-10-13T18:00:00.000Z</td><td>DELIVERED</td><td>https://track.bluedart/ORD017</td><td>2025-10-12</td><td>3</td><td>31.83</td><td>true</td><td>false</td></tr><tr><td>SHIP_ORD018_1</td><td>ORD018</td><td>Delhivery</td><td>2025-10-13T09:00:00.000Z</td><td>2025-10-13T12:00:00.000Z</td><td>DELIVERED</td><td>https://track.delhivery/ORD018</td><td>2025-10-13</td><td>3</td><td>3.0</td><td>true</td><td>false</td></tr><tr><td>SHIP_ORD019_1</td><td>ORD019</td><td>Delhivery</td><td>null</td><td>null</td><td>CREATED</td><td>https://track.delhivery/ORD019</td><td>null</td><td>1</td><td>null</td><td>false</td><td>false</td></tr><tr><td>SHIP_ORD020_1</td><td>ORD020</td><td>EcomExpress</td><td>2025-10-14T09:00:00.000Z</td><td>2025-10-18T09:00:00.000Z</td><td>DELIVERED</td><td>https://track.ecomexpress/ORD020</td><td>2025-10-14</td><td>3</td><td>96.0</td><td>true</td><td>false</td></tr><tr><td>SHIP_ORD021_1</td><td>ORD021</td><td>XpressBees</td><td>2025-10-14T12:00:00.000Z</td><td>null</td><td>DISPATCHED</td><td>https://track.xpressbees/ORD021</td><td>2025-10-14</td><td>2</td><td>null</td><td>false</td><td>false</td></tr><tr><td>SHIP_ORD022_1</td><td>ORD022</td><td>XpressBees</td><td>2025-10-14T12:10:00.000Z</td><td>null</td><td>DISPATCHED</td><td>https://track.xpressbees/ORD022</td><td>2025-10-14</td><td>2</td><td>null</td><td>false</td><td>false</td></tr></tbody></table></div>"
      ]
     },
     "metadata": {
      "application/vnd.databricks.v1+output": {
       "addedWidgets": {},
       "aggData": [],
       "aggError": "",
       "aggOverflow": false,
       "aggSchema": [],
       "aggSeriesLimitReached": false,
       "aggType": "",
       "arguments": {},
       "columnCustomDisplayInfos": {},
       "data": [
        [
         "SHIP_ORD001_3",
         "ORD001",
         "BlueDart",
         "2025-10-09T08:00:00.000Z",
         "2025-10-10T12:30:00.000Z",
         "DELIVERED",
         "https://track.bluedart/ORD001",
         "2025-10-09",
         3,
         28.5,
         true,
         false
        ],
        [
         "SHIP_ORD002_3",
         "ORD002",
         "Delhivery",
         "2025-10-10T09:00:00.000Z",
         "2025-10-11T15:20:00.000Z",
         "DELIVERED",
         "https://track.delhivery/ORD002",
         "2025-10-10",
         3,
         30.33,
         true,
         false
        ],
        [
         "SHIP_ORD003_3",
         "ORD003",
         "DTDC",
         "2025-10-11T07:30:00.000Z",
         "2025-10-12T18:00:00.000Z",
         "DELIVERED",
         "https://track.dtdc/ORD003",
         "2025-10-11",
         3,
         34.5,
         true,
         false
        ],
        [
         "SHIP_ORD004_3",
         "ORD004",
         "EcomExpress",
         "2025-10-13T10:15:00.000Z",
         "2025-10-14T13:20:00.000Z",
         "DELIVERED",
         "https://track.ecom/ORD004",
         "2025-10-13",
         3,
         27.08,
         true,
         false
        ],
        [
         "SHIP_ORD005_3",
         "ORD005",
         "BlueDart",
         "2025-10-13T09:00:00.000Z",
         "2025-10-14T17:45:00.000Z",
         "DELIVERED",
         "https://track.bluedart/ORD005",
         "2025-10-13",
         3,
         32.75,
         true,
         false
        ],
        [
         "SHIP_ORD006_3",
         "ORD006",
         "Delhivery",
         "2025-10-16T18:00:00.000Z",
         "2025-10-18T11:30:00.000Z",
         "DELIVERED",
         "https://track.delhivery/ORD006",
         "2025-10-16",
         3,
         41.5,
         true,
         false
        ],
        [
         "SHIP_ORD007_3",
         "ORD007",
         "DTDC",
         "2025-10-17T16:00:00.000Z",
         "2025-10-18T09:00:00.000Z",
         "DELIVERED",
         "https://track.dtdc/ORD007",
         "2025-10-17",
         3,
         17.0,
         true,
         false
        ],
        [
         "SHIP_ORD008_3",
         "ORD008",
         "EcomExpress",
         "2025-10-16T07:30:00.000Z",
         "2025-10-20T10:20:00.000Z",
         "DELIVERED",
         "https://track.ecom/ORD008",
         "2025-10-16",
         3,
         98.83,
         true,
         false
        ],
        [
         "SHIP_ORD009_3",
         "ORD009",
         "BlueDart",
         "2025-10-17T09:30:00.000Z",
         "2025-10-19T12:00:00.000Z",
         "DELIVERED",
         "https://track.bluedart/ORD009",
         "2025-10-17",
         3,
         50.5,
         true,
         false
        ],
        [
         "SHIP_ORD010_3",
         "ORD010",
         "Delhivery",
         "2025-10-18T08:45:00.000Z",
         "2025-10-20T18:10:00.000Z",
         "DELIVERED",
         "https://track.delhivery/ORD010",
         "2025-10-18",
         3,
         57.42,
         true,
         false
        ],
        [
         "SHIP_ORD011_3",
         "ORD011",
         "DTDC",
         "2025-10-19T07:10:00.000Z",
         "2025-10-19T11:00:00.000Z",
         "DELIVERED",
         "https://track.dtdc/ORD011",
         "2025-10-19",
         3,
         3.83,
         true,
         false
        ],
        [
         "SHIP_ORD012_3",
         "ORD012",
         "BlueDart",
         "2025-10-20T09:00:00.000Z",
         "2025-10-21T10:30:00.000Z",
         "DELIVERED",
         "https://track.bluedart/ORD012",
         "2025-10-20",
         3,
         25.5,
         true,
         false
        ],
        [
         "SHIP_ORD013_3",
         "ORD013",
         "EcomExpress",
         "2025-10-24T15:00:00.000Z",
         "2025-10-25T09:30:00.000Z",
         "DELIVERED",
         "https://track.ecom/ORD013",
         "2025-10-24",
         3,
         18.5,
         true,
         false
        ],
        [
         "SHIP_ORD014_3",
         "ORD014",
         "Delhivery",
         "2025-10-26T08:00:00.000Z",
         null,
         "CANCELED",
         "https://track.delhivery/ORD014",
         "2025-10-26",
         3,
         null,
         false,
         true
        ],
        [
         "SHIP_ORD015_3",
         "ORD015",
         "DTDC",
         "2025-10-31T09:00:00.000Z",
         null,
         "CANCELED",
         "https://track.dtdc/ORD015",
         "2025-10-31",
         3,
         null,
         false,
         true
        ],
        [
         "SHIP_ORD016_1",
         "ORD016",
         "BlueDart",
         "2025-10-13T12:00:00.000Z",
         null,
         "DISPATCHED",
         "https://track.bluedart/ORD016",
         "2025-10-13",
         2,
         null,
         false,
         false
        ],
        [
         "SHIP_ORD017_1",
         "ORD017",
         "BlueDart",
         "2025-10-12T10:10:00.000Z",
         "2025-10-13T18:00:00.000Z",
         "DELIVERED",
         "https://track.bluedart/ORD017",
         "2025-10-12",
         3,
         31.83,
         true,
         false
        ],
        [
         "SHIP_ORD018_1",
         "ORD018",
         "Delhivery",
         "2025-10-13T09:00:00.000Z",
         "2025-10-13T12:00:00.000Z",
         "DELIVERED",
         "https://track.delhivery/ORD018",
         "2025-10-13",
         3,
         3.0,
         true,
         false
        ],
        [
         "SHIP_ORD019_1",
         "ORD019",
         "Delhivery",
         null,
         null,
         "CREATED",
         "https://track.delhivery/ORD019",
         null,
         1,
         null,
         false,
         false
        ],
        [
         "SHIP_ORD020_1",
         "ORD020",
         "EcomExpress",
         "2025-10-14T09:00:00.000Z",
         "2025-10-18T09:00:00.000Z",
         "DELIVERED",
         "https://track.ecomexpress/ORD020",
         "2025-10-14",
         3,
         96.0,
         true,
         false
        ],
        [
         "SHIP_ORD021_1",
         "ORD021",
         "XpressBees",
         "2025-10-14T12:00:00.000Z",
         null,
         "DISPATCHED",
         "https://track.xpressbees/ORD021",
         "2025-10-14",
         2,
         null,
         false,
         false
        ],
        [
         "SHIP_ORD022_1",
         "ORD022",
         "XpressBees",
         "2025-10-14T12:10:00.000Z",
         null,
         "DISPATCHED",
         "https://track.xpressbees/ORD022",
         "2025-10-14",
         2,
         null,
         false,
         false
        ]
       ],
       "datasetInfos": [
        {
         "name": "_sqldf",
         "schema": {
          "fields": [
           {
            "metadata": {},
            "name": "shipment_id",
            "nullable": true,
            "type": "string"
           },
           {
            "metadata": {},
            "name": "order_id",
            "nullable": true,
            "type": "string"
           },
           {
            "metadata": {},
            "name": "courier",
            "nullable": true,
            "type": "string"
           },
           {
            "metadata": {},
            "name": "dispatched_at",
            "nullable": true,
            "type": "timestamp"
           },
           {
            "metadata": {},
            "name": "delivered_at",
            "nullable": true,
            "type": "timestamp"
           },
           {
            "metadata": {},
            "name": "status",
            "nullable": true,
            "type": "string"
           },
           {
            "metadata": {},
            "name": "tracking_url",
            "nullable": true,
            "type": "string"
           },
           {
            "metadata": {},
            "name": "event_date",
            "nullable": true,
            "type": "date"
           },
           {
            "metadata": {},
            "name": "status_rank",
            "nullable": true,
            "type": "integer"
           },
           {
            "metadata": {},
            "name": "delivery_delay_hours",
            "nullable": true,
            "type": "double"
           },
           {
            "metadata": {},
            "name": "is_delivered",
            "nullable": true,
            "type": "boolean"
           },
           {
            "metadata": {},
            "name": "is_canceled",
            "nullable": true,
            "type": "boolean"
           }
          ],
          "type": "struct"
         },
         "tableIdentifier": null,
         "typeStr": "pyspark.sql.connect.dataframe.DataFrame"
        }
       ],
       "dbfsResultPath": null,
       "isJsonSchema": true,
       "metadata": {
        "createTempViewForImplicitDf": true,
        "dataframeName": "_sqldf",
        "executionCount": 50
       },
       "overflow": false,
       "plotOptions": {
        "customPlotOptions": {},
        "displayType": "table",
        "pivotAggregation": null,
        "pivotColumns": null,
        "xColumns": null,
        "yColumns": null
       },
       "removedWidgets": [],
       "schema": [
        {
         "metadata": "{}",
         "name": "shipment_id",
         "type": "\"string\""
        },
        {
         "metadata": "{}",
         "name": "order_id",
         "type": "\"string\""
        },
        {
         "metadata": "{}",
         "name": "courier",
         "type": "\"string\""
        },
        {
         "metadata": "{}",
         "name": "dispatched_at",
         "type": "\"timestamp\""
        },
        {
         "metadata": "{}",
         "name": "delivered_at",
         "type": "\"timestamp\""
        },
        {
         "metadata": "{}",
         "name": "status",
         "type": "\"string\""
        },
        {
         "metadata": "{}",
         "name": "tracking_url",
         "type": "\"string\""
        },
        {
         "metadata": "{}",
         "name": "event_date",
         "type": "\"date\""
        },
        {
         "metadata": "{}",
         "name": "status_rank",
         "type": "\"integer\""
        },
        {
         "metadata": "{}",
         "name": "delivery_delay_hours",
         "type": "\"double\""
        },
        {
         "metadata": "{}",
         "name": "is_delivered",
         "type": "\"boolean\""
        },
        {
         "metadata": "{}",
         "name": "is_canceled",
         "type": "\"boolean\""
        }
       ],
       "type": "table"
      }
     },
     "output_type": "display_data"
    }
   ],
   "source": [
    "%sql\n",
    "select * from `e-commerce-project`.silver.shipments\n",
    "-- drop table `e-commerce-project`.silver.shipments"
   ]
  }
 ],
 "metadata": {
  "application/vnd.databricks.v1+notebook": {
   "computePreferences": {
    "hardware": {
     "accelerator": null,
     "gpuPoolId": null,
     "memory": null
    }
   },
   "dashboards": [],
   "environmentMetadata": {
    "base_environment": "",
    "environment_version": "3"
   },
   "inputWidgetPreferences": null,
   "language": "python",
   "notebookMetadata": {
    "mostRecentlyExecutedCommandWithImplicitDF": {
     "commandId": 6503167391616610,
     "dataframes": [
      "_sqldf"
     ]
    },
    "pythonIndentUnit": 4
   },
   "notebookName": "Silver",
   "widgets": {}
  },
  "language_info": {
   "name": "python"
  }
 },
 "nbformat": 4,
 "nbformat_minor": 0
}